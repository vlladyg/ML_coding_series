{
 "cells": [
  {
   "cell_type": "code",
   "execution_count": 109,
   "id": "fad2821d",
   "metadata": {},
   "outputs": [],
   "source": [
    "# reference example\n",
    "from nequip.data import dataset_from_config\n",
    "from nequip.utils import Config\n",
    "from nequip.utils.misc import get_default_device_name\n",
    "from nequip.utils.config import _GLOBAL_ALL_ASKED_FOR_KEYS\n",
    "\n",
    "from nequip.model import model_from_config\n",
    "\n",
    "\n",
    "\n",
    "\n",
    "default_config = dict(\n",
    "    root=\"./\",\n",
    "    tensorboard=False,\n",
    "    wandb=False,\n",
    "    model_builders=[\n",
    "        \"SimpleIrrepsConfig\",\n",
    "        \"EnergyModel\",\n",
    "        \"PerSpeciesRescale\",\n",
    "        \"StressForceOutput\",\n",
    "        \"RescaleEnergyEtc\",\n",
    "    ],\n",
    "    dataset_statistics_stride=1,\n",
    "    device=get_default_device_name(),\n",
    "    default_dtype=\"float64\",\n",
    "    model_dtype=\"float32\",\n",
    "    allow_tf32=True,\n",
    "    verbose=\"INFO\",\n",
    "    model_debug_mode=False,\n",
    "    equivariance_test=False,\n",
    "    grad_anomaly_mode=False,\n",
    "    gpu_oom_offload=False,\n",
    "    append=False,\n",
    "    warn_unused=False,\n",
    "    _jit_bailout_depth=2,  # avoid 20 iters of pain, see https://github.com/pytorch/pytorch/issues/52286\n",
    "    # Quote from eelison in PyTorch slack:\n",
    "    # https://pytorch.slack.com/archives/CDZD1FANA/p1644259272007529?thread_ts=1644064449.039479&cid=CDZD1FANA\n",
    "    # > Right now the default behavior is to specialize twice on static shapes and then on dynamic shapes.\n",
    "    # > To reduce warmup time you can do something like setFusionStrartegy({{FusionBehavior::DYNAMIC, 3}})\n",
    "    # > ... Although we would wouldn't really expect to recompile a dynamic shape fusion in a model,\n",
    "    # > provided broadcasting patterns remain fixed\n",
    "    # We default to DYNAMIC alone because the number of edges is always dynamic,\n",
    "    # even if the number of atoms is fixed:\n",
    "    _jit_fusion_strategy=[(\"DYNAMIC\", 3)],\n",
    "    # Due to what appear to be ongoing bugs with nvFuser, we default to NNC (fuser1) for now:\n",
    "    # TODO: still default to NNC on CPU regardless even if change this for GPU\n",
    "    # TODO: default for ROCm?\n",
    "    _jit_fuser=\"fuser1\",\n",
    ")\n",
    "\n",
    "# All default_config keys are valid / requested\n",
    "_GLOBAL_ALL_ASKED_FOR_KEYS.update(default_config.keys())"
   ]
  },
  {
   "cell_type": "code",
   "execution_count": 110,
   "id": "9d80fac7",
   "metadata": {},
   "outputs": [
    {
     "name": "stderr",
     "output_type": "stream",
     "text": [
      "search for AtomicData_options with prefix dataset\n",
      "search for r_max with prefix dataset\n",
      "          0_args :                                               r_max\n",
      "instantiate TypeMapper\n",
      "   optional_args :                             chemical_symbol_to_type\n",
      "...TypeMapper_param = dict(\n",
      "...   optional_args = {'type_names': None, 'chemical_symbol_to_type': {'H': 0, 'C': 1, 'O': 2}, 'type_to_chemical_symbol': None, 'chemical_symbols': None},\n",
      "...   positional_args = {})\n",
      "instantiate NpzDataset\n",
      "   optional_args :                                npz_fixed_field_keys\n",
      "   optional_args :                                                root\n",
      "   optional_args :                                         key_mapping\n",
      "   optional_args :                                                 url <-                                        dataset_url\n",
      "   optional_args :                                           file_name <-                                  dataset_file_name\n",
      "   optional_args :                                  AtomicData_options <-                         dataset_AtomicData_options\n",
      "...NpzDataset_param = dict(\n",
      "...   optional_args = {'key_mapping': {'z': 'atomic_numbers', 'E': 'total_energy', 'F': 'forces', 'R': 'pos'}, 'include_keys': [], 'npz_fixed_field_keys': ['atomic_numbers'], 'file_name': './benchmark_data/aspirin_ccsd-train.npz', 'url': 'http://quantum-machine.org/gdml/data/npz/aspirin_ccsd.zip', 'AtomicData_options': {'r_max': 6.0}, 'include_frames': None, 'root': 'results/aspirin'},\n",
      "...   positional_args = {'type_mapper': <nequip.data.transforms.TypeMapper object at 0x7f8c757eceb0>})\n"
     ]
    },
    {
     "data": {
      "text/plain": [
       "AtomicData(atom_types=[21, 1], cell=[3, 3], edge_cell_shift=[364, 3], edge_index=[2, 364], forces=[21, 3], pbc=[3], pos=[21, 3], total_energy=[1])"
      ]
     },
     "execution_count": 110,
     "metadata": {},
     "output_type": "execute_result"
    }
   ],
   "source": [
    "config = Config.from_file('./configs/example.yaml', defaults=default_config)\n",
    "    \n",
    "\n",
    "dataset = dataset_from_config(config, prefix=\"dataset\")\n",
    "\n",
    "validation_dataset = None\n",
    "\n",
    "dataset[0]"
   ]
  },
  {
   "cell_type": "code",
   "execution_count": 111,
   "id": "87c25eab",
   "metadata": {},
   "outputs": [
    {
     "name": "stderr",
     "output_type": "stream",
     "text": [
      "* Initialize Trainer\n",
      "* Initialize Output\n",
      "  ...generate file name results/aspirin/example/log\n",
      "  ...open log file results/aspirin/example/log\n",
      "  ...generate file name results/aspirin/example/metrics_epoch.csv\n",
      "  ...open log file results/aspirin/example/metrics_epoch.csv\n",
      "  ...generate file name results/aspirin/example/metrics_initialization.csv\n",
      "  ...open log file results/aspirin/example/metrics_initialization.csv\n",
      "  ...generate file name results/aspirin/example/metrics_batch_train.csv\n",
      "  ...open log file results/aspirin/example/metrics_batch_train.csv\n",
      "  ...generate file name results/aspirin/example/metrics_batch_val.csv\n",
      "  ...open log file results/aspirin/example/metrics_batch_val.csv\n",
      "  ...generate file name results/aspirin/example/best_model.pth\n",
      "  ...generate file name results/aspirin/example/last_model.pth\n",
      "  ...generate file name results/aspirin/example/trainer.pth\n",
      "  ...generate file name results/aspirin/example/config.yaml\n",
      "Torch device: cpu\n",
      "instantiate Loss\n",
      "...Loss_param = dict(\n",
      "...   optional_args = {},\n",
      "...   positional_args = {'coeffs': {'forces': 1.0, 'total_energy': [1.0, 'PerAtomMSELoss']}})\n",
      "instantiate MSELoss\n",
      "...MSELoss_param = dict(\n",
      "...   optional_args = {'size_average': None, 'reduce': None},\n",
      "...   positional_args = {'reduction': 'none'})\n",
      " parsing forces 1.0\n",
      " parsing 1.0 MSELoss\n",
      "instantiate MSELoss\n",
      "...MSELoss_param = dict(\n",
      "...   optional_args = {'size_average': None, 'reduce': None},\n",
      "...   positional_args = {'reduction': 'none'})\n",
      " parsing total_energy [1.0, 'PerAtomMSELoss']\n",
      " parsing 1.0 PerAtomMSELoss\n",
      "create loss instance <class 'nequip.train._loss.PerAtomLoss'>\n",
      "instantiate MSELoss\n",
      "...MSELoss_param = dict(\n",
      "...   optional_args = {'size_average': None, 'reduce': None},\n",
      "...   positional_args = {'reduction': 'none'})\n",
      "Building Allegro model...\n",
      "instantiate OneHotAtomEncoding\n",
      "        all_args :                                           num_types\n",
      "...OneHotAtomEncoding_param = dict(\n",
      "...   optional_args = {'set_features': True, 'num_types': 3},\n",
      "...   positional_args = {'irreps_in': None})\n",
      "instantiate RadialBasisEdgeEncoding\n",
      "        all_args :                                  basis_kwargs.r_max <-                                              r_max\n",
      "        all_args :            basis_kwargs.original_basis_kwargs.r_max <-                                              r_max\n",
      "        all_args :        basis_kwargs.original_basis_kwargs.trainable <-                              BesselBasis_trainable\n",
      "        all_args :                                 cutoff_kwargs.r_max <-                                              r_max\n",
      "        all_args :                                     cutoff_kwargs.p <-                                 PolynomialCutoff_p\n",
      "   optional_args :                                               basis\n",
      "   optional_args :                                           out_field\n",
      "...RadialBasisEdgeEncoding_param = dict(\n",
      "...   optional_args = {'basis': <class 'allegro.nn._norm_basis.NormalizedBasis'>, 'cutoff': <class 'nequip.nn.cutoffs.PolynomialCutoff'>, 'basis_kwargs': {'r_min': 0.0, 'original_basis': <class 'nequip.nn.radial_basis.BesselBasis'>, 'original_basis_kwargs': {'num_basis': 8, 'trainable': True, 'r_max': 6.0}, 'n': 4000, 'norm_basis_mean_shift': True, 'r_max': 6.0}, 'cutoff_kwargs': {'p': 6, 'r_max': 6.0}, 'out_field': 'edge_embedding'},\n",
      "...   positional_args = {'irreps_in': {'pos': 1x1o, 'edge_index': None, 'node_attrs': 3x0e, 'node_features': 3x0e}})\n",
      "instantiate SphericalHarmonicEdgeAttrs\n",
      "        all_args :                                      irreps_edge_sh\n",
      "...SphericalHarmonicEdgeAttrs_param = dict(\n",
      "...   optional_args = {'edge_sh_normalization': 'component', 'edge_sh_normalize': True, 'out_field': 'edge_attrs', 'irreps_edge_sh': '1x0e+1x1o+1x2e'},\n",
      "...   positional_args = {'irreps_in': {'pos': 1x1o, 'edge_index': None, 'node_attrs': 3x0e, 'node_features': 3x0e, 'edge_embedding': 8x0e, 'edge_cutoff': 1x0e}})\n",
      "instantiate Allegro_Module\n",
      "        all_args :                              env_embed_multiplicity\n",
      "        all_args :                                  embed_initial_edge\n",
      "        all_args :                                       latent_resnet\n",
      "        all_args :                                           num_types\n",
      "        all_args :                                          num_layers\n",
      "        all_args :                                  PolynomialCutoff_p\n",
      "        all_args :                           nonscalars_include_parity\n",
      "        all_args :                                               r_max\n",
      "        all_args :                                   avg_num_neighbors\n",
      "        all_args :           two_body_latent_kwargs.mlp_initialization <-                 two_body_latent_mlp_initialization\n",
      "        all_args :             two_body_latent_kwargs.mlp_nonlinearity <-                   two_body_latent_mlp_nonlinearity\n",
      "        all_args :        two_body_latent_kwargs.mlp_latent_dimensions <-              two_body_latent_mlp_latent_dimensions\n",
      "        all_args :                 env_embed_kwargs.mlp_initialization <-                       env_embed_mlp_initialization\n",
      "        all_args :                   env_embed_kwargs.mlp_nonlinearity <-                         env_embed_mlp_nonlinearity\n",
      "        all_args :              env_embed_kwargs.mlp_latent_dimensions <-                    env_embed_mlp_latent_dimensions\n",
      "        all_args :                    latent_kwargs.mlp_initialization <-                          latent_mlp_initialization\n",
      "        all_args :                      latent_kwargs.mlp_nonlinearity <-                            latent_mlp_nonlinearity\n",
      "        all_args :                 latent_kwargs.mlp_latent_dimensions <-                       latent_mlp_latent_dimensions\n",
      "   optional_args :                                               field\n",
      "   optional_args :                                edge_invariant_field\n",
      "   optional_args :                                node_invariant_field\n",
      "...Allegro_Module_param = dict(\n",
      "...   optional_args = {'avg_num_neighbors': 17.211328506469727, 'r_start_cos_ratio': 0.8, 'PolynomialCutoff_p': 6, 'per_layer_cutoffs': None, 'cutoff_type': 'polynomial', 'field': 'edge_attrs', 'edge_invariant_field': 'edge_embedding', 'node_invariant_field': 'node_attrs', 'env_embed_multiplicity': 64, 'embed_initial_edge': True, 'linear_after_env_embed': False, 'nonscalars_include_parity': True, 'two_body_latent': <class 'allegro.nn._fc.ScalarMLPFunction'>, 'two_body_latent_kwargs': {'mlp_nonlinearity': 'silu', 'mlp_initialization': 'uniform', 'mlp_dropout_p': 0.0, 'mlp_batchnorm': False, 'mlp_latent_dimensions': [128, 256, 512, 1024]}, 'env_embed': <class 'allegro.nn._fc.ScalarMLPFunction'>, 'env_embed_kwargs': {'mlp_nonlinearity': None, 'mlp_initialization': 'uniform', 'mlp_dropout_p': 0.0, 'mlp_batchnorm': False, 'mlp_latent_dimensions': []}, 'latent': <class 'allegro.nn._fc.ScalarMLPFunction'>, 'latent_kwargs': {'mlp_nonlinearity': 'silu', 'mlp_initialization': 'uniform', 'mlp_dropout_p': 0.0, 'mlp_batchnorm': False, 'mlp_latent_dimensions': [1024, 1024, 1024]}, 'latent_resnet': True, 'latent_resnet_update_ratios': None, 'latent_resnet_update_ratios_learnable': False, 'latent_out_field': 'edge_features', 'pad_to_alignment': 1, 'sparse_mode': None, 'r_max': 6.0, 'num_layers': 2, 'num_types': 3},\n",
      "...   positional_args = {'irreps_in': {'pos': 1x1o, 'edge_index': None, 'node_attrs': 3x0e, 'node_features': 3x0e, 'edge_embedding': 8x0e, 'edge_cutoff': 1x0e, 'edge_attrs': 1x0e+1x1o+1x2e}})\n",
      "instantiate ScalarMLP\n",
      "        all_args :                                  mlp_initialization <-                        edge_eng_mlp_initialization\n",
      "        all_args :                                    mlp_nonlinearity <-                          edge_eng_mlp_nonlinearity\n",
      "        all_args :                               mlp_latent_dimensions <-                     edge_eng_mlp_latent_dimensions\n",
      "   optional_args :                                               field\n",
      "   optional_args :                                mlp_output_dimension\n",
      "   optional_args :                                           out_field\n",
      "...ScalarMLP_param = dict(\n",
      "...   optional_args = {'mlp_nonlinearity': None, 'mlp_initialization': 'uniform', 'mlp_dropout_p': 0.0, 'mlp_batchnorm': False, 'field': 'edge_features', 'out_field': 'edge_energy', 'mlp_latent_dimensions': [128], 'mlp_output_dimension': 1},\n"
     ]
    },
    {
     "name": "stderr",
     "output_type": "stream",
     "text": [
      "...   positional_args = {'irreps_in': {'pos': 1x1o, 'edge_index': None, 'node_attrs': 3x0e, 'node_features': 3x0e, 'edge_embedding': 8x0e, 'edge_cutoff': 1x0e, 'edge_attrs': 1x0e+1x1o+1x2e, 'edge_features': 1024x0e}})\n",
      "instantiate EdgewiseEnergySum\n",
      "        all_args :                                           num_types\n",
      "        all_args :                                   avg_num_neighbors\n",
      "...EdgewiseEnergySum_param = dict(\n",
      "...   optional_args = {'avg_num_neighbors': 17.211328506469727, 'normalize_edge_energy_sum': True, 'per_edge_species_scale': False, 'num_types': 3},\n",
      "...   positional_args = {'irreps_in': {'pos': 1x1o, 'edge_index': None, 'node_attrs': 3x0e, 'node_features': 3x0e, 'edge_embedding': 8x0e, 'edge_cutoff': 1x0e, 'edge_attrs': 1x0e+1x1o+1x2e, 'edge_features': 1024x0e, 'edge_energy': 1x0e}})\n",
      "instantiate AtomwiseReduce\n",
      "   optional_args :                                               field\n",
      "   optional_args :                                              reduce\n",
      "   optional_args :                                           out_field\n",
      "...AtomwiseReduce_param = dict(\n",
      "...   optional_args = {'out_field': 'total_energy', 'reduce': 'sum', 'avg_num_atoms': None, 'field': 'atomic_energy'},\n",
      "...   positional_args = {'irreps_in': {'pos': 1x1o, 'edge_index': None, 'node_attrs': 3x0e, 'node_features': 3x0e, 'edge_embedding': 8x0e, 'edge_cutoff': 1x0e, 'edge_attrs': 1x0e+1x1o+1x2e, 'edge_features': 1024x0e, 'edge_energy': 1x0e, 'atomic_energy': 1x0e}})\n",
      "Replace string dataset_per_atom_total_energy_mean to -19318.35546875\n",
      "Atomic outputs are scaled by: [H, C, O: None], shifted by [H, C, O: -19318.355469].\n",
      "instantiate PerSpeciesScaleShift\n",
      "        all_args :                                           num_types\n",
      "        all_args :                                       default_dtype\n",
      "        all_args :                                          type_names\n",
      "   optional_args :                                              shifts\n",
      "   optional_args :                                           out_field\n",
      "   optional_args :                                               field\n",
      "   optional_args :                          arguments_in_dataset_units\n",
      "   optional_args :                                              scales\n",
      "...PerSpeciesScaleShift_param = dict(\n",
      "...   optional_args = {'out_field': 'atomic_energy', 'scales_trainable': False, 'shifts_trainable': False, 'default_dtype': 'float32', 'num_types': 3, 'type_names': ['H', 'C', 'O'], 'field': 'atomic_energy', 'shifts': tensor(-19318.3555), 'scales': None, 'arguments_in_dataset_units': True},\n",
      "...   positional_args = {'irreps_in': {'pos': 1x1o, 'edge_index': None, 'node_attrs': 3x0e, 'node_features': 3x0e, 'edge_embedding': 8x0e, 'edge_cutoff': 1x0e, 'edge_attrs': 1x0e+1x1o+1x2e, 'edge_features': 1024x0e, 'edge_energy': 1x0e, 'atomic_energy': 1x0e}})\n",
      "Replace string dataset_forces_rms to 31.252248764038086\n",
      "Initially outputs are globally scaled by: 31.252248764038086, total_energy are globally shifted by None.\n",
      "PerSpeciesScaleShift's arguments were in dataset units; rescaling:\n",
      "  Original scales: n/a shifts: [H: -19318.355469, C: -19318.355469, O: -19318.355469]\n",
      "  New scales: n/a shifts: [H: -618.142883, C: -618.142883, O: -618.142883]\n"
     ]
    }
   ],
   "source": [
    "# Trainer\n",
    "from nequip.train.trainer import Trainer\n",
    "\n",
    "trainer = Trainer(model=None, **Config.as_dict(config))\n",
    "\n",
    "# what is this\n",
    "# to update wandb data?\n",
    "config.update(trainer.params)\n",
    "\n",
    "# = Train/test split =\n",
    "trainer.set_dataset(dataset, validation_dataset)\n",
    "\n",
    "# = Build model =\n",
    "final_model = model_from_config(\n",
    "    config=config, initialize=True, dataset=trainer.dataset_train\n",
    ")"
   ]
  },
  {
   "cell_type": "code",
   "execution_count": 112,
   "id": "8ea3507b",
   "metadata": {},
   "outputs": [
    {
     "data": {
      "text/plain": [
       "GraphModel(\n",
       "  (model): RescaleOutput(\n",
       "    (model): GradientOutput(\n",
       "      (func): SequentialGraphNetwork(\n",
       "        (one_hot): OneHotAtomEncoding()\n",
       "        (radial_basis): RadialBasisEdgeEncoding(\n",
       "          (basis): NormalizedBasis(\n",
       "            (basis): BesselBasis()\n",
       "          )\n",
       "          (cutoff): PolynomialCutoff()\n",
       "        )\n",
       "        (spharm): SphericalHarmonicEdgeAttrs(\n",
       "          (sh): SphericalHarmonics()\n",
       "        )\n",
       "        (allegro): Allegro_Module(\n",
       "          (latents): ModuleList(\n",
       "            (0-1): 2 x ScalarMLPFunction(\n",
       "              (_forward): RecursiveScriptModule(original_name=GraphModule)\n",
       "            )\n",
       "          )\n",
       "          (env_embed_mlps): ModuleList(\n",
       "            (0-1): 2 x ScalarMLPFunction(\n",
       "              (_forward): RecursiveScriptModule(original_name=GraphModule)\n",
       "            )\n",
       "          )\n",
       "          (tps): ModuleList(\n",
       "            (0-1): 2 x RecursiveScriptModule(original_name=GraphModule)\n",
       "          )\n",
       "          (linears): ModuleList(\n",
       "            (0-1): 2 x RecursiveScriptModule(original_name=GraphModule)\n",
       "          )\n",
       "          (env_linears): ModuleList(\n",
       "            (0-1): 2 x Identity()\n",
       "          )\n",
       "          (_env_weighter): MakeWeightedChannels()\n",
       "          (final_latent): ScalarMLPFunction(\n",
       "            (_forward): RecursiveScriptModule(original_name=GraphModule)\n",
       "          )\n",
       "        )\n",
       "        (edge_eng): ScalarMLP(\n",
       "          (_module): ScalarMLPFunction(\n",
       "            (_forward): RecursiveScriptModule(original_name=GraphModule)\n",
       "          )\n",
       "        )\n",
       "        (edge_eng_sum): EdgewiseEnergySum()\n",
       "        (per_species_rescale): PerSpeciesScaleShift()\n",
       "        (total_energy_sum): AtomwiseReduce()\n",
       "      )\n",
       "    )\n",
       "  )\n",
       ")"
      ]
     },
     "execution_count": 112,
     "metadata": {},
     "output_type": "execute_result"
    }
   ],
   "source": [
    "final_model"
   ]
  },
  {
   "cell_type": "code",
   "execution_count": 113,
   "id": "11a4fb7d",
   "metadata": {},
   "outputs": [],
   "source": [
    "from e3nn import o3\n",
    "\n",
    "l_max = 2\n",
    "\n",
    "irreps_edge_sh = repr(\n",
    "            o3.Irreps.spherical_harmonics(\n",
    "                l_max, p=(-1)\n",
    "            )\n",
    "        )"
   ]
  },
  {
   "cell_type": "code",
   "execution_count": 114,
   "id": "f4bb8134",
   "metadata": {},
   "outputs": [
    {
     "data": {
      "text/plain": [
       "'1x0e+1x1o+1x2e'"
      ]
     },
     "execution_count": 114,
     "metadata": {},
     "output_type": "execute_result"
    }
   ],
   "source": [
    "irreps_edge_sh"
   ]
  },
  {
   "cell_type": "code",
   "execution_count": 115,
   "id": "96a9dbd4",
   "metadata": {},
   "outputs": [],
   "source": [
    "import torch\n",
    "from torch.nn.functional import one_hot\n",
    "from nequip.data import AtomicData, AtomicDataDict\n",
    "from torch.nn.functional import one_hot\n",
    "from e3nn.nn import FullyConnectedNet\n",
    "    \n",
    "from torch import nn\n",
    "import math\n",
    "\n",
    "\n",
    "data = AtomicData.to_AtomicDataDict(dataset[0])\n",
    "\n",
    "\n",
    "\n",
    "# edge length embedding\n",
    "torch.manual_seed(32)\n",
    "\n",
    "num_basis = 8\n",
    "r_max = 5\n",
    "\n",
    "\n",
    "data_my = {key: torch.clone(data[key]) for key in data}\n",
    "data_my = AtomicDataDict.with_edge_vectors(data_my, with_lengths=True)\n",
    "\n",
    "edge_length = data_my['edge_lengths']\n",
    "\n",
    "bessel_weights = (torch.linspace(start=1.0, end=num_basis, steps=num_basis) * math.pi)\n",
    "bessel_weights = nn.Parameter(bessel_weights)\n",
    "\n",
    "edge_length_embedding = 2/r_max*torch.sin(bessel_weights * edge_length.unsqueeze(-1) / r_max)/edge_length.unsqueeze(-1)\n",
    "\n",
    "# cutoff\n",
    "factor = 1/r_max\n",
    "p = 6\n",
    "    \n",
    "x = edge_length * factor\n",
    "\n",
    "cutoff = 1.0\n",
    "cutoff = cutoff - (((p + 1.0) * (p + 2.0) / 2.0) * torch.pow(x, p))\n",
    "cutoff = cutoff + (p * (p + 2.0) * torch.pow(x, p + 1.0))\n",
    "cutoff = cutoff - ((p * (p + 1.0) / 2) * torch.pow(x, p + 2.0))\n",
    "cutoff *= (x < 1.0)\n",
    "\n",
    "cutoff = cutoff.unsqueeze(-1)\n",
    "\n",
    "data_my['edge_embedding'] = edge_length_embedding * cutoff\n",
    "\n",
    "# types embedding\n",
    "num_classes = 3\n",
    "\n",
    "\n",
    "edge_ind = data_my['edge_index']\n",
    "\n",
    "types_embed = one_hot(dataset[0]['atom_types'], num_classes)\n",
    "types_src = types_embed[edge_ind[0]].squeeze(1)\n",
    "types_dst = types_embed[edge_ind[1]].squeeze(1)\n",
    "\n",
    "\n",
    "\n",
    "# latent vector\n",
    "latent_vector = torch.concatenate([types_src, types_dst, edge_length_embedding], dim = 1)\n",
    "\n",
    "# MLP\n",
    "invariant_layers = 2\n",
    "invariant_neurons = 64\n",
    "out_neurons = 32\n",
    "\n",
    "fc = FullyConnectedNet(\n",
    "    [latent_vector.shape[1]]\n",
    "    + invariant_layers * [invariant_neurons]\n",
    "    + [out_neurons],\n",
    "    torch.nn.functional.silu)\n",
    "\n",
    "latent_vector_out = fc(latent_vector)\n",
    "\n",
    "\n",
    "data_my['scalar'] = latent_vector_out"
   ]
  },
  {
   "cell_type": "code",
   "execution_count": 116,
   "id": "7c708419",
   "metadata": {},
   "outputs": [
    {
     "data": {
      "text/plain": [
       "torch.Size([364, 14])"
      ]
     },
     "execution_count": 116,
     "metadata": {},
     "output_type": "execute_result"
    }
   ],
   "source": [
    "latent_vector.shape"
   ]
  },
  {
   "cell_type": "code",
   "execution_count": 117,
   "id": "89c32180",
   "metadata": {},
   "outputs": [
    {
     "data": {
      "text/plain": [
       "torch.Size([364, 32])"
      ]
     },
     "execution_count": 117,
     "metadata": {},
     "output_type": "execute_result"
    }
   ],
   "source": [
    "latent_vector_out.shape"
   ]
  },
  {
   "cell_type": "code",
   "execution_count": 118,
   "id": "018f85fb",
   "metadata": {},
   "outputs": [
    {
     "data": {
      "text/plain": [
       "torch.Size([364, 32])"
      ]
     },
     "execution_count": 118,
     "metadata": {},
     "output_type": "execute_result"
    }
   ],
   "source": [
    "from nequip.nn import AtomwiseLinear\n",
    "from e3nn.o3 import Irreps\n",
    "\n",
    "\n",
    "#data2_my = {key: torch.clone(data_my[key]) for key in data_my}\n",
    "\n",
    "linear1 = o3.Linear('32x0e', '32x0e')\n",
    "\n",
    "weight1 = linear1(latent_vector_out)\n",
    "weight1.shape"
   ]
  },
  {
   "cell_type": "code",
   "execution_count": 119,
   "id": "fae20a2a",
   "metadata": {},
   "outputs": [],
   "source": [
    "from torch import nn\n",
    "import math\n",
    "\n",
    "\n",
    "torch.manual_seed(32)\n",
    "\n",
    "\n",
    "l_max = 2\n",
    "irreps_edge_sh = o3.Irreps.spherical_harmonics(2)\n",
    "\n",
    "data2_my = {key: torch.clone(data_my[key]) for key in data_my}\n",
    "data2_my = AtomicDataDict.with_edge_vectors(data2_my, with_lengths=False)\n",
    "\n",
    "\n",
    "harm_gen = o3.SphericalHarmonics(irreps_edge_sh, True, 'component')\n",
    "\n",
    "edge_vec = data_my['edge_vectors']\n",
    "\n",
    "harm_edge = harm_gen(edge_vec)\n",
    "harm_edge.shape\n",
    "\n",
    "\n",
    "data2_my['edge_features'] = harm_edge"
   ]
  },
  {
   "cell_type": "code",
   "execution_count": 120,
   "id": "70f558c8",
   "metadata": {},
   "outputs": [
    {
     "data": {
      "text/plain": [
       "torch.Size([364, 32, 9])"
      ]
     },
     "execution_count": 120,
     "metadata": {},
     "output_type": "execute_result"
    }
   ],
   "source": [
    "from e3nn.o3 import TensorProduct, Linear, FullyConnectedTensorProduct\n",
    "from torch_runstats.scatter import scatter\n",
    "\n",
    "x = data2_my['edge_features']\n",
    "edge_src = data2_my['edge_index'][1]\n",
    "edge_dst = data2_my['edge_index'][0]\n",
    "\n",
    "\n",
    "term_1 = harm_edge\n",
    "edge_features = torch.einsum('ij,ib->ijb', weight1[edge_src], harm_edge[edge_src])\n",
    "\n",
    "# TODO: Check if it really right result\n",
    "edge_features = scatter(edge_features, edge_dst, dim=0, dim_size=len(x))\n",
    "edge_features.shape"
   ]
  },
  {
   "cell_type": "code",
   "execution_count": 121,
   "id": "468f7063",
   "metadata": {},
   "outputs": [
    {
     "data": {
      "text/plain": [
       "FullyConnectedTensorProduct(1x0e+1x1o+1x2e x 32x0e+32x1o+32x2e -> 32x0e+32x0o+32x1e+32x1o+32x2e+32x2o | 15360 paths | 15360 weights)"
      ]
     },
     "execution_count": 121,
     "metadata": {},
     "output_type": "execute_result"
    }
   ],
   "source": [
    "from e3nn.o3 import TensorProduct, Linear, FullyConnectedTensorProduct\n",
    "\n",
    "hidden_layer_irrep = o3.Irreps(\"32x0e + 32x0o + 32x1e + 32x1o + 32x2e + 32x2o\")\n",
    "\n",
    "irreps_in = o3.Irreps(\"1x0e + 1x1o + 1x2e\")\n",
    "irreps_edge = o3.Irreps(\"32x0e + 32x1o + 32x2e\")\n",
    "\n",
    "\n",
    "irreps_mid = []\n",
    "instructions = []\n",
    "\n",
    "# instructions means stuff for multiplicities\n",
    "for i, (_, ir_in) in enumerate(irreps_in):\n",
    "    for j, (mul, ir_edge) in enumerate(irreps_edge):\n",
    "        for ir_out in ir_in * ir_edge:\n",
    "            if ir_out in hidden_layer_irrep:\n",
    "                k = len(irreps_mid)\n",
    "                irreps_mid.append((mul, ir_out))\n",
    "                instructions.append((i, j, k, \"uvu\", True))\n",
    "\n",
    "# We sort the output irreps of the tensor product so that we can simplify them\n",
    "# when they are provided to the second o3.Linear\n",
    "irreps_mid = o3.Irreps(irreps_mid)\n",
    "irreps_mid, p, _ = irreps_mid.sort()\n",
    "\n",
    "fctp = FullyConnectedTensorProduct(\n",
    "            irreps_in,\n",
    "            irreps_edge,\n",
    "            hidden_layer_irrep\n",
    "        )\n",
    "\n",
    "fctp"
   ]
  },
  {
   "cell_type": "code",
   "execution_count": 122,
   "id": "f2b1d2aa",
   "metadata": {},
   "outputs": [
    {
     "name": "stdout",
     "output_type": "stream",
     "text": [
      "2e\n"
     ]
    }
   ],
   "source": [
    "irreps_scalar = o3.Irreps('32x0e')\n",
    "\n",
    "for el in irreps_scalar[0][1] * irreps_in[2][1]:\n",
    "    print(el)"
   ]
  },
  {
   "cell_type": "code",
   "execution_count": 123,
   "id": "8f8c94ef",
   "metadata": {},
   "outputs": [
    {
     "data": {
      "text/plain": [
       "32x0e+1x0e+1x1o+1x2e"
      ]
     },
     "execution_count": 123,
     "metadata": {},
     "output_type": "execute_result"
    }
   ],
   "source": [
    "irreps_scalar + irreps_in"
   ]
  },
  {
   "cell_type": "code",
   "execution_count": 124,
   "id": "1f6217f4",
   "metadata": {},
   "outputs": [
    {
     "data": {
      "text/plain": [
       "32x0e+32x1o+32x2e"
      ]
     },
     "execution_count": 124,
     "metadata": {},
     "output_type": "execute_result"
    }
   ],
   "source": [
    "irreps_edge"
   ]
  },
  {
   "cell_type": "code",
   "execution_count": 125,
   "id": "2fdd9e36",
   "metadata": {},
   "outputs": [
    {
     "data": {
      "image/png": "[encoded data removed]",
      "text/plain": [
       "<Figure size 640x480 with 1 Axes>"
      ]
     },
     "metadata": {},
     "output_type": "display_data"
    }
   ],
   "source": [
    "from e3nn.o3 import FullTensorProduct\n",
    "\n",
    "#fctp(irrep_in, o3.Irreps('32x0e'))\n",
    "irreps_scalar = o3.Irreps('32x0e')\n",
    "\n",
    "\n",
    "fctp_simple = FullyConnectedTensorProduct(\n",
    "            irreps_scalar,\n",
    "            irreps_in,\n",
    "            irreps_edge\n",
    ")\n",
    "\n",
    "fctp_simple.visualize();"
   ]
  },
  {
   "cell_type": "code",
   "execution_count": 126,
   "id": "ee46a3d4",
   "metadata": {},
   "outputs": [
    {
     "data": {
      "text/plain": [
       "FullyConnectedTensorProduct(32x0e x 1x0e+1x1o+1x2e -> 32x0e+32x1o+32x2e | 3072 paths | 3072 weights)"
      ]
     },
     "execution_count": 126,
     "metadata": {},
     "output_type": "execute_result"
    }
   ],
   "source": [
    "fctp_simple"
   ]
  },
  {
   "cell_type": "code",
   "execution_count": 127,
   "id": "8a01e1a4",
   "metadata": {},
   "outputs": [
    {
     "data": {
      "text/plain": [
       "(<Figure size 640x480 with 1 Axes>, <Axes: >)"
      ]
     },
     "execution_count": 127,
     "metadata": {},
     "output_type": "execute_result"
    },
    {
     "data": {
      "image/png": "[encoded data removed]",
      "text/plain": [
       "<Figure size 640x480 with 1 Axes>"
      ]
     },
     "metadata": {},
     "output_type": "display_data"
    }
   ],
   "source": [
    "fctp.visualize()"
   ]
  },
  {
   "cell_type": "code",
   "execution_count": 128,
   "id": "62eeca5c",
   "metadata": {},
   "outputs": [],
   "source": [
    "edge_features_simple = fctp_simple(weight1, harm_edge)"
   ]
  },
  {
   "cell_type": "code",
   "execution_count": 214,
   "id": "d54f9d4e",
   "metadata": {},
   "outputs": [
    {
     "data": {
      "text/plain": [
       "(torch.Size([364]), torch.Size([364, 288]))"
      ]
     },
     "execution_count": 214,
     "metadata": {},
     "output_type": "execute_result"
    }
   ],
   "source": [
    "edge_dst.shape, edge_features_simple.shape"
   ]
  },
  {
   "cell_type": "code",
   "execution_count": 215,
   "id": "72ec3bbd",
   "metadata": {},
   "outputs": [
    {
     "data": {
      "text/plain": [
       "torch.Size([364, 288])"
      ]
     },
     "execution_count": 215,
     "metadata": {},
     "output_type": "execute_result"
    }
   ],
   "source": [
    "# TODO: Check if it really right result\n",
    "edge_features_simple = scatter(edge_features_simple, edge_dst, dim=0, dim_size=len(x))\n",
    "edge_features_simple.shape"
   ]
  },
  {
   "cell_type": "code",
   "execution_count": 129,
   "id": "57e4b9ed",
   "metadata": {},
   "outputs": [
    {
     "data": {
      "text/plain": [
       "32x0e+32x1o+32x2e"
      ]
     },
     "execution_count": 129,
     "metadata": {},
     "output_type": "execute_result"
    }
   ],
   "source": [
    "fctp_simple.irreps_out"
   ]
  },
  {
   "cell_type": "code",
   "execution_count": 211,
   "id": "b5fb994a",
   "metadata": {},
   "outputs": [
    {
     "data": {
      "text/plain": [
       "torch.Size([364, 288])"
      ]
     },
     "execution_count": 211,
     "metadata": {},
     "output_type": "execute_result"
    }
   ],
   "source": [
    "edge_features_simple.shape"
   ]
  },
  {
   "cell_type": "code",
   "execution_count": 130,
   "id": "e79b4b56",
   "metadata": {},
   "outputs": [
    {
     "data": {
      "text/plain": [
       "32.0"
      ]
     },
     "execution_count": 130,
     "metadata": {},
     "output_type": "execute_result"
    }
   ],
   "source": [
    "288/9."
   ]
  },
  {
   "cell_type": "code",
   "execution_count": 131,
   "id": "b6a43c49",
   "metadata": {},
   "outputs": [
    {
     "data": {
      "text/plain": [
       "288"
      ]
     },
     "execution_count": 131,
     "metadata": {},
     "output_type": "execute_result"
    }
   ],
   "source": [
    "irreps_edge.dim"
   ]
  },
  {
   "cell_type": "code",
   "execution_count": 132,
   "id": "4aba2455",
   "metadata": {},
   "outputs": [
    {
     "data": {
      "text/plain": [
       "tensor([[ 0.7318,  1.5868,  3.1454,  ...,  1.4503, -1.1855,  0.3548],\n",
       "        [ 0.1975,  1.8518,  4.1484,  ...,  0.5697, -0.9912, -0.1461],\n",
       "        [ 0.7615,  0.9864,  3.7604,  ...,  1.7781, -0.9809,  0.9555],\n",
       "        ...,\n",
       "        [ 0.0000,  0.0000,  0.0000,  ...,  0.0000,  0.0000,  0.0000],\n",
       "        [ 0.0000,  0.0000,  0.0000,  ...,  0.0000,  0.0000,  0.0000],\n",
       "        [ 0.0000,  0.0000,  0.0000,  ...,  0.0000,  0.0000,  0.0000]],\n",
       "       grad_fn=<UnsafeViewBackward0>)"
      ]
     },
     "execution_count": 132,
     "metadata": {},
     "output_type": "execute_result"
    }
   ],
   "source": [
    "torch.flatten(edge_features.transpose(2, 1), -2)"
   ]
  },
  {
   "cell_type": "code",
   "execution_count": 133,
   "id": "8c750875",
   "metadata": {},
   "outputs": [
    {
     "data": {
      "text/plain": [
       "tensor([[ 0.4358,  0.2429,  0.0602,  ..., -0.1739,  0.0542, -0.0092],\n",
       "        [-0.0934, -0.1033,  0.2173,  ..., -0.0479,  0.1380, -0.0077],\n",
       "        [-0.1859, -0.0500,  0.4671,  ...,  0.0579,  0.1516, -0.1135],\n",
       "        ...,\n",
       "        [ 0.5480, -0.0065,  0.2722,  ...,  0.0587, -0.0618,  0.0154],\n",
       "        [ 0.5787,  0.1965,  0.0069,  ...,  0.0220,  0.0511,  0.1392],\n",
       "        [ 0.4469, -0.0398,  0.2074,  ..., -0.0642, -0.0496,  0.0012]],\n",
       "       grad_fn=<ReshapeAliasBackward0>)"
      ]
     },
     "execution_count": 133,
     "metadata": {},
     "output_type": "execute_result"
    }
   ],
   "source": [
    "edge_features_simple"
   ]
  },
  {
   "cell_type": "code",
   "execution_count": 134,
   "id": "3c485448",
   "metadata": {},
   "outputs": [],
   "source": [
    "out = fctp(harm_edge, edge_features_simple)"
   ]
  },
  {
   "cell_type": "code",
   "execution_count": 135,
   "id": "3d55c973",
   "metadata": {},
   "outputs": [
    {
     "data": {
      "text/plain": [
       "torch.Size([364, 576])"
      ]
     },
     "execution_count": 135,
     "metadata": {},
     "output_type": "execute_result"
    }
   ],
   "source": [
    "out.shape"
   ]
  },
  {
   "cell_type": "code",
   "execution_count": 136,
   "id": "788810b0",
   "metadata": {},
   "outputs": [
    {
     "data": {
      "text/plain": [
       "torch.Size([364, 9, 1])"
      ]
     },
     "execution_count": 136,
     "metadata": {},
     "output_type": "execute_result"
    }
   ],
   "source": [
    "harm_edge.unsqueeze(-1).shape"
   ]
  },
  {
   "cell_type": "code",
   "execution_count": 137,
   "id": "ccac2e3c",
   "metadata": {},
   "outputs": [
    {
     "data": {
      "text/plain": [
       "torch.Size([364, 9, 32])"
      ]
     },
     "execution_count": 137,
     "metadata": {},
     "output_type": "execute_result"
    }
   ],
   "source": [
    "(edge_features.transpose(2, 1)).shape"
   ]
  },
  {
   "cell_type": "code",
   "execution_count": 138,
   "id": "6eb25f21",
   "metadata": {},
   "outputs": [
    {
     "data": {
      "text/plain": [
       "torch.Size([364, 32, 9])"
      ]
     },
     "execution_count": 138,
     "metadata": {},
     "output_type": "execute_result"
    }
   ],
   "source": [
    "edge_features.shape"
   ]
  },
  {
   "cell_type": "code",
   "execution_count": 139,
   "id": "0717d198",
   "metadata": {},
   "outputs": [
    {
     "data": {
      "text/plain": [
       "32x0e+32x0o+32x1e+32x1o+32x2e+32x2o"
      ]
     },
     "execution_count": 139,
     "metadata": {},
     "output_type": "execute_result"
    }
   ],
   "source": [
    "hidden_layer_irrep"
   ]
  },
  {
   "cell_type": "code",
   "execution_count": 140,
   "id": "81cc6e96",
   "metadata": {},
   "outputs": [
    {
     "data": {
      "text/plain": [
       "torch.Size([364, 576])"
      ]
     },
     "execution_count": 140,
     "metadata": {},
     "output_type": "execute_result"
    }
   ],
   "source": [
    "out.shape"
   ]
  },
  {
   "cell_type": "code",
   "execution_count": 141,
   "id": "b8a797ca",
   "metadata": {},
   "outputs": [
    {
     "data": {
      "text/plain": [
       "(32x0e, 32x0o+32x1e+32x1o+32x2e+32x2o)"
      ]
     },
     "execution_count": 141,
     "metadata": {},
     "output_type": "execute_result"
    }
   ],
   "source": [
    "from e3nn.nn import Extract\n",
    "\n",
    "irreps_scalar = []\n",
    "irreps_features = []\n",
    "for ir in hidden_layer_irrep:\n",
    "    if ir.ir[1] == 1 and ir.ir[0] == 0:\n",
    "        irreps_scalar.append(ir)\n",
    "    else:\n",
    "        irreps_features.append(ir)\n",
    "        \n",
    "irreps_scalar = o3.Irreps(irreps_scalar)\n",
    "irreps_features = o3.Irreps(irreps_features)\n",
    "\n",
    "Extract_new = Extract(hidden_layer_irrep,\n",
    "        [irreps_scalar, irreps_features],\n",
    "        instructions=[(0,), (1, 2, 3, 4, 5)])\n",
    "out2 = Extract_new(out)\n",
    "\n",
    "Extract_new.irreps_outs"
   ]
  },
  {
   "cell_type": "code",
   "execution_count": 142,
   "id": "4115a7d6",
   "metadata": {},
   "outputs": [
    {
     "data": {
      "text/plain": [
       "(torch.Size([364, 32]), torch.Size([364, 544]), torch.Size([364, 576]))"
      ]
     },
     "execution_count": 142,
     "metadata": {},
     "output_type": "execute_result"
    }
   ],
   "source": [
    "out2[0].shape, out2[1].shape, out.shape"
   ]
  },
  {
   "cell_type": "code",
   "execution_count": 143,
   "id": "5b6ab7c2",
   "metadata": {},
   "outputs": [],
   "source": [
    "in_1 = o3.Irreps('32x0e')\n",
    "in_2 = o3.Irreps('32x0e')\n",
    "\n",
    "ir_out2 = in_1 + in_2\n",
    "\n",
    "scalar_concat = torch.concatenate([latent_vector_out, out2[0]], dim = -1)\n",
    "\n",
    "linear_scalar = o3.Linear(ir_out2, '32x0e')\n",
    "linear_features = o3.Linear(hidden_layer_irrep, hidden_layer_irrep)\n",
    "\n",
    "\n",
    "\n",
    "data2_my['scalar'] = linear_scalar(scalar_concat) + latent_vector_out\n",
    "data2_my['edge_attrs'] = linear_features(out)"
   ]
  },
  {
   "cell_type": "code",
   "execution_count": 144,
   "id": "a32df3fa",
   "metadata": {},
   "outputs": [
    {
     "data": {
      "text/plain": [
       "torch.Size([364, 64])"
      ]
     },
     "execution_count": 144,
     "metadata": {},
     "output_type": "execute_result"
    }
   ],
   "source": [
    "scalar_concat.shape"
   ]
  },
  {
   "cell_type": "code",
   "execution_count": 145,
   "id": "4e830704",
   "metadata": {},
   "outputs": [
    {
     "data": {
      "text/plain": [
       "tensor([[ 1.3139e+00, -2.4648e-01,  1.6916e-01,  ..., -3.3003e-11,\n",
       "         -4.8352e-09, -1.2234e-08],\n",
       "        [ 2.9000e-01, -2.0324e-01, -4.1241e-01,  ...,  1.3566e-08,\n",
       "          6.7003e-10,  1.9372e-08],\n",
       "        [ 4.8424e-01, -4.4305e-01, -5.7961e-01,  ...,  3.3228e-08,\n",
       "         -8.5554e-09,  3.1061e-08],\n",
       "        ...,\n",
       "        [ 4.6569e-01, -1.0972e-01, -1.0467e+00,  ...,  2.3865e-09,\n",
       "         -1.8950e-09,  9.3193e-09],\n",
       "        [ 5.7308e-01,  2.3324e-01, -5.5974e-01,  ..., -5.8197e-09,\n",
       "          3.5124e-09,  6.4270e-09],\n",
       "        [ 3.4732e-01, -1.2064e-01, -8.0295e-01,  ..., -2.2096e-08,\n",
       "         -5.0704e-09,  7.6489e-09]], grad_fn=<ReshapeAliasBackward0>)"
      ]
     },
     "execution_count": 145,
     "metadata": {},
     "output_type": "execute_result"
    }
   ],
   "source": [
    "out"
   ]
  },
  {
   "cell_type": "code",
   "execution_count": 146,
   "id": "062c277a",
   "metadata": {},
   "outputs": [
    {
     "data": {
      "text/plain": [
       "[slice(0, 32, None),\n",
       " slice(32, 128, None),\n",
       " slice(128, 224, None),\n",
       " slice(224, 384, None),\n",
       " slice(384, 544, None)]"
      ]
     },
     "execution_count": 146,
     "metadata": {},
     "output_type": "execute_result"
    }
   ],
   "source": [
    "Extract_new.irreps_outs[1].slices()"
   ]
  },
  {
   "cell_type": "code",
   "execution_count": 147,
   "id": "25e3ac21",
   "metadata": {},
   "outputs": [
    {
     "data": {
      "text/plain": [
       "(tensor([1.]), tensor([2.]))"
      ]
     },
     "execution_count": 147,
     "metadata": {},
     "output_type": "execute_result"
    }
   ],
   "source": [
    "c = Extract('1e + 0e + 0e', ['0e', '0e'], [(1,), (2,)])\n",
    "c(torch.tensor([0.0, 0.0, 0.0, 1.0, 2.0]))"
   ]
  },
  {
   "cell_type": "code",
   "execution_count": 148,
   "id": "bcde216c",
   "metadata": {},
   "outputs": [
    {
     "data": {
      "text/plain": [
       "(6, 1, 5)"
      ]
     },
     "execution_count": 148,
     "metadata": {},
     "output_type": "execute_result"
    }
   ],
   "source": [
    "len(hidden_layer_irrep), len(irreps_scalar), len(irreps_features)"
   ]
  },
  {
   "cell_type": "code",
   "execution_count": 149,
   "id": "30593da5",
   "metadata": {},
   "outputs": [
    {
     "data": {
      "text/plain": [
       "(32, 32, 96, 96, 160, 160)"
      ]
     },
     "execution_count": 149,
     "metadata": {},
     "output_type": "execute_result"
    }
   ],
   "source": [
    "tuple(el.dim for el in hidden_layer_irrep)"
   ]
  },
  {
   "cell_type": "code",
   "execution_count": 150,
   "id": "b431ecd7",
   "metadata": {},
   "outputs": [
    {
     "data": {
      "text/plain": [
       "(32, 96, 96, 160, 160)"
      ]
     },
     "execution_count": 150,
     "metadata": {},
     "output_type": "execute_result"
    }
   ],
   "source": [
    "tuple(el.dim for el in irreps_features)"
   ]
  },
  {
   "cell_type": "code",
   "execution_count": 151,
   "id": "f68958ff",
   "metadata": {},
   "outputs": [
    {
     "data": {
      "text/plain": [
       "32x0e+32x0o+32x1e+32x1o+32x2e+32x2o"
      ]
     },
     "execution_count": 151,
     "metadata": {},
     "output_type": "execute_result"
    }
   ],
   "source": [
    "hidden_layer_irrep"
   ]
  },
  {
   "cell_type": "code",
   "execution_count": 152,
   "id": "067d58a9",
   "metadata": {},
   "outputs": [
    {
     "data": {
      "text/plain": [
       "5"
      ]
     },
     "execution_count": 152,
     "metadata": {},
     "output_type": "execute_result"
    }
   ],
   "source": [
    "len(irreps_features)\n"
   ]
  },
  {
   "cell_type": "code",
   "execution_count": 153,
   "id": "d041d704",
   "metadata": {},
   "outputs": [
    {
     "data": {
      "text/plain": [
       "32x0o+32x1e+32x1o+32x2e+32x2o"
      ]
     },
     "execution_count": 153,
     "metadata": {},
     "output_type": "execute_result"
    }
   ],
   "source": [
    "irreps_features"
   ]
  },
  {
   "cell_type": "code",
   "execution_count": 154,
   "id": "7382a8d4",
   "metadata": {},
   "outputs": [
    {
     "data": {
      "text/plain": [
       "544"
      ]
     },
     "execution_count": 154,
     "metadata": {},
     "output_type": "execute_result"
    }
   ],
   "source": [
    "\n",
    "\n",
    "irreps_features.dim"
   ]
  },
  {
   "cell_type": "code",
   "execution_count": 155,
   "id": "857ce025",
   "metadata": {},
   "outputs": [
    {
     "data": {
      "text/plain": [
       "32x0o+32x1e+32x1o+32x2e+32x2o"
      ]
     },
     "execution_count": 155,
     "metadata": {},
     "output_type": "execute_result"
    }
   ],
   "source": [
    "irreps_features"
   ]
  },
  {
   "cell_type": "code",
   "execution_count": 156,
   "id": "f1b1e51a",
   "metadata": {},
   "outputs": [
    {
     "name": "stdout",
     "output_type": "stream",
     "text": [
      "node_attrs\n",
      "edge_attrs\n",
      "edge_embedding\n"
     ]
    }
   ],
   "source": [
    "print(AtomicDataDict.NODE_ATTRS_KEY)\n",
    "print(AtomicDataDict.EDGE_ATTRS_KEY)\n",
    "print(AtomicDataDict.EDGE_EMBEDDING_KEY)\n",
    "#data_my['node_attrs']"
   ]
  },
  {
   "cell_type": "markdown",
   "id": "76eb7d36",
   "metadata": {},
   "source": [
    "### Prepare"
   ]
  },
  {
   "cell_type": "code",
   "execution_count": 157,
   "id": "04a0068d",
   "metadata": {},
   "outputs": [],
   "source": [
    "import torch\n",
    "from torch.nn.functional import one_hot\n",
    "from nequip.data import AtomicData, AtomicDataDict\n",
    "from torch.nn.functional import one_hot\n",
    "from e3nn.nn import FullyConnectedNet\n",
    "    \n",
    "from torch import nn\n",
    "import math\n",
    "\n",
    "\n",
    "data = AtomicData.to_AtomicDataDict(dataset[0])\n",
    "\n",
    "\n",
    "\n",
    "# edge length embedding\n",
    "torch.manual_seed(32)\n",
    "\n",
    "num_basis = 8\n",
    "r_max = 5\n",
    "\n",
    "\n",
    "data_my = {key: torch.clone(data[key]) for key in data}\n",
    "data_my = AtomicDataDict.with_edge_vectors(data_my, with_lengths=True)\n",
    "\n",
    "edge_length = data_my['edge_lengths']\n",
    "\n",
    "bessel_weights = (torch.linspace(start=1.0, end=num_basis, steps=num_basis) * math.pi)\n",
    "bessel_weights = nn.Parameter(bessel_weights)\n",
    "\n",
    "edge_length_embedding = 2/r_max*torch.sin(bessel_weights * edge_length.unsqueeze(-1) / r_max)/edge_length.unsqueeze(-1)\n",
    "\n",
    "# cutoff\n",
    "factor = 1/r_max\n",
    "p = 6\n",
    "    \n",
    "x = edge_length * factor\n",
    "\n",
    "cutoff = 1.0\n",
    "cutoff = cutoff - (((p + 1.0) * (p + 2.0) / 2.0) * torch.pow(x, p))\n",
    "cutoff = cutoff + (p * (p + 2.0) * torch.pow(x, p + 1.0))\n",
    "cutoff = cutoff - ((p * (p + 1.0) / 2) * torch.pow(x, p + 2.0))\n",
    "cutoff *= (x < 1.0)\n",
    "\n",
    "cutoff = cutoff.unsqueeze(-1)\n",
    "\n",
    "data_my['edge_embedding'] = edge_length_embedding * cutoff\n",
    "\n",
    "# types embedding\n",
    "num_classes = 3\n",
    "\n",
    "\n",
    "edge_ind = data_my['edge_index']\n",
    "\n",
    "types_embed = one_hot(dataset[0]['atom_types'], num_classes)\n",
    "types_src = types_embed[edge_ind[0]].squeeze(1)\n",
    "types_dst = types_embed[edge_ind[1]].squeeze(1)\n",
    "\n",
    "\n",
    "\n",
    "# latent vector\n",
    "latent_vector = torch.concatenate([types_src, types_dst, edge_length_embedding], dim = 1)\n",
    "\n",
    "# MLP\n",
    "invariant_layers = 2\n",
    "invariant_neurons = 64\n",
    "out_neurons = 32\n",
    "\n",
    "fc = FullyConnectedNet(\n",
    "    [latent_vector.shape[1]]\n",
    "    + invariant_layers * [invariant_neurons]\n",
    "    + [out_neurons],\n",
    "    torch.nn.functional.silu)\n",
    "\n",
    "latent_vector_out = fc(latent_vector)\n",
    "\n",
    "\n",
    "data_my['scalar'] = latent_vector_out"
   ]
  },
  {
   "cell_type": "code",
   "execution_count": 158,
   "id": "7cc52dc1",
   "metadata": {},
   "outputs": [
    {
     "ename": "ImportError",
     "evalue": "attempted relative import with no known parent package",
     "output_type": "error",
     "traceback": [
      "\u001b[0;31m---------------------------------------------------------------------------\u001b[0m",
      "\u001b[0;31mImportError\u001b[0m                               Traceback (most recent call last)",
      "Cell \u001b[0;32mIn[158], line 15\u001b[0m\n\u001b[1;32m     12\u001b[0m \u001b[38;5;28;01mfrom\u001b[39;00m \u001b[38;5;21;01mnequip\u001b[39;00m\u001b[38;5;21;01m.\u001b[39;00m\u001b[38;5;21;01mnn\u001b[39;00m \u001b[38;5;28;01mimport\u001b[39;00m GraphModuleMixin\n\u001b[1;32m     13\u001b[0m \u001b[38;5;28;01mfrom\u001b[39;00m \u001b[38;5;21;01mnequip\u001b[39;00m\u001b[38;5;21;01m.\u001b[39;00m\u001b[38;5;21;01mutils\u001b[39;00m\u001b[38;5;21;01m.\u001b[39;00m\u001b[38;5;21;01mtp_utils\u001b[39;00m \u001b[38;5;28;01mimport\u001b[39;00m tp_path_exists\n\u001b[0;32m---> 15\u001b[0m \u001b[38;5;28;01mfrom\u001b[39;00m \u001b[38;5;21;01m.\u001b[39;00m\u001b[38;5;21;01m_fc\u001b[39;00m \u001b[38;5;28;01mimport\u001b[39;00m ScalarMLPFunction\n\u001b[1;32m     16\u001b[0m \u001b[38;5;28;01mfrom\u001b[39;00m \u001b[38;5;21;01m.\u001b[39;00m\u001b[38;5;21;01m.\u001b[39;00m \u001b[38;5;28;01mimport\u001b[39;00m _keys\n\u001b[1;32m     17\u001b[0m \u001b[38;5;28;01mfrom\u001b[39;00m \u001b[38;5;21;01m.\u001b[39;00m\u001b[38;5;21;01m_strided\u001b[39;00m \u001b[38;5;28;01mimport\u001b[39;00m Contracter, MakeWeightedChannels, Linear\n",
      "\u001b[0;31mImportError\u001b[0m: attempted relative import with no known parent package"
     ]
    }
   ],
   "source": [
    "from typing import Optional, List\n",
    "import math\n",
    "import functools\n",
    "\n",
    "import torch\n",
    "from torch_runstats.scatter import scatter\n",
    "\n",
    "from e3nn import o3\n",
    "from e3nn.util.jit import compile_mode\n",
    "\n",
    "from nequip.data import AtomicDataDict\n",
    "from nequip.nn import GraphModuleMixin\n",
    "from nequip.utils.tp_utils import tp_path_exists\n",
    "\n",
    "from ._fc import ScalarMLPFunction\n",
    "from .. import _keys\n",
    "from ._strided import Contracter, MakeWeightedChannels, Linear\n",
    "from .cutoffs import cosine_cutoff, polynomial_cutoff\n",
    "\n",
    "\n",
    "@compile_mode(\"script\")\n",
    "class Allegro_Module(GraphModuleMixin, torch.nn.Module):\n",
    "    # saved params\n",
    "    num_layers: int\n",
    "    field: str\n",
    "    out_field: str\n",
    "    num_types: int\n",
    "    env_embed_mul: int\n",
    "    weight_numel: int\n",
    "    latent_resnet: bool\n",
    "    embed_initial_edge: bool\n",
    "\n",
    "    # internal values\n",
    "    _env_builder_w_index: List[int]\n",
    "    _env_builder_n_irreps: int\n",
    "    _input_pad: int\n",
    "\n",
    "    def __init__(\n",
    "        self,\n",
    "        # required params\n",
    "        num_layers: int,\n",
    "        num_types: int,\n",
    "        r_max: float,\n",
    "        avg_num_neighbors: Optional[float] = None,\n",
    "        # cutoffs\n",
    "        r_start_cos_ratio: float = 0.8,\n",
    "        PolynomialCutoff_p: float = 6,\n",
    "        per_layer_cutoffs: Optional[List[float]] = None,\n",
    "        cutoff_type: str = \"polynomial\",\n",
    "        # general hyperparameters:\n",
    "        field: str = AtomicDataDict.EDGE_ATTRS_KEY,\n",
    "        edge_invariant_field: str = AtomicDataDict.EDGE_EMBEDDING_KEY,\n",
    "        node_invariant_field: str = AtomicDataDict.NODE_ATTRS_KEY,\n",
    "        env_embed_multiplicity: int = 32,\n",
    "        embed_initial_edge: bool = True,\n",
    "        linear_after_env_embed: bool = False,\n",
    "        nonscalars_include_parity: bool = True,\n",
    "        # MLP parameters:\n",
    "        two_body_latent=ScalarMLPFunction,\n",
    "        two_body_latent_kwargs={},\n",
    "        env_embed=ScalarMLPFunction,\n",
    "        env_embed_kwargs={},\n",
    "        latent=ScalarMLPFunction,\n",
    "        latent_kwargs={},\n",
    "        latent_resnet: bool = True,\n",
    "        latent_resnet_update_ratios: Optional[List[float]] = None,\n",
    "        latent_resnet_update_ratios_learnable: bool = False,\n",
    "        latent_out_field: Optional[str] = _keys.EDGE_FEATURES,\n",
    "        # Performance parameters:\n",
    "        pad_to_alignment: int = 1,\n",
    "        sparse_mode: Optional[str] = None,\n",
    "        # Other:\n",
    "        irreps_in=None,\n",
    "    ):\n",
    "        super().__init__()\n",
    "        SCALAR = o3.Irrep(\"0e\")  # define for convinience\n",
    "\n",
    "        # save parameters\n",
    "        assert (\n",
    "            num_layers >= 1\n",
    "        )  # zero layers is \"two body\", but we don't need to support that fallback case\n",
    "        self.num_layers = num_layers\n",
    "        self.nonscalars_include_parity = nonscalars_include_parity\n",
    "        self.field = field\n",
    "        self.latent_out_field = latent_out_field\n",
    "        self.edge_invariant_field = edge_invariant_field\n",
    "        self.node_invariant_field = node_invariant_field\n",
    "        self.latent_resnet = latent_resnet\n",
    "        self.env_embed_mul = env_embed_multiplicity\n",
    "        self.r_start_cos_ratio = r_start_cos_ratio\n",
    "        self.polynomial_cutoff_p = float(PolynomialCutoff_p)\n",
    "        self.cutoff_type = cutoff_type\n",
    "        assert cutoff_type in (\"cosine\", \"polynomial\")\n",
    "        self.embed_initial_edge = embed_initial_edge\n",
    "        self.avg_num_neighbors = avg_num_neighbors\n",
    "        self.linear_after_env_embed = linear_after_env_embed\n",
    "        self.num_types = num_types\n",
    "\n",
    "        # set up irreps\n",
    "        self._init_irreps(\n",
    "            irreps_in=irreps_in,\n",
    "            required_irreps_in=[\n",
    "                self.field,\n",
    "                self.edge_invariant_field,\n",
    "                self.node_invariant_field,\n",
    "            ],\n",
    "        )\n",
    "\n",
    "        # for normalization of env embed sums\n",
    "        # one per layer\n",
    "        self.register_buffer(\n",
    "            \"env_sum_normalizations\",\n",
    "            # dividing by sqrt(N)\n",
    "            torch.as_tensor([avg_num_neighbors] * num_layers).rsqrt(),\n",
    "        )\n",
    "\n",
    "        latent = functools.partial(latent, **latent_kwargs)\n",
    "        env_embed = functools.partial(env_embed, **env_embed_kwargs)\n",
    "\n",
    "        self.latents = torch.nn.ModuleList([])\n",
    "        self.env_embed_mlps = torch.nn.ModuleList([])\n",
    "        self.tps = torch.nn.ModuleList([])\n",
    "        self.linears = torch.nn.ModuleList([])\n",
    "        self.env_linears = torch.nn.ModuleList([])\n",
    "\n",
    "        # Embed to the spharm * it as mul\n",
    "        input_irreps = self.irreps_in[self.field]\n",
    "        # this is not inherant, but no reason to fix right now:\n",
    "        assert all(mul == 1 for mul, ir in input_irreps)\n",
    "        env_embed_irreps = o3.Irreps([(1, ir) for _, ir in input_irreps])\n",
    "        assert (\n",
    "            env_embed_irreps[0].ir == SCALAR\n",
    "        ), \"env_embed_irreps must start with scalars\"\n",
    "        self._input_pad = (\n",
    "            int(math.ceil(env_embed_irreps.dim / pad_to_alignment)) * pad_to_alignment\n",
    "        ) - env_embed_irreps.dim\n",
    "        self.register_buffer(\"_zero\", torch.zeros(1, 1))\n",
    "\n",
    "        # Initially, we have the B(r)Y(\\vec{r})-projection of the edges\n",
    "        # (possibly embedded)\n",
    "        if self.embed_initial_edge:\n",
    "            arg_irreps = env_embed_irreps\n",
    "        else:\n",
    "            arg_irreps = input_irreps\n",
    "\n",
    "        # - begin irreps -\n",
    "        # start to build up the irreps for the iterated TPs\n",
    "        tps_irreps = [arg_irreps]\n",
    "\n",
    "        for layer_idx in range(num_layers):\n",
    "            # Create higher order terms cause there are more TPs coming\n",
    "            if layer_idx == 0:\n",
    "                # Add parity irreps\n",
    "                ir_out = []\n",
    "                for (mul, ir) in env_embed_irreps:\n",
    "                    if self.nonscalars_include_parity:\n",
    "                        # add both parity options\n",
    "                        ir_out.append((1, (ir.l, 1)))\n",
    "                        ir_out.append((1, (ir.l, -1)))\n",
    "                    else:\n",
    "                        # add only the parity option seen in the inputs\n",
    "                        ir_out.append((1, ir))\n",
    "\n",
    "                ir_out = o3.Irreps(ir_out)\n",
    "\n",
    "            if layer_idx == self.num_layers - 1:\n",
    "                # ^ means we're doing the last layer\n",
    "                # No more TPs follow this, so only need scalars\n",
    "                ir_out = o3.Irreps([(1, (0, 1))])\n",
    "\n",
    "            # Prune impossible paths\n",
    "            ir_out = o3.Irreps(\n",
    "                [\n",
    "                    (mul, ir)\n",
    "                    for mul, ir in ir_out\n",
    "                    if tp_path_exists(arg_irreps, env_embed_irreps, ir)\n",
    "                ]\n",
    "            )\n",
    "\n",
    "            # the argument to the next tensor product is the output of this one\n",
    "            arg_irreps = ir_out\n",
    "            tps_irreps.append(ir_out)\n",
    "        # - end build irreps -\n",
    "\n",
    "        # == Remove unneeded paths ==\n",
    "        out_irreps = tps_irreps[-1]\n",
    "        new_tps_irreps = [out_irreps]\n",
    "        for arg_irreps in reversed(tps_irreps[:-1]):\n",
    "            new_arg_irreps = []\n",
    "            for mul, arg_ir in arg_irreps:\n",
    "                for _, env_ir in env_embed_irreps:\n",
    "                    if any(i in out_irreps for i in arg_ir * env_ir):\n",
    "                        # arg_ir is useful: arg_ir * env_ir has a path to something we want\n",
    "                        new_arg_irreps.append((mul, arg_ir))\n",
    "                        # once its useful once, we keep it no matter what\n",
    "                        break\n",
    "            new_arg_irreps = o3.Irreps(new_arg_irreps)\n",
    "            new_tps_irreps.append(new_arg_irreps)\n",
    "            out_irreps = new_arg_irreps\n",
    "\n",
    "        assert len(new_tps_irreps) == len(tps_irreps)\n",
    "        tps_irreps = list(reversed(new_tps_irreps))\n",
    "        del new_tps_irreps\n",
    "\n",
    "        assert tps_irreps[-1].lmax == 0\n",
    "\n",
    "        tps_irreps_in = tps_irreps[:-1]\n",
    "        tps_irreps_out = tps_irreps[1:]\n",
    "        del tps_irreps\n",
    "\n",
    "        # Environment builder:\n",
    "        self._env_weighter = MakeWeightedChannels(\n",
    "            irreps_in=input_irreps,\n",
    "            multiplicity_out=env_embed_multiplicity,\n",
    "            pad_to_alignment=pad_to_alignment,\n",
    "        )\n",
    "\n",
    "        self._n_scalar_outs = []\n",
    "\n",
    "        # == Build TPs ==\n",
    "        for layer_idx, (arg_irreps, out_irreps) in enumerate(\n",
    "            zip(tps_irreps_in, tps_irreps_out)\n",
    "        ):\n",
    "            # Make the env embed linear\n",
    "            if self.linear_after_env_embed:\n",
    "                self.env_linears.append(\n",
    "                    Linear(\n",
    "                        [(env_embed_multiplicity, ir) for _, ir in env_embed_irreps],\n",
    "                        [(env_embed_multiplicity, ir) for _, ir in env_embed_irreps],\n",
    "                        shared_weights=True,\n",
    "                        internal_weights=True,\n",
    "                    )\n",
    "                )\n",
    "            else:\n",
    "                self.env_linears.append(torch.nn.Identity())\n",
    "            # Make TP\n",
    "            tmp_i_out: int = 0\n",
    "            instr = []\n",
    "            n_scalar_outs: int = 0\n",
    "            full_out_irreps = []\n",
    "            for i_out, (_, ir_out) in enumerate(out_irreps):\n",
    "                for i_1, (_, ir_1) in enumerate(arg_irreps):\n",
    "                    for i_2, (_, ir_2) in enumerate(env_embed_irreps):\n",
    "                        if ir_out in ir_1 * ir_2:\n",
    "                            if ir_out == SCALAR:\n",
    "                                n_scalar_outs += 1\n",
    "                            instr.append((i_1, i_2, tmp_i_out))\n",
    "                            full_out_irreps.append((env_embed_multiplicity, ir_out))\n",
    "                            tmp_i_out += 1\n",
    "            full_out_irreps = o3.Irreps(full_out_irreps)\n",
    "            self._n_scalar_outs.append(n_scalar_outs)\n",
    "            assert all(ir == SCALAR for _, ir in full_out_irreps[:n_scalar_outs])\n",
    "            tp = Contracter(\n",
    "                irreps_in1=o3.Irreps(\n",
    "                    [\n",
    "                        (\n",
    "                            (\n",
    "                                env_embed_multiplicity\n",
    "                                if layer_idx > 0 or self.embed_initial_edge\n",
    "                                else 1\n",
    "                            ),\n",
    "                            ir,\n",
    "                        )\n",
    "                        for _, ir in arg_irreps\n",
    "                    ]\n",
    "                ),\n",
    "                irreps_in2=o3.Irreps(\n",
    "                    [(env_embed_multiplicity, ir) for _, ir in env_embed_irreps]\n",
    "                ),\n",
    "                irreps_out=o3.Irreps(\n",
    "                    [(env_embed_multiplicity, ir) for _, ir in full_out_irreps]\n",
    "                ),\n",
    "                instructions=instr,\n",
    "                # For the first layer, we have the unprocessed edges\n",
    "                # coming in from the input if `not self.embed_initial_edge`.\n",
    "                # These don't match the embedding in mul, so we have\n",
    "                # to use uvv --- since the input edges should be mul\n",
    "                # of one in normal circumstances, this is still plenty fast.\n",
    "                # For this reason it also doesn't increase the number of weights.\n",
    "                connection_mode=(\n",
    "                    \"uuu\" if layer_idx > 0 or self.embed_initial_edge else \"uvv\"\n",
    "                ),\n",
    "                shared_weights=False,\n",
    "                has_weight=False,\n",
    "                pad_to_alignment=pad_to_alignment,\n",
    "                sparse_mode=sparse_mode,\n",
    "            )\n",
    "            self.tps.append(tp)\n",
    "            # we extract the scalars from the first irrep of the tp\n",
    "            assert out_irreps[0].ir == SCALAR\n",
    "\n",
    "            # Make env embed mlp\n",
    "            generate_n_weights = (\n",
    "                self._env_weighter.weight_numel\n",
    "            )  # the weight for the edge embedding\n",
    "            if layer_idx == 0 and self.embed_initial_edge:\n",
    "                # also need weights to embed the edge itself\n",
    "                # this is because the 2 body latent is mixed in with the first layer\n",
    "                # in terms of code\n",
    "                generate_n_weights += self._env_weighter.weight_numel\n",
    "\n",
    "            # the linear acts after the extractor\n",
    "            self.linears.append(\n",
    "                Linear(\n",
    "                    full_out_irreps,\n",
    "                    [(env_embed_multiplicity, ir) for _, ir in out_irreps],\n",
    "                    shared_weights=True,\n",
    "                    internal_weights=True,\n",
    "                    pad_to_alignment=pad_to_alignment,\n",
    "                )\n",
    "            )\n",
    "\n",
    "            if layer_idx == 0:\n",
    "                # at the first layer, we have no invariants from previous TPs\n",
    "                self.latents.append(\n",
    "                    two_body_latent(\n",
    "                        mlp_input_dimension=(\n",
    "                            (\n",
    "                                # Node invariants for center and neighbor (chemistry)\n",
    "                                2 * self.irreps_in[self.node_invariant_field].num_irreps\n",
    "                                # Plus edge invariants for the edge (radius).\n",
    "                                + self.irreps_in[self.edge_invariant_field].num_irreps\n",
    "                            )\n",
    "                        ),\n",
    "                        mlp_output_dimension=None,\n",
    "                        **two_body_latent_kwargs,\n",
    "                    )\n",
    "                )\n",
    "            else:\n",
    "                self.latents.append(\n",
    "                    latent(\n",
    "                        mlp_input_dimension=(\n",
    "                            (\n",
    "                                # the embedded latent invariants from the previous layer(s)\n",
    "                                self.latents[-1].out_features\n",
    "                                # and the invariants extracted from the last layer's TP:\n",
    "                                + env_embed_multiplicity * n_scalar_outs\n",
    "                            )\n",
    "                        ),\n",
    "                        mlp_output_dimension=None,\n",
    "                    )\n",
    "                )\n",
    "            # the env embed MLP takes the last latent's output as input\n",
    "            # and outputs enough weights for the env embedder\n",
    "            self.env_embed_mlps.append(\n",
    "                env_embed(\n",
    "                    mlp_input_dimension=self.latents[-1].out_features,\n",
    "                    mlp_output_dimension=generate_n_weights,\n",
    "                )\n",
    "            )\n",
    "\n",
    "        # For the final layer, we specialize:\n",
    "        # we don't need to propagate nonscalars, so there is no TP\n",
    "        # thus we only need the latent:\n",
    "        self.final_latent = latent(\n",
    "            mlp_input_dimension=self.latents[-1].out_features\n",
    "            + env_embed_multiplicity * n_scalar_outs,\n",
    "            mlp_output_dimension=None,\n",
    "        )\n",
    "        # - end build modules -\n",
    "\n",
    "        # - layer resnet update weights -\n",
    "        if latent_resnet_update_ratios is None:\n",
    "            # We initialize to zeros, which under the sigmoid() become 0.5\n",
    "            # so 1/2 * layer_1 + 1/4 * layer_2 + ...\n",
    "            # note that the sigmoid of these are the factor _between_ layers\n",
    "            # so the first entry is the ratio for the latent resnet of the first and second layers, etc.\n",
    "            # e.g. if there are 3 layers, there are 2 ratios: l1:l2, l2:l3\n",
    "            latent_resnet_update_params = torch.zeros(self.num_layers)\n",
    "        else:\n",
    "            latent_resnet_update_ratios = torch.as_tensor(\n",
    "                latent_resnet_update_ratios, dtype=torch.get_default_dtype()\n",
    "            )\n",
    "            assert latent_resnet_update_ratios.min() > 0.0\n",
    "            assert latent_resnet_update_ratios.min() < 1.0\n",
    "            latent_resnet_update_params = torch.special.logit(\n",
    "                latent_resnet_update_ratios\n",
    "            )\n",
    "            # The sigmoid is mostly saturated at ±6, keep it in a reasonable range\n",
    "            latent_resnet_update_params.clamp_(-6.0, 6.0)\n",
    "        assert latent_resnet_update_params.shape == (\n",
    "            num_layers,\n",
    "        ), f\"There must be {num_layers} layer resnet update ratios (layer0:layer1, layer1:layer2)\"\n",
    "        if latent_resnet_update_ratios_learnable:\n",
    "            self._latent_resnet_update_params = torch.nn.Parameter(\n",
    "                latent_resnet_update_params\n",
    "            )\n",
    "        else:\n",
    "            self.register_buffer(\n",
    "                \"_latent_resnet_update_params\", latent_resnet_update_params\n",
    "            )\n",
    "\n",
    "        # - Per-layer cutoffs -\n",
    "        if per_layer_cutoffs is None:\n",
    "            per_layer_cutoffs = torch.full((num_layers + 1,), r_max)\n",
    "        self.register_buffer(\"per_layer_cutoffs\", torch.as_tensor(per_layer_cutoffs))\n",
    "        assert torch.all(self.per_layer_cutoffs <= r_max)\n",
    "        assert self.per_layer_cutoffs.shape == (\n",
    "            num_layers + 1,\n",
    "        ), \"Must be one per-layer cutoff for layer 0 and every layer for a total of {num_layers} cutoffs (the first applies to the two body latent, which is 'layer 0')\"\n",
    "        assert (\n",
    "            self.per_layer_cutoffs[1:] <= self.per_layer_cutoffs[:-1]\n",
    "        ).all(), \"Per-layer cutoffs must be equal or decreasing\"\n",
    "        assert (\n",
    "            self.per_layer_cutoffs.min() > 0\n",
    "        ), \"Per-layer cutoffs must be >0. To remove higher layers entirely, lower `num_layers`.\"\n",
    "        self._latent_dim = self.final_latent.out_features\n",
    "        self.register_buffer(\"_zero\", torch.as_tensor(0.0))\n",
    "\n",
    "        self.irreps_out.update(\n",
    "            {\n",
    "                self.latent_out_field: o3.Irreps(\n",
    "                    [(self.final_latent.out_features, (0, 1))]\n",
    "                ),\n",
    "            }\n",
    "        )\n",
    "\n",
    "    def forward(self, data: AtomicDataDict.Type) -> AtomicDataDict.Type:\n",
    "        \"\"\"Evaluate.\n",
    "\n",
    "        :param data: AtomicDataDict.Type\n",
    "        :return: AtomicDataDict.Type\n",
    "        \"\"\"\n",
    "        edge_center = data[AtomicDataDict.EDGE_INDEX_KEY][0]\n",
    "        edge_neighbor = data[AtomicDataDict.EDGE_INDEX_KEY][1]\n",
    "\n",
    "        edge_attr = data[self.field]\n",
    "        # pad edge_attr\n",
    "        if self._input_pad > 0:\n",
    "            edge_attr = torch.cat(\n",
    "                (\n",
    "                    edge_attr,\n",
    "                    self._zero.expand(len(edge_attr), self._input_pad),\n",
    "                ),\n",
    "                dim=-1,\n",
    "            )\n",
    "\n",
    "        edge_length = data[AtomicDataDict.EDGE_LENGTH_KEY]\n",
    "        num_edges: int = len(edge_attr)\n",
    "        edge_invariants = data[self.edge_invariant_field]\n",
    "        node_invariants = data[self.node_invariant_field]\n",
    "        # pre-declare variables as Tensors for TorchScript\n",
    "        scalars = self._zero\n",
    "        coefficient_old = scalars\n",
    "        coefficient_new = scalars\n",
    "        # Initialize state\n",
    "        latents = torch.zeros(\n",
    "            (num_edges, self._latent_dim),\n",
    "            dtype=edge_attr.dtype,\n",
    "            device=edge_attr.device,\n",
    "        )\n",
    "        active_edges = torch.arange(\n",
    "            num_edges,\n",
    "            device=edge_attr.device,\n",
    "        )\n",
    "\n",
    "        # For the first layer, we use the input invariants:\n",
    "        # The center and neighbor invariants and edge invariants\n",
    "        latent_inputs_to_cat = [\n",
    "            node_invariants[edge_center],\n",
    "            node_invariants[edge_neighbor],\n",
    "            edge_invariants,\n",
    "        ]\n",
    "        # The nonscalar features. Initially, the edge data.\n",
    "        features = edge_attr\n",
    "\n",
    "        layer_index: int = 0\n",
    "        # compute the sigmoids vectorized instead of each loop\n",
    "        layer_update_coefficients = self._latent_resnet_update_params.sigmoid()\n",
    "\n",
    "        # Vectorized precompute per layer cutoffs\n",
    "        if self.cutoff_type == \"cosine\":\n",
    "            cutoff_coeffs_all = cosine_cutoff(\n",
    "                edge_length,\n",
    "                self.per_layer_cutoffs,\n",
    "                r_start_cos_ratio=self.r_start_cos_ratio,\n",
    "            )\n",
    "        elif self.cutoff_type == \"polynomial\":\n",
    "            cutoff_coeffs_all = polynomial_cutoff(\n",
    "                edge_length, self.per_layer_cutoffs, p=self.polynomial_cutoff_p\n",
    "            )\n",
    "        else:\n",
    "            # This branch is unreachable (cutoff type is checked in __init__)\n",
    "            # But TorchScript doesn't know that, so we need to make it explicitly\n",
    "            # impossible to make it past so it doesn't throw\n",
    "            # \"cutoff_coeffs_all is not defined in the false branch\"\n",
    "            assert False, \"Invalid cutoff type\"\n",
    "\n",
    "        # !!!! REMEMBER !!!! update final layer if update the code in main loop!!!\n",
    "        # This goes through layer0, layer1, ..., layer_max-1\n",
    "        for latent, env_embed_mlp, env_linear, tp, linear in zip(\n",
    "            self.latents, self.env_embed_mlps, self.env_linears, self.tps, self.linears\n",
    "        ):\n",
    "            # Determine which edges are still in play\n",
    "            cutoff_coeffs = cutoff_coeffs_all[layer_index]\n",
    "            prev_mask = cutoff_coeffs[active_edges] > 0\n",
    "            active_edges = (cutoff_coeffs > 0).nonzero().squeeze(-1)\n",
    "\n",
    "            # Compute latents\n",
    "            new_latents = latent(torch.cat(latent_inputs_to_cat, dim=-1)[prev_mask])\n",
    "            # Apply cutoff, which propagates through to everything else\n",
    "            new_latents = cutoff_coeffs[active_edges].unsqueeze(-1) * new_latents\n",
    "\n",
    "            if self.latent_resnet and layer_index > 0:\n",
    "                this_layer_update_coeff = layer_update_coefficients[layer_index - 1]\n",
    "                # At init, we assume new and old to be approximately uncorrelated\n",
    "                # Thus their variances add\n",
    "                # we always want the latent space to be normalized to variance = 1.0,\n",
    "                # because it is critical for learnability. Still, we want to preserve\n",
    "                # the _relative_ magnitudes of the current latent and the residual update\n",
    "                # to be controled by `this_layer_update_coeff`\n",
    "                # Solving the simple system for the two coefficients:\n",
    "                #   a^2 + b^2 = 1  (variances add)   &    a * this_layer_update_coeff = b\n",
    "                # gives\n",
    "                #   a = 1 / sqrt(1 + this_layer_update_coeff^2)  &  b = this_layer_update_coeff / sqrt(1 + this_layer_update_coeff^2)\n",
    "                # rsqrt is reciprocal sqrt\n",
    "                coefficient_old = torch.rsqrt(this_layer_update_coeff.square() + 1)\n",
    "                coefficient_new = this_layer_update_coeff * coefficient_old\n",
    "                # Residual update\n",
    "                # Note that it only runs when there are latents to resnet with, so not at the first layer\n",
    "                # index_add adds only to the edges for which we have something to contribute\n",
    "                latents = torch.index_add(\n",
    "                    coefficient_old * latents,\n",
    "                    0,\n",
    "                    active_edges,\n",
    "                    coefficient_new * new_latents,\n",
    "                )\n",
    "            else:\n",
    "                # Normal (non-residual) update\n",
    "                # index_copy replaces, unlike index_add\n",
    "                latents = torch.index_copy(latents, 0, active_edges, new_latents)\n",
    "\n",
    "            # From the latents, compute the weights for active edges:\n",
    "            weights = env_embed_mlp(latents[active_edges])\n",
    "            w_index: int = 0\n",
    "\n",
    "            if self.embed_initial_edge and layer_index == 0:\n",
    "                # embed initial edge\n",
    "                env_w = weights.narrow(-1, w_index, self._env_weighter.weight_numel)\n",
    "                w_index += self._env_weighter.weight_numel\n",
    "                features = self._env_weighter(\n",
    "                    features[prev_mask], env_w\n",
    "                )  # features is edge_attr\n",
    "            else:\n",
    "                # just take the previous features that we still need\n",
    "                features = features[prev_mask]\n",
    "\n",
    "            # Extract weights for the environment builder\n",
    "            env_w = weights.narrow(-1, w_index, self._env_weighter.weight_numel)\n",
    "            w_index += self._env_weighter.weight_numel\n",
    "\n",
    "            # Build the local environments\n",
    "            # This local environment should only be a sum over neighbors\n",
    "            # who are within the cutoff of the _current_ layer\n",
    "            # Those are the active edges, which are the only ones we\n",
    "            # have weights for (env_w) anyway.\n",
    "            # So we mask out the edges in the sum:\n",
    "            local_env_per_edge = scatter(\n",
    "                self._env_weighter(edge_attr[active_edges], env_w),\n",
    "                edge_center[active_edges],\n",
    "                dim=0,\n",
    "            )\n",
    "            if self.env_sum_normalizations.ndim < 2:\n",
    "                # it's a scalar per layer\n",
    "                norm_const = self.env_sum_normalizations[layer_index]\n",
    "            else:\n",
    "                # it's per type\n",
    "                # get shape [N_atom, 1] for broadcasting\n",
    "                norm_const = self.env_sum_normalizations[\n",
    "                    layer_index, data[AtomicDataDict.ATOM_TYPE_KEY]\n",
    "                ].unsqueeze(-1)\n",
    "            local_env_per_edge = local_env_per_edge * norm_const\n",
    "            local_env_per_edge = env_linear(local_env_per_edge)\n",
    "            # Copy to get per-edge\n",
    "            # Large allocation, but no better way to do this:\n",
    "            local_env_per_edge = local_env_per_edge[edge_center[active_edges]]\n",
    "\n",
    "            # Now do the TP\n",
    "            # recursively tp current features with the environment embeddings\n",
    "            features = tp(features, local_env_per_edge)\n",
    "\n",
    "            # Get invariants\n",
    "            # features has shape [z][mul][k]\n",
    "            # we know scalars are first\n",
    "            scalars = features[:, :, : self._n_scalar_outs[layer_index]].reshape(\n",
    "                features.shape[0], -1\n",
    "            )\n",
    "\n",
    "            # do the linear\n",
    "            features = linear(features)\n",
    "\n",
    "            # For layer2+, use the previous latents and scalars\n",
    "            # This makes it deep\n",
    "            latent_inputs_to_cat = [\n",
    "                latents[active_edges],\n",
    "                scalars,\n",
    "            ]\n",
    "\n",
    "            # increment co_unter\n",
    "            layer_index += 1\n",
    "\n",
    "        # - final layer -\n",
    "        # due to TorchScript limitations, we have to\n",
    "        # copy and repeat the code here --- no way to\n",
    "        # escape the final iteration of the loop early\n",
    "        cutoff_coeffs = cutoff_coeffs_all[layer_index]\n",
    "        prev_mask = cutoff_coeffs[active_edges] > 0\n",
    "        active_edges = (cutoff_coeffs > 0).nonzero().squeeze(-1)\n",
    "        new_latents = self.final_latent(\n",
    "            torch.cat(latent_inputs_to_cat, dim=-1)[prev_mask]\n",
    "        )\n",
    "        new_latents = cutoff_coeffs[active_edges].unsqueeze(-1) * new_latents\n",
    "        if self.latent_resnet:\n",
    "            this_layer_update_coeff = layer_update_coefficients[layer_index - 1]\n",
    "            coefficient_old = torch.rsqrt(this_layer_update_coeff.square() + 1)\n",
    "            coefficient_new = this_layer_update_coeff * coefficient_old\n",
    "            latents = torch.index_add(\n",
    "                coefficient_old * latents,\n",
    "                0,\n",
    "                active_edges,\n",
    "                coefficient_new * new_latents,\n",
    "            )\n",
    "        else:\n",
    "            latents = torch.index_copy(latents, 0, active_edges, new_latents)\n",
    "        # - end final layer -\n",
    "\n",
    "        # final latents\n",
    "        data[self.latent_out_field] = latents\n",
    "\n",
    "        return data"
   ]
  },
  {
   "cell_type": "markdown",
   "id": "82bc0c3a",
   "metadata": {},
   "source": [
    "### Edge embedding"
   ]
  },
  {
   "cell_type": "code",
   "execution_count": 187,
   "id": "53f2d918",
   "metadata": {},
   "outputs": [],
   "source": [
    "import torch\n",
    "from torch.nn.functional import one_hot\n",
    "from nequip.data import AtomicData, AtomicDataDict\n",
    "from torch.nn.functional import one_hot\n",
    "from e3nn.nn import FullyConnectedNet\n",
    "    \n",
    "from torch import nn\n",
    "import math\n",
    "\n",
    "irreps_in = {}\n",
    "\n",
    "data = AtomicData.to_AtomicDataDict(dataset[0])\n",
    "\n",
    "\n",
    "\n",
    "# edge length embedding\n",
    "torch.manual_seed(32)\n",
    "\n",
    "num_basis = 8\n",
    "r_max = 5\n",
    "\n",
    "\n",
    "data_in = {key: torch.clone(data[key]) for key in data}\n",
    "data_in = AtomicDataDict.with_edge_vectors(data_in, with_lengths=True)\n",
    "\n",
    "edge_length = data_my['edge_lengths']\n",
    "\n",
    "bessel_weights = (torch.linspace(start=1.0, end=num_basis, steps=num_basis) * math.pi)\n",
    "bessel_weights = nn.Parameter(bessel_weights)\n",
    "\n",
    "edge_length_embedding = 2/r_max*torch.sin(bessel_weights * edge_length.unsqueeze(-1) / r_max)/edge_length.unsqueeze(-1)\n",
    "\n",
    "# cutoff\n",
    "factor = 1/r_max\n",
    "p = 6\n",
    "    \n",
    "x = edge_length * factor\n",
    "\n",
    "cutoff = 1.0\n",
    "cutoff = cutoff - (((p + 1.0) * (p + 2.0) / 2.0) * torch.pow(x, p))\n",
    "cutoff = cutoff + (p * (p + 2.0) * torch.pow(x, p + 1.0))\n",
    "cutoff = cutoff - ((p * (p + 1.0) / 2) * torch.pow(x, p + 2.0))\n",
    "cutoff *= (x < 1.0)\n",
    "\n",
    "cutoff = cutoff.unsqueeze(-1)\n",
    "\n",
    "data_in['edge_embedding'] = edge_length_embedding * cutoff\n",
    "\n",
    "irreps_in['edge_embedding'] = o3.Irreps(f'{num_basis}x0e')"
   ]
  },
  {
   "cell_type": "code",
   "execution_count": 188,
   "id": "853efb76",
   "metadata": {},
   "outputs": [
    {
     "data": {
      "text/plain": [
       "torch.Size([364, 8])"
      ]
     },
     "execution_count": 188,
     "metadata": {},
     "output_type": "execute_result"
    }
   ],
   "source": [
    "data_in['edge_embedding'].shape"
   ]
  },
  {
   "cell_type": "code",
   "execution_count": 189,
   "id": "b2f5e7a2",
   "metadata": {},
   "outputs": [
    {
     "data": {
      "text/plain": [
       "8x0e+2x0e"
      ]
     },
     "execution_count": 189,
     "metadata": {},
     "output_type": "execute_result"
    }
   ],
   "source": [
    "irreps_in['edge_embedding'] + '2x0e'"
   ]
  },
  {
   "cell_type": "markdown",
   "id": "f9dabdca",
   "metadata": {},
   "source": [
    "### Node attrs"
   ]
  },
  {
   "cell_type": "code",
   "execution_count": 190,
   "id": "7fecd372",
   "metadata": {},
   "outputs": [],
   "source": [
    "import torch\n",
    "from torch.nn.functional import one_hot\n",
    "from nequip.data import AtomicData, AtomicDataDict\n",
    "from torch.nn.functional import one_hot\n",
    "from e3nn.nn import FullyConnectedNet\n",
    "    \n",
    "from torch import nn\n",
    "import math\n",
    "\n",
    "# types embedding\n",
    "num_classes = 3\n",
    "\n",
    "\n",
    "types_embed = one_hot(data_in['atom_types'], num_classes).squeeze(1)\n",
    "\n",
    "data_in['node_attrs'] = types_embed\n",
    "\n",
    "irreps_in['node_attrs'] = o3.Irreps(f'{num_classes}x0e')"
   ]
  },
  {
   "cell_type": "markdown",
   "id": "6f3ade01",
   "metadata": {},
   "source": [
    "### Edge attrs"
   ]
  },
  {
   "cell_type": "code",
   "execution_count": 191,
   "id": "95f6c569",
   "metadata": {},
   "outputs": [],
   "source": [
    "from torch import nn\n",
    "import math\n",
    "\n",
    "\n",
    "torch.manual_seed(32)\n",
    "\n",
    "\n",
    "l_max = 2\n",
    "irreps_edge_sh = o3.Irreps.spherical_harmonics(2)\n",
    "\n",
    "#data_in = {key: torch.clone(data_in[key]) for key in data_my}\n",
    "data_in = AtomicDataDict.with_edge_vectors(data_in, with_lengths=False)\n",
    "\n",
    "\n",
    "harm_gen = o3.SphericalHarmonics(irreps_edge_sh, True, 'component')\n",
    "\n",
    "edge_vec = data_in['edge_vectors']\n",
    "\n",
    "harm_edge = harm_gen(edge_vec)\n",
    "harm_edge.shape\n",
    "\n",
    "\n",
    "data_in['edge_attrs'] = harm_edge\n",
    "\n",
    "irreps_in['edge_attrs'] = irreps_edge_sh"
   ]
  },
  {
   "cell_type": "code",
   "execution_count": 192,
   "id": "7be743d4",
   "metadata": {},
   "outputs": [],
   "source": [
    "from allegro.nn import Allegro_Module"
   ]
  },
  {
   "cell_type": "code",
   "execution_count": 207,
   "id": "05698ccc",
   "metadata": {},
   "outputs": [
    {
     "name": "stderr",
     "output_type": "stream",
     "text": [
      "/Users/temporary/Documents/GitHub/pytorch-intel-mps/torch/jit/_check.py:172: UserWarning: The TorchScript type system doesn't support instance-level annotations on empty non-base types in `__init__`. Instead, either 1) use a type annotation in the class body, or 2) wrap the type in `torch.jit.Attribute`.\n",
      "  warnings.warn(\"The TorchScript type system doesn't support \"\n"
     ]
    },
    {
     "data": {
      "text/plain": [
       "Allegro_Module(\n",
       "  (latents): ModuleList(\n",
       "    (0-1): 2 x ScalarMLPFunction(\n",
       "      (_forward): RecursiveScriptModule(original_name=GraphModule)\n",
       "    )\n",
       "  )\n",
       "  (env_embed_mlps): ModuleList(\n",
       "    (0-1): 2 x ScalarMLPFunction(\n",
       "      (_forward): RecursiveScriptModule(original_name=GraphModule)\n",
       "    )\n",
       "  )\n",
       "  (tps): ModuleList(\n",
       "    (0-1): 2 x RecursiveScriptModule(original_name=GraphModule)\n",
       "  )\n",
       "  (linears): ModuleList(\n",
       "    (0-1): 2 x RecursiveScriptModule(original_name=GraphModule)\n",
       "  )\n",
       "  (env_linears): ModuleList(\n",
       "    (0-1): 2 x Identity()\n",
       "  )\n",
       "  (_env_weighter): MakeWeightedChannels()\n",
       "  (final_latent): ScalarMLPFunction(\n",
       "    (_forward): RecursiveScriptModule(original_name=GraphModule)\n",
       "  )\n",
       ")"
      ]
     },
     "execution_count": 207,
     "metadata": {},
     "output_type": "execute_result"
    }
   ],
   "source": [
    "#self, # required params\n",
    "# num_layers: int, num_types: int,\n",
    "# r_max: float, avg_num_neighbors: Optional[float] = None,\n",
    "# cutoffs\n",
    "# r_start_cos_ratio: float = 0.8, PolynomialCutoff_p: float = 6,\n",
    "# per_layer_cutoffs: Optional[List[float]] = None, cutoff_type: str = \"polynomial\",\n",
    "# general hyperparameters:\n",
    "# field: str = AtomicDataDict.EDGE_ATTRS_KEY,\n",
    "# edge_invariant_field: str = AtomicDataDict.EDGE_EMBEDDING_KEY,\n",
    "# node_invariant_field: str = AtomicDataDict.NODE_ATTRS_KEY,\n",
    "# env_embed_multiplicity: int = 32,\n",
    "# embed_initial_edge: bool = True,\n",
    "# linear_after_env_embed: bool = False,\n",
    "# nonscalars_include_parity: bool = True,\n",
    "# MLP parameters:\n",
    "# two_body_latent=ScalarMLPFunction,\n",
    "# two_body_latent_kwargs={},\n",
    "# env_embed=ScalarMLPFunction,\n",
    "# env_embed_kwargs={},\n",
    "# latent=ScalarMLPFunction,\n",
    "# latent_kwargs={}, latent_resnet: bool = True,\n",
    "# latent_resnet_update_ratios: Optional[List[float]] = None,\n",
    "# latent_resnet_update_ratios_learnable: bool = False,\n",
    "# latent_out_field: Optional[str] = _keys.EDGE_FEATURES,\n",
    "# Performance parameters:\n",
    "# pad_to_alignment: int = 1,\n",
    "# sparse_mode: Optional[str] = None,\n",
    "# Other:\n",
    "# irreps_in=None,\n",
    "\n",
    "Main_Module = Allegro_Module(r_max = 5,\n",
    "               num_layers = 2,\n",
    "               num_types = 3,\n",
    "               avg_num_neighbors=10., \n",
    "               two_body_latent_kwargs={'mlp_latent_dimensions': [32]},\n",
    "               latent_kwargs={'mlp_latent_dimensions': [32]},\n",
    "               env_embed_kwargs={'mlp_latent_dimensions': [32]},\n",
    "               irreps_in=irreps_in)\n",
    "\n",
    "Main_Module"
   ]
  },
  {
   "cell_type": "code",
   "execution_count": 210,
   "id": "cf7454aa",
   "metadata": {},
   "outputs": [
    {
     "name": "stdout",
     "output_type": "stream",
     "text": [
      "True\n"
     ]
    }
   ],
   "source": [
    "Main_Module(data_in)\n",
    "\n",
    "print('True')"
   ]
  },
  {
   "cell_type": "code",
   "execution_count": 269,
   "id": "6adcdf6a",
   "metadata": {},
   "outputs": [],
   "source": [
    "@compile_mode(\"script\")\n",
    "class Allegro_Module_my(GraphModuleMixin, torch.nn.Module):\n",
    "    # saved params\n",
    "    num_layers: int\n",
    "    field: str\n",
    "    out_field: str\n",
    "    num_types: int\n",
    "    env_embed_mul: int\n",
    "    weight_numel: int\n",
    "    latent_resnet: bool\n",
    "    embed_initial_edge: bool\n",
    "\n",
    "    # internal values\n",
    "    _env_builder_w_index: List[int]\n",
    "    _env_builder_n_irreps: int\n",
    "    _input_pad: int\n",
    "\n",
    "    def __init__(\n",
    "        self,\n",
    "        # required params\n",
    "        num_layers: int,\n",
    "        num_types: int,\n",
    "        r_max: float,\n",
    "        avg_num_neighbors: Optional[float] = None,\n",
    "        # cutoffs\n",
    "        r_start_cos_ratio: float = 0.8,\n",
    "        PolynomialCutoff_p: float = 6,\n",
    "        per_layer_cutoffs: Optional[List[float]] = None,\n",
    "        cutoff_type: str = \"polynomial\",\n",
    "        # general hyperparameters:\n",
    "        field: str = AtomicDataDict.EDGE_ATTRS_KEY,\n",
    "        edge_invariant_field: str = AtomicDataDict.EDGE_EMBEDDING_KEY,\n",
    "        node_invariant_field: str = AtomicDataDict.NODE_ATTRS_KEY,\n",
    "        env_embed_multiplicity: int = 32,\n",
    "        embed_initial_edge: bool = True,\n",
    "        linear_after_env_embed: bool = False,\n",
    "        nonscalars_include_parity: bool = True,\n",
    "        # MLP parameters:\n",
    "        #two_body_latent=ScalarMLPFunction,\n",
    "        #two_body_latent_kwargs={},\n",
    "        #env_embed=ScalarMLPFunction,\n",
    "        #env_embed_kwargs={},\n",
    "        #latent=ScalarMLPFunction,\n",
    "        #latent_kwargs={},\n",
    "        latent_resnet: bool = True,\n",
    "        #latent_resnet_update_ratios: Optional[List[float]] = None,\n",
    "        #latent_resnet_update_ratios_learnable: bool = False,\n",
    "        latent_out_field: Optional[str] = 'edge_features',\n",
    "        # Performance parameters:\n",
    "        pad_to_alignment: int = 1,\n",
    "        sparse_mode: Optional[str] = None,\n",
    "        # Other:\n",
    "        irreps_in=None,\n",
    "    ):\n",
    "        super().__init__()\n",
    "        SCALAR = o3.Irrep(\"0e\")  # define for convinience\n",
    "\n",
    "        # save parameters\n",
    "        assert (\n",
    "            num_layers >= 1\n",
    "        )  # zero layers is \"two body\", but we don't need to support that fallback case\n",
    "        self.num_layers = num_layers\n",
    "        self.nonscalars_include_parity = nonscalars_include_parity\n",
    "        self.field = field\n",
    "        self.latent_out_field = latent_out_field\n",
    "        self.edge_invariant_field = edge_invariant_field\n",
    "        self.node_invariant_field = node_invariant_field\n",
    "        self.latent_resnet = latent_resnet\n",
    "        self.env_embed_mul = env_embed_multiplicity\n",
    "        self.r_start_cos_ratio = r_start_cos_ratio\n",
    "        self.polynomial_cutoff_p = float(PolynomialCutoff_p)\n",
    "        self.cutoff_type = cutoff_type\n",
    "        assert cutoff_type in (\"cosine\", \"polynomial\")\n",
    "        self.embed_initial_edge = embed_initial_edge\n",
    "        self.avg_num_neighbors = avg_num_neighbors\n",
    "        self.linear_after_env_embed = linear_after_env_embed\n",
    "        self.num_types = num_types\n",
    "\n",
    "        # set up irreps\n",
    "        self._init_irreps(\n",
    "            irreps_in=irreps_in,\n",
    "            required_irreps_in=[\n",
    "                self.field,\n",
    "                self.edge_invariant_field,\n",
    "                self.node_invariant_field,\n",
    "            ],\n",
    "        )\n",
    "\n",
    "        # for normalization of env embed sums\n",
    "        # one per layer\n",
    "        self.register_buffer(\n",
    "            \"env_sum_normalizations\",\n",
    "            # dividing by sqrt(N)\n",
    "            torch.as_tensor([avg_num_neighbors] * num_layers).rsqrt(),\n",
    "        )\n",
    "\n",
    "\n",
    "        self.latents = torch.nn.ModuleList([])\n",
    "        self.env_embed_mlps = torch.nn.ModuleList([])\n",
    "        self.tps = torch.nn.ModuleList([])\n",
    "        self.linears = torch.nn.ModuleList([])\n",
    "        self.env_linears = torch.nn.ModuleList([])\n",
    "\n",
    "        # Embed to the spharm * it as mul\n",
    "        input_irreps = self.irreps_in[self.field]\n",
    "        # this is not inherant, but no reason to fix right now:\n",
    "        \n",
    "        irrep_hidden = o3.Irreps('32x0e + 32x0o + 32x1e + 32x1o + 32x2e + 32x2e')\n",
    "        irrep_hidden_last = o3.Irreps('32x0e')\n",
    "        \n",
    "        n_basis = 8\n",
    "        \n",
    "        \n",
    "        # First layer\n",
    "        self.latents.append(o3.Linear(o3.Irreps(f'{n_basis + 2 * num_types}x0e'),\n",
    "                                               '32x0e'))\n",
    "        \n",
    "        \n",
    "        self.env_embed_mlps.append(o3.Linear(self.latents[-1].irreps_out, self.latents[-1].irreps_out))\n",
    "        \n",
    "        self.env_linears.append(FullyConnectedTensorProduct(\n",
    "            self.env_embed_mlps[-1].irreps_out,\n",
    "            irreps_in['edge_attrs'],\n",
    "            o3.Irreps([(self.env_embed_mlps[-1].irreps_out[0][0], el[1]) for el in irreps_in['edge_attrs']])\n",
    "        ))\n",
    "        \n",
    "        self.tps.append(FullyConnectedTensorProduct(\n",
    "            irreps_in['edge_attrs'],\n",
    "            self.env_linears[-1].irreps_out,\n",
    "            irrep_hidden\n",
    "        ))\n",
    "        \n",
    "        self.linears.append(o3.Linear(self.tps[-1].irreps_out, self.tps[-1].irreps_out))\n",
    "        \n",
    "        # Second and later layers\n",
    "        for i in range(num_layers - 1):\n",
    "            self.latents.append(o3.Linear('64x0e', '32x0e'))\n",
    "            self.env_embed_mlps.append(o3.Linear(self.latents[-1].irreps_out, self.latents[-1].irreps_out))\n",
    "            \n",
    "            self.env_linears.append(FullyConnectedTensorProduct(\n",
    "                self.env_embed_mlps[-1].irreps_out,\n",
    "                irreps_in['edge_attrs'],\n",
    "                o3.Irreps([(self.env_embed_mlps[-1].irreps_out[0][0], el[1]) for el in irreps_in['edge_attrs']])\n",
    "            ))\n",
    "            \n",
    "            if i != num_layers - 1:\n",
    "                self.tps.append(FullyConnectedTensorProduct(\n",
    "                    irrep_hidden,\n",
    "                    self.env_linears[-1].irreps_out,\n",
    "                    irrep_hidden\n",
    "                ))\n",
    "            # Handling last layer other way\n",
    "            else:\n",
    "                self.tps.append(FullyConnectedTensorProduct(\n",
    "                    irrep_hidden,\n",
    "                    self.env_linears[-1].irreps_out,\n",
    "                    irrep_hidden_last\n",
    "                ))\n",
    "                \n",
    "            self.linears.append(o3.Linear(self.tps[-1].irreps_out, self.tps[-1].irreps_out))\n",
    "            \n",
    "        \n",
    "        self.final_latent = o3.Linear('64x0e', '32x0e')\n",
    "\n",
    "    def forward(self, data: AtomicDataDict.Type) -> AtomicDataDict.Type:\n",
    "        \"\"\"Evaluate.\n",
    "\n",
    "        :param data: AtomicDataDict.Type\n",
    "        :return: AtomicDataDict.Type\n",
    "        \"\"\"\n",
    "        edge_center = data[AtomicDataDict.EDGE_INDEX_KEY][0]\n",
    "        edge_neighbor = data[AtomicDataDict.EDGE_INDEX_KEY][1]\n",
    "\n",
    "        edge_attr = data[self.field]\n",
    "        # pad edge_attr\n",
    "        #if self._input_pad > 0:\n",
    "        #    edge_attr = torch.cat(\n",
    "        #        (\n",
    "        #           edge_attr,\n",
    "        #            self._zero.expand(len(edge_attr), self._input_pad),\n",
    "        #        ),\n",
    "        #        dim=-1,\n",
    "        #    )\n",
    "        # The nonscalar features. Initially, the edge data.\n",
    "        features = edge_attr\n",
    "        \n",
    "        \n",
    "        edge_length = data[AtomicDataDict.EDGE_LENGTH_KEY]\n",
    "        num_edges: int = len(edge_attr)\n",
    "        edge_invariants = data[self.edge_invariant_field]\n",
    "        node_invariants = data[self.node_invariant_field]\n",
    "\n",
    "        \n",
    "        # For the first layer, we use the input invariants:\n",
    "        # The center and neighbor invariants and edge invariants\n",
    "        latent_inputs_to_cat = [\n",
    "            node_invariants[edge_center],\n",
    "            node_invariants[edge_neighbor],\n",
    "            edge_invariants,\n",
    "        ]\n",
    "        \n",
    "        # cutoff\n",
    "        r_max = 5\n",
    "        \n",
    "        factor = 1/r_max\n",
    "        p = 6\n",
    "\n",
    "        x = edge_length * factor\n",
    "\n",
    "        cutoff = 1.0\n",
    "        cutoff = cutoff - (((p + 1.0) * (p + 2.0) / 2.0) * torch.pow(x, p))\n",
    "        cutoff = cutoff + (p * (p + 2.0) * torch.pow(x, p + 1.0))\n",
    "        cutoff = cutoff - ((p * (p + 1.0) / 2) * torch.pow(x, p + 2.0))\n",
    "        cutoff *= (x < 1.0)\n",
    "\n",
    "        cutoff_coeffs = cutoff\n",
    "        \n",
    "        layer_index = 0\n",
    "        # !!!! REMEMBER !!!! update final layer if update the code in main loop!!!\n",
    "        # This goes through layer0, layer1, ..., layer_max-1\n",
    "        for latent, env_embed_mlp, env_linear, tp, linear in zip(\n",
    "            self.latents, self.env_embed_mlps, self.env_linears, self.tps, self.linears\n",
    "        ):\n",
    "            # Determine which edges are still in play\n",
    "            new_latents = latent(torch.cat(latent_inputs_to_cat, dim=-1))\n",
    "            # Apply cutoff, which propagates through to everything else\n",
    "            new_latents = cutoff_coeffs.unsqueeze(-1) * new_latents\n",
    "\n",
    "            if self.latent_resnet and layer_index > 0:\n",
    "                # Residual update\n",
    "                latents += new_latents\n",
    "            else:\n",
    "                latents = new_latents\n",
    "                \n",
    "            # From the latents, compute the weights for active edges:\n",
    "            weights = env_embed_mlp(latents)\n",
    "            w_index: int = 0\n",
    "\n",
    "            # Produce right array of features with channels\n",
    "            local_env_per_edge = env_linear(weights, edge_attr)\n",
    "            \n",
    "            # Sum over the env\n",
    "            local_env_per_edge = scatter(local_env_per_edge[edge_neighbor], \n",
    "                                           edge_center, dim=0, dim_size=len(edge_center))\n",
    "            \n",
    "            # Now do the TP\n",
    "            # recursively tp current features with the environment embeddings\n",
    "            features = tp(features, local_env_per_edge)\n",
    "\n",
    "            \n",
    "            print(features.shape, local_env_per_edge.shape)\n",
    "            # Get invariants\n",
    "            # features has shape [z][mul][k]\n",
    "            # we know scalars are first\n",
    "            scalars = features[:, :32].reshape(\n",
    "                features.shape[0], 32)\n",
    "\n",
    "            # do the linear\n",
    "            features = linear(features)\n",
    "\n",
    "            # For layer2+, use the previous latents and scalars\n",
    "            # This makes it deep\n",
    "            latent_inputs_to_cat = [\n",
    "                latents,\n",
    "                scalars,\n",
    "            ]\n",
    "\n",
    "            # increment counter\n",
    "            layer_index += 1\n",
    "\n",
    "        # - final layer -\n",
    "        \n",
    "        new_latents = self.final_latent(\n",
    "            torch.cat(latent_inputs_to_cat, dim=-1)\n",
    "        )\n",
    "        new_latents = cutoff_coeffs.unsqueeze(-1) * new_latents\n",
    "        \n",
    "        latents += new_latents\n",
    "        # - end final layer -\n",
    "\n",
    "        # final latents\n",
    "        data['edge_features'] = latents\n",
    "\n",
    "        return data"
   ]
  },
  {
   "cell_type": "code",
   "execution_count": 270,
   "id": "741d47ca",
   "metadata": {},
   "outputs": [
    {
     "data": {
      "text/plain": [
       "Allegro_Module_my(\n",
       "  (latents): ModuleList(\n",
       "    (0): Linear(14x0e -> 32x0e | 448 weights)\n",
       "    (1-2): 2 x Linear(64x0e -> 32x0e | 2048 weights)\n",
       "  )\n",
       "  (env_embed_mlps): ModuleList(\n",
       "    (0-2): 3 x Linear(32x0e -> 32x0e | 1024 weights)\n",
       "  )\n",
       "  (tps): ModuleList(\n",
       "    (0): FullyConnectedTensorProduct(1x0e+1x1o+1x2e x 32x0e+32x1o+32x2e -> 32x0e+32x0o+32x1e+32x1o+64x2e | 17408 paths | 17408 weights)\n",
       "    (1-2): 2 x FullyConnectedTensorProduct(32x0e+32x0o+32x1e+32x1o+64x2e x 32x0e+32x1o+32x2e -> 32x0e+32x0o+32x1e+32x1o+64x2e | 1048576 paths | 1048576 weights)\n",
       "  )\n",
       "  (linears): ModuleList(\n",
       "    (0-2): 3 x Linear(32x0e+32x0o+32x1e+32x1o+32x2e+32x2e -> 32x0e+32x0o+32x1e+32x1o+32x2e+32x2e | 8192 weights)\n",
       "  )\n",
       "  (env_linears): ModuleList(\n",
       "    (0-2): 3 x FullyConnectedTensorProduct(32x0e x 1x0e+1x1o+1x2e -> 32x0e+32x1o+32x2e | 3072 paths | 3072 weights)\n",
       "  )\n",
       "  (final_latent): Linear(64x0e -> 32x0e | 2048 weights)\n",
       ")"
      ]
     },
     "execution_count": 270,
     "metadata": {},
     "output_type": "execute_result"
    }
   ],
   "source": [
    "Main_Module_my = Allegro_Module_my(r_max = 5,\n",
    "               num_layers = 3,\n",
    "               num_types = 3,\n",
    "               avg_num_neighbors=10., \n",
    "               irreps_in=irreps_in)\n",
    "\n",
    "Main_Module_my"
   ]
  },
  {
   "cell_type": "code",
   "execution_count": 273,
   "id": "4ee12401",
   "metadata": {},
   "outputs": [
    {
     "name": "stdout",
     "output_type": "stream",
     "text": [
      "torch.Size([364, 576]) torch.Size([364, 288])\n",
      "torch.Size([364, 576]) torch.Size([364, 288])\n",
      "torch.Size([364, 576]) torch.Size([364, 288])\n"
     ]
    },
    {
     "data": {
      "text/plain": [
       "torch.Size([364, 32])"
      ]
     },
     "execution_count": 273,
     "metadata": {},
     "output_type": "execute_result"
    }
   ],
   "source": [
    "Main_Module_my(data_in)['edge_features'].shape"
   ]
  },
  {
   "cell_type": "code",
   "execution_count": 244,
   "id": "458183ed",
   "metadata": {},
   "outputs": [
    {
     "data": {
      "text/plain": [
       "32x0e+32x1o+32x2e"
      ]
     },
     "execution_count": 244,
     "metadata": {},
     "output_type": "execute_result"
    }
   ],
   "source": [
    "a = o3.Irreps('32x0e') \n",
    "b = o3.Irreps('1x0e + 1x1o + 1x2e')\n",
    "\n",
    "\n",
    "o3.Irreps([(a[0][0], el[1]) for el in b])"
   ]
  },
  {
   "cell_type": "code",
   "execution_count": null,
   "id": "e455ce9d",
   "metadata": {},
   "outputs": [],
   "source": [
    "o3.Irreps([(self.env_embed_mlps[-1].irreps_out[0][0], (el[1], el[2])) for el in irreps_in['edge_attrs']]))"
   ]
  }
 ],
 "metadata": {
  "kernelspec": {
   "display_name": "torch_mkl",
   "language": "python",
   "name": "torch_mkl"
  },
  "language_info": {
   "codemirror_mode": {
    "name": "ipython",
    "version": 3
   },
   "file_extension": ".py",
   "mimetype": "text/x-python",
   "name": "python",
   "nbconvert_exporter": "python",
   "pygments_lexer": "ipython3",
   "version": "3.10.14"
  }
 },
 "nbformat": 4,
 "nbformat_minor": 5
}
