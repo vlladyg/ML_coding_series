{
 "cells": [
  {
   "cell_type": "markdown",
   "metadata": {},
   "source": [
    "# Cross approximation in the TT format\n",
    "\n",
    "Using the `torchtt.TT` constructor, a TT decomposition of a given tensor can be obtained. However, in the cases where the entries of the tensor are computed using a given function, building full tensors becomes unfeasible. It is possible to construct a TT decomposition using only a part of the entries of the full tensor. This is called the cross approximation method."
   ]
  },
  {
   "cell_type": "markdown",
   "metadata": {},
   "source": [
    "Imports:"
   ]
  },
  {
   "cell_type": "code",
   "execution_count": 1,
   "metadata": {},
   "outputs": [
    {
     "name": "stderr",
     "output_type": "stream",
     "text": [
      "/Users/temporary/anaconda3/envs/torch_mkl/lib/python3.10/site-packages/torchtt/_dmrg.py:19: UserWarning: \u001b[33m\n",
      "C++ implementation not available. Using pure Python.\n",
      "\u001b[0m\n",
      "  warnings.warn(\"\\x1B[33m\\nC++ implementation not available. Using pure Python.\\n\\033[0m\")\n",
      "/Users/temporary/anaconda3/envs/torch_mkl/lib/python3.10/site-packages/torchtt/_amen.py:21: UserWarning: \u001b[33m\n",
      "C++ implementation not available. Using pure Python.\n",
      "\u001b[0m\n",
      "  warnings.warn(\n",
      "/Users/temporary/anaconda3/envs/torch_mkl/lib/python3.10/site-packages/torchtt/solvers.py:21: UserWarning: \u001b[33m\n",
      "C++ implementation not available. Using pure Python.\n",
      "\u001b[0m\n",
      "  warnings.warn(\n",
      "/Users/temporary/anaconda3/envs/torch_mkl/lib/python3.10/site-packages/torchtt/cpp.py:12: UserWarning: \u001b[33m\n",
      "C++ implementation not available. Using pure Python.\n",
      "\u001b[0m\n",
      "  warnings.warn(\"\\x1B[33m\\nC++ implementation not available. Using pure Python.\\n\\033[0m\")\n",
      "/Users/temporary/anaconda3/envs/torch_mkl/lib/python3.10/site-packages/torchtt/__init__.py:34: UserWarning: \u001b[33m\n",
      "C++ implementation not available. Using pure Python.\n",
      "\u001b[0m\n",
      "  warnings.warn(\n"
     ]
    }
   ],
   "source": [
    "import torch as tn\n",
    "import torchtt as tntt\n"
   ]
  },
  {
   "cell_type": "markdown",
   "metadata": {},
   "source": [
    "### Cross interpolation of a tensor in TT format\n",
    "\n",
    "We want to approximate the tensor $\\mathsf{x}_{i_1...i_d}=\\frac{1}{2+i_1+\\cdots+i_d}$. Since the passed indices are integers of type `torch.int64`, casting is used."
   ]
  },
  {
   "cell_type": "code",
   "execution_count": 2,
   "metadata": {},
   "outputs": [],
   "source": [
    "func1 = lambda I: 1/(2+tn.sum(I+1,1).to(dtype=tn.float64))"
   ]
  },
  {
   "cell_type": "markdown",
   "metadata": {},
   "source": [
    "Call the `torchtt.interpolate.dmrg_cross()` method."
   ]
  },
  {
   "cell_type": "code",
   "execution_count": 3,
   "metadata": {},
   "outputs": [],
   "source": [
    "N = [20]*4\n",
    "x = tntt.interpolate.dmrg_cross(func1, N, eps = 1e-7)"
   ]
  },
  {
   "cell_type": "markdown",
   "metadata": {},
   "source": [
    "Compute the full tensor and compare to the reference."
   ]
  },
  {
   "cell_type": "code",
   "execution_count": 4,
   "metadata": {},
   "outputs": [
    {
     "name": "stdout",
     "output_type": "stream",
     "text": [
      "Relative error  tensor(6.0585e-09, dtype=torch.float64)\n"
     ]
    }
   ],
   "source": [
    "Is = tntt.meshgrid([tn.arange(0,n,dtype=tn.float64) for n in N])\n",
    "x_ref = 1/(2+Is[0].full()+Is[1].full()+Is[2].full()+Is[3].full()+4)\n",
    "print('Relative error ',tn.linalg.norm(x.full()-x_ref)/tn.linalg.norm(x_ref))"
   ]
  },
  {
   "cell_type": "markdown",
   "metadata": {},
   "source": [
    "We consider the case $d=10$, $n_i=32$. the full tensor would contain $32^{10}$ entries.\n",
    "The total number of functions calls is in this case 25000000 compared to $32^{10}$ of the total number of entries."
   ]
  },
  {
   "cell_type": "code",
   "execution_count": 5,
   "metadata": {},
   "outputs": [
    {
     "name": "stdout",
     "output_type": "stream",
     "text": [
      "Sweep 1: \n",
      "\tLR supercore 1,2\n",
      "\t\tnumber evaluations 2048\n",
      "\t\trank updated 2 -> 8, local error 8.166608e+05\n",
      "\tLR supercore 2,3\n",
      "\t\tnumber evaluations 16384\n",
      "\t\trank updated 2 -> 9, local error 1.178700e+00\n",
      "\tLR supercore 3,4\n",
      "\t\tnumber evaluations 18432\n",
      "\t\trank updated 2 -> 9, local error 1.067508e+00\n",
      "\tLR supercore 4,5\n",
      "\t\tnumber evaluations 18432\n",
      "\t\trank updated 2 -> 9, local error 1.114764e+00\n",
      "\tLR supercore 5,6\n",
      "\t\tnumber evaluations 18432\n",
      "\t\trank updated 2 -> 10, local error 9.758929e-01\n",
      "\tLR supercore 6,7\n",
      "\t\tnumber evaluations 20480\n",
      "\t\trank updated 2 -> 11, local error 1.040452e+00\n",
      "\tLR supercore 7,8\n",
      "\t\tnumber evaluations 22528\n",
      "\t\trank updated 2 -> 14, local error 1.077660e+00\n",
      "\tLR supercore 8,9\n",
      "\t\tnumber evaluations 28672\n",
      "\t\trank updated 2 -> 13, local error 1.221364e+00\n",
      "\tLR supercore 9,10\n",
      "\t\tnumber evaluations 13312\n",
      "\t\trank updated 2 -> 12, local error 1.212691e+00\n",
      "\tRL supercore 9,10\n",
      "\t\tnumber evaluations 13312\n",
      "\t\trank updated 12 -> 12, local error 2.037561e-12\n",
      "\tRL supercore 8,9\n",
      "\t\tnumber evaluations 172032\n",
      "\t\trank updated 13 -> 13, local error 3.960546e-10\n",
      "\tRL supercore 7,8\n",
      "\t\tnumber evaluations 146432\n",
      "\t\trank updated 14 -> 14, local error 5.205536e-11\n",
      "\tRL supercore 6,7\n",
      "\t\tnumber evaluations 143360\n",
      "\t\trank updated 11 -> 15, local error 2.742372e-05\n",
      "\tRL supercore 5,6\n",
      "\t\tnumber evaluations 138240\n",
      "\t\trank updated 10 -> 15, local error 5.032329e-05\n",
      "\tRL supercore 4,5\n",
      "\t\tnumber evaluations 138240\n",
      "\t\trank updated 9 -> 14, local error 4.745347e-04\n",
      "\tRL supercore 3,4\n",
      "\t\tnumber evaluations 129024\n",
      "\t\trank updated 9 -> 14, local error 7.725936e-04\n",
      "\tRL supercore 2,3\n",
      "\t\tnumber evaluations 114688\n",
      "\t\trank updated 9 -> 14, local error 1.085209e-04\n",
      "\tRL supercore 1,2\n",
      "\t\tnumber evaluations 14336\n",
      "\t\trank updated 8 -> 13, local error 5.621524e-05\n",
      "Max error 816661\n",
      "Sweep 2: \n",
      "\tLR supercore 1,2\n",
      "\t\tnumber evaluations 14336\n",
      "\t\trank updated 13 -> 13, local error 2.792617e-13\n",
      "\tLR supercore 2,3\n",
      "\t\tnumber evaluations 186368\n",
      "\t\trank updated 14 -> 14, local error 1.258370e-12\n",
      "\tLR supercore 3,4\n",
      "\t\tnumber evaluations 200704\n",
      "\t\trank updated 14 -> 14, local error 5.363479e-12\n",
      "\tLR supercore 4,5\n",
      "\t\tnumber evaluations 215040\n",
      "\t\trank updated 14 -> 14, local error 1.535755e-11\n",
      "\tLR supercore 5,6\n",
      "\t\tnumber evaluations 215040\n",
      "\t\trank updated 15 -> 14, local error 1.508497e-11\n",
      "\tLR supercore 6,7\n",
      "\t\tnumber evaluations 200704\n",
      "\t\trank updated 15 -> 14, local error 2.204185e-11\n",
      "\tLR supercore 7,8\n",
      "\t\tnumber evaluations 186368\n",
      "\t\trank updated 14 -> 13, local error 3.165812e-11\n",
      "\tLR supercore 8,9\n",
      "\t\tnumber evaluations 159744\n",
      "\t\trank updated 13 -> 12, local error 5.536151e-11\n",
      "\tLR supercore 9,10\n",
      "\t\tnumber evaluations 12288\n",
      "\t\trank updated 12 -> 12, local error 4.529296e-10\n",
      "\tRL supercore 9,10\n",
      "\t\tnumber evaluations 12288\n",
      "\t\trank updated 12 -> 12, local error 6.973515e-13\n",
      "\tRL supercore 8,9\n",
      "\t\tnumber evaluations 159744\n",
      "\t\trank updated 12 -> 12, local error 4.724306e-10\n",
      "\tRL supercore 7,8\n",
      "\t\tnumber evaluations 172032\n",
      "\t\trank updated 13 -> 13, local error 6.292671e-11\n",
      "\tRL supercore 6,7\n",
      "\t\tnumber evaluations 186368\n",
      "\t\trank updated 14 -> 13, local error 2.805714e-11\n",
      "\tRL supercore 5,6\n",
      "\t\tnumber evaluations 186368\n",
      "\t\trank updated 14 -> 14, local error 4.894771e-11\n",
      "\tRL supercore 4,5\n",
      "\t\tnumber evaluations 200704\n",
      "\t\trank updated 14 -> 14, local error 2.547863e-11\n",
      "\tRL supercore 3,4\n",
      "\t\tnumber evaluations 200704\n",
      "\t\trank updated 14 -> 14, local error 1.466745e-11\n",
      "\tRL supercore 2,3\n",
      "\t\tnumber evaluations 186368\n",
      "\t\trank updated 14 -> 14, local error 5.791725e-12\n",
      "\tRL supercore 1,2\n",
      "\t\tnumber evaluations 14336\n",
      "\t\trank updated 13 -> 13, local error 2.128382e-12\n",
      "Max error 4.72431e-10\n",
      "Sweep 3: \n",
      "\tLR supercore 1,2\n",
      "\t\tnumber evaluations 14336\n",
      "\t\trank updated 13 -> 13, local error 4.374972e-13\n",
      "\tLR supercore 2,3\n",
      "\t\tnumber evaluations 186368\n",
      "\t\trank updated 14 -> 14, local error 2.409288e-12\n",
      "\tLR supercore 3,4\n",
      "\t\tnumber evaluations 200704\n",
      "\t\trank updated 14 -> 14, local error 6.664678e-12\n",
      "\tLR supercore 4,5\n",
      "\t\tnumber evaluations 200704\n",
      "\t\trank updated 14 -> 14, local error 8.962575e-12\n",
      "\tLR supercore 5,6\n",
      "\t\tnumber evaluations 186368\n",
      "\t\trank updated 14 -> 14, local error 1.971212e-11\n",
      "\tLR supercore 6,7\n",
      "\t\tnumber evaluations 186368\n",
      "\t\trank updated 13 -> 13, local error 2.369437e-11\n",
      "\tLR supercore 7,8\n",
      "\t\tnumber evaluations 159744\n",
      "\t\trank updated 13 -> 13, local error 6.383522e-11\n",
      "\tLR supercore 8,9\n",
      "\t\tnumber evaluations 159744\n",
      "\t\trank updated 12 -> 12, local error 3.816016e-11\n",
      "\tLR supercore 9,10\n",
      "\t\tnumber evaluations 12288\n",
      "\t\trank updated 12 -> 12, local error 3.284004e-10\n",
      "\tRL supercore 9,10\n",
      "\t\tnumber evaluations 12288\n",
      "\t\trank updated 12 -> 12, local error 5.476167e-13\n",
      "\tRL supercore 8,9\n",
      "\t\tnumber evaluations 159744\n",
      "\t\trank updated 12 -> 12, local error 4.015026e-10\n",
      "\tRL supercore 7,8\n",
      "\t\tnumber evaluations 159744\n",
      "\t\trank updated 13 -> 13, local error 4.587391e-11\n",
      "\tRL supercore 6,7\n",
      "\t\tnumber evaluations 186368\n",
      "\t\trank updated 13 -> 14, local error 1.536011e-10\n",
      "\tRL supercore 5,6\n",
      "\t\tnumber evaluations 200704\n",
      "\t\trank updated 14 -> 14, local error 2.927401e-11\n",
      "\tRL supercore 4,5\n",
      "\t\tnumber evaluations 200704\n",
      "\t\trank updated 14 -> 14, local error 3.585631e-11\n",
      "\tRL supercore 3,4\n",
      "\t\tnumber evaluations 200704\n",
      "\t\trank updated 14 -> 14, local error 7.028282e-12\n",
      "\tRL supercore 2,3\n",
      "\t\tnumber evaluations 186368\n",
      "\t\trank updated 14 -> 14, local error 4.174550e-12\n",
      "\tRL supercore 1,2\n",
      "\t\tnumber evaluations 14336\n",
      "\t\trank updated 13 -> 13, local error 2.193683e-12\n",
      "Max error 4.01503e-10\n",
      "Sweep 4: \n",
      "\tLR supercore 1,2\n",
      "\t\tnumber evaluations 14336\n",
      "\t\trank updated 13 -> 13, local error 3.094972e-13\n",
      "\tLR supercore 2,3\n",
      "\t\tnumber evaluations 186368\n",
      "\t\trank updated 14 -> 14, local error 1.877329e-12\n",
      "\tLR supercore 3,4\n",
      "\t\tnumber evaluations 200704\n",
      "\t\trank updated 14 -> 14, local error 2.877646e-12\n",
      "\tLR supercore 4,5\n",
      "\t\tnumber evaluations 200704\n",
      "\t\trank updated 14 -> 14, local error 1.195894e-11\n",
      "\tLR supercore 5,6\n",
      "\t\tnumber evaluations 200704\n",
      "\t\trank updated 14 -> 14, local error 1.202121e-11\n",
      "\tLR supercore 6,7\n",
      "\t\tnumber evaluations 186368\n",
      "\t\trank updated 14 -> 14, local error 2.091130e-11\n",
      "\tLR supercore 7,8\n",
      "\t\tnumber evaluations 172032\n",
      "\t\trank updated 13 -> 13, local error 2.513564e-11\n",
      "\tLR supercore 8,9\n",
      "\t\tnumber evaluations 159744\n",
      "\t\trank updated 12 -> 13, local error 7.313249e-11\n",
      "\tLR supercore 9,10\n",
      "\t\tnumber evaluations 13312\n",
      "\t\trank updated 12 -> 11, local error 3.119845e-11\n",
      "\tRL supercore 9,10\n",
      "\t\tnumber evaluations 13312\n",
      "\t\trank updated 11 -> 11, local error 7.688744e-12\n",
      "\tRL supercore 8,9\n",
      "\t\tnumber evaluations 146432\n",
      "\t\trank updated 13 -> 12, local error 3.180267e-11\n",
      "\tRL supercore 7,8\n",
      "\t\tnumber evaluations 172032\n",
      "\t\trank updated 13 -> 13, local error 9.071606e-11\n",
      "\tRL supercore 6,7\n",
      "\t\tnumber evaluations 186368\n",
      "\t\trank updated 14 -> 14, local error 7.008301e-11\n",
      "\tRL supercore 5,6\n",
      "\t\tnumber evaluations 200704\n",
      "\t\trank updated 14 -> 14, local error 2.957004e-11\n",
      "\tRL supercore 4,5\n",
      "\t\tnumber evaluations 200704\n",
      "\t\trank updated 14 -> 14, local error 1.588716e-11\n",
      "\tRL supercore 3,4\n",
      "\t\tnumber evaluations 200704\n",
      "\t\trank updated 14 -> 14, local error 8.187949e-12\n",
      "\tRL supercore 2,3\n",
      "\t\tnumber evaluations 186368\n",
      "\t\trank updated 14 -> 14, local error 3.311580e-12\n",
      "\tRL supercore 1,2\n",
      "\t\tnumber evaluations 14336\n",
      "\t\trank updated 13 -> 13, local error 1.338079e-12\n",
      "Max error 9.071606e-11 < 1.000000e-10  ---->  DONE\n",
      "number of function calls  9160704\n",
      "\n"
     ]
    }
   ],
   "source": [
    "N = [32]*10\n",
    "x = tntt.interpolate.dmrg_cross(func1, N, eps = 1e-10, verbose=True)"
   ]
  },
  {
   "cell_type": "markdown",
   "metadata": {},
   "source": [
    "The adaptive cross method used only a fraction of function calls from the original tensor.\n",
    "Check some entries (full tensor cannot be computed this time) and show the rank and the storage requirements."
   ]
  },
  {
   "cell_type": "code",
   "execution_count": 6,
   "metadata": {},
   "outputs": [
    {
     "name": "stdout",
     "output_type": "stream",
     "text": [
      "tensor(0.0147, dtype=torch.float64)  reference  tensor([0.0147], dtype=torch.float64)\n",
      "tensor(0.0065, dtype=torch.float64)  reference  tensor([0.0065], dtype=torch.float64)\n",
      "TT with sizes and ranks:\n",
      "N = [32, 32, 32, 32, 32, 32, 32, 32, 32, 32]\n",
      "R = [1, 13, 14, 14, 14, 14, 14, 13, 12, 11, 1]\n",
      "\n",
      "Device: cpu, dtype: torch.float64\n",
      "#entries 46720 compression 4.149569576838985e-11\n",
      "\n"
     ]
    }
   ],
   "source": [
    "print(x[1,2,3,4,5,6,7,8,9,11], ' reference ', func1(tn.tensor([[1,2,3,4,5,6,7,8,9,11]])))\n",
    "print(x[12,23,17,25,30,0,7,8,9,11], ' reference ', func1(tn.tensor([[12,23,17,25,30,0,7,8,9,11]])))\n",
    "print(x)"
   ]
  },
  {
   "cell_type": "markdown",
   "metadata": {},
   "source": [
    "### Element wise application of an univariate function on a TT tensor.\n",
    "\n",
    "Let $f:\\mathbb{R}\\rightarrow\\mathbb{R}$ be a function and $\\mathsf{x}\\in\\mathbb{R}^{N_1\\times\\cdots\\times N_d}$ be a tensor with a known TT approximation. The goal is to determine the TT approximation of $\\mathsf{y}_{i_1...i_d}=f(\\mathsf{x}_{i_1...i_d})$ within a prescribed relative accuracy $\\epsilon$ (passed as argument).\n",
    "In this case the function is `torchtt.interpoalte.function_interpolate()` and takes as arguments a function handle, the tensor $\\mathsf{x}$, the accuracy epsilon, a initial tensor (starting point), number of sweeps (nswp) and the size of the rank enrichment (kick).\n",
    "Further arguments are the dtype of the result and the verbose flag.\n",
    "\n",
    "The function handle as argument gets as arguments torch vectors and has to return torch vectors of the same size.\n",
    "\n",
    "The following example computes the elemntwise natural logarithm of a tensor. The relative error of the result is also reported.\n"
   ]
  },
  {
   "cell_type": "code",
   "execution_count": 7,
   "metadata": {},
   "outputs": [
    {
     "name": "stdout",
     "output_type": "stream",
     "text": [
      "Relative error  tensor(2.6403e-11, dtype=torch.float64)\n"
     ]
    }
   ],
   "source": [
    "x = tntt.TT(x_ref)\n",
    "func = lambda t: tn.log(t)\n",
    "y = tntt.interpolate.function_interpolate(func, x, 1e-9)\n",
    "print('Relative error ',tn.linalg.norm(y.full()-func(x_ref))/tn.linalg.norm(func(x_ref)))"
   ]
  },
  {
   "cell_type": "markdown",
   "metadata": {},
   "source": [
    "### Element wise application of an multivariate function on a TT tensor.\n",
    "\n",
    "Let $f:\\mathbb{R}\\rightarrow\\mathbb{R}$ be a function and $\\mathsf{x}^{(1)},...,\\mathsf{x}^{(d)}\\in\\mathbb{R}^{N_1\\times\\cdots\\times N_d}$ be tensors with a known TT approximation. The goal is to determine the TT approximation of $\\mathsf{y}_{i_1...i_d}=f(\\mathsf{x}_{i_1...i_d}^{(1)},...,\\mathsf{x}^{(d)}_{i_1...i_d})$ within a prescribed relative accuracy $\\epsilon$ (passed as argument). The function is the same as in the previous case `tochtt.interpoalte.function_interpolate()`, but the second argument in this case is a list of torchtt.TT tensors. The function handle takes as argument a $M\\times d$ torch.tensor and every of the $M$ lines corresponds to an evaluation of the function $f$ at a certain tensor entry. The function handle returns a torch tensor of length $M$.\n",
    "\n",
    "The following example computes the same tensor as in the previous case, but with the `tochtt.interpoalte.function_interpolate()` method."
   ]
  },
  {
   "cell_type": "code",
   "execution_count": 8,
   "metadata": {},
   "outputs": [
    {
     "name": "stdout",
     "output_type": "stream",
     "text": [
      "Relative error  tensor(3.9713e-11, dtype=torch.float64)\n"
     ]
    }
   ],
   "source": [
    "z = tntt.interpolate.function_interpolate(func1, Is)\n",
    "print('Relative error ',tn.linalg.norm(z.full()-x_ref)/tn.linalg.norm(x_ref))"
   ]
  },
  {
   "cell_type": "code",
   "execution_count": null,
   "metadata": {},
   "outputs": [],
   "source": []
  }
 ],
 "metadata": {
  "interpreter": {
   "hash": "df6fc3a9b7a9c6f4b0308ab6eb361a4cabbf6b5db181383d07014ff4304e5cb3"
  },
  "kernelspec": {
   "display_name": "torch_mkl",
   "language": "python",
   "name": "torch_mkl"
  },
  "language_info": {
   "codemirror_mode": {
    "name": "ipython",
    "version": 3
   },
   "file_extension": ".py",
   "mimetype": "text/x-python",
   "name": "python",
   "nbconvert_exporter": "python",
   "pygments_lexer": "ipython3",
   "version": "3.10.14"
  }
 },
 "nbformat": 4,
 "nbformat_minor": 2
}
