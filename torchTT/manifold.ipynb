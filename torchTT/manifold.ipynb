{
 "cells": [
  {
   "cell_type": "markdown",
   "metadata": {},
   "source": []
  },
  {
   "cell_type": "code",
   "execution_count": 1,
   "metadata": {},
   "outputs": [
    {
     "name": "stderr",
     "output_type": "stream",
     "text": [
      "/Users/temporary/anaconda3/envs/torch_mkl/lib/python3.10/site-packages/torchtt/_dmrg.py:19: UserWarning: \u001b[33m\n",
      "C++ implementation not available. Using pure Python.\n",
      "\u001b[0m\n",
      "  warnings.warn(\"\\x1B[33m\\nC++ implementation not available. Using pure Python.\\n\\033[0m\")\n",
      "/Users/temporary/anaconda3/envs/torch_mkl/lib/python3.10/site-packages/torchtt/_amen.py:21: UserWarning: \u001b[33m\n",
      "C++ implementation not available. Using pure Python.\n",
      "\u001b[0m\n",
      "  warnings.warn(\n",
      "/Users/temporary/anaconda3/envs/torch_mkl/lib/python3.10/site-packages/torchtt/solvers.py:21: UserWarning: \u001b[33m\n",
      "C++ implementation not available. Using pure Python.\n",
      "\u001b[0m\n",
      "  warnings.warn(\n",
      "/Users/temporary/anaconda3/envs/torch_mkl/lib/python3.10/site-packages/torchtt/cpp.py:12: UserWarning: \u001b[33m\n",
      "C++ implementation not available. Using pure Python.\n",
      "\u001b[0m\n",
      "  warnings.warn(\"\\x1B[33m\\nC++ implementation not available. Using pure Python.\\n\\033[0m\")\n",
      "/Users/temporary/anaconda3/envs/torch_mkl/lib/python3.10/site-packages/torchtt/__init__.py:34: UserWarning: \u001b[33m\n",
      "C++ implementation not available. Using pure Python.\n",
      "\u001b[0m\n",
      "  warnings.warn(\n"
     ]
    }
   ],
   "source": [
    "import torch as tn\n",
    "import datetime\n",
    "import numpy as np\n",
    "try:\n",
    "    import torchtt as tntt\n",
    "except:\n",
    "    print('Installing torchTT...')\n",
    "    %pip install git+https://github.com/ion-g-ion/torchTT\n",
    "    import torchtt as tntt"
   ]
  },
  {
   "cell_type": "markdown",
   "metadata": {},
   "source": []
  },
  {
   "cell_type": "code",
   "execution_count": 2,
   "metadata": {},
   "outputs": [],
   "source": [
    "N = [10,11,12,13,14]\n",
    "Rt = [1,3,4,5,6,1]\n",
    "Rx = [1,6,6,6,6,1]\n",
    "target = tntt.randn(N,Rt).round(0)\n",
    "func = lambda x: 0.5*(x-target).norm(True)"
   ]
  },
  {
   "cell_type": "code",
   "execution_count": 4,
   "metadata": {},
   "outputs": [
    {
     "data": {
      "text/plain": [
       "TT with sizes and ranks:\n",
       "N = [10, 11, 12, 13, 14]\n",
       "R = [1, 3, 4, 5, 6, 1]\n",
       "\n",
       "Device: cpu, dtype: torch.float64\n",
       "#entries 876 compression 0.0036463536463536466"
      ]
     },
     "execution_count": 4,
     "metadata": {},
     "output_type": "execute_result"
    }
   ],
   "source": [
    "target"
   ]
  },
  {
   "cell_type": "markdown",
   "metadata": {},
   "source": []
  },
  {
   "cell_type": "code",
   "execution_count": 5,
   "metadata": {},
   "outputs": [
    {
     "name": "stdout",
     "output_type": "stream",
     "text": [
      "Value  166936.04052405598\n",
      "Value  146525.46293949717\n",
      "Value  62837.138985644546\n",
      "Value  11552.887519468724\n",
      "Value  1495.7546192129391\n",
      "Value  0.08833064372059891\n",
      "Value  4.2224995893584454e-12\n",
      "Value  5.8289872931809965e-24\n",
      "Value  2.543323489500019e-24\n",
      "Value  1.7459105836121516e-24\n",
      "Value  2.0984335632379473e-24\n",
      "Value  6.986298575431298e-25\n",
      "Value  4.746370819895353e-25\n",
      "Value  5.381857816753326e-25\n",
      "Value  1.110581856180454e-24\n",
      "Value  4.4582863326927625e-25\n",
      "Value  8.444872233305554e-25\n",
      "Value  4.542892402847257e-25\n",
      "Value  3.107769118003823e-25\n",
      "Value  5.268226074594466e-25\n"
     ]
    }
   ],
   "source": [
    "x0 = tntt.randn(N,Rx)\n",
    "x =x0.clone()\n",
    "for i in range(20):\n",
    "    # compute riemannian gradient using AD    \n",
    "    gr = tntt.manifold.riemannian_gradient(x,func)\n",
    "    \n",
    "    #stepsize length\n",
    "    alpha = 1.0\n",
    "    \n",
    "    # update step\n",
    "    x = (x-alpha*gr).round(0,Rx)    \n",
    "    print('Value ' , func(x).numpy())"
   ]
  },
  {
   "cell_type": "markdown",
   "metadata": {},
   "source": [
    "As a comparison, conventional gradient descent with respect to the TT cores is performed:"
   ]
  },
  {
   "cell_type": "code",
   "execution_count": 6,
   "metadata": {},
   "outputs": [
    {
     "name": "stdout",
     "output_type": "stream",
     "text": [
      "tensor(167369.1985, dtype=torch.float64)\n",
      "tensor(167227.2266, dtype=torch.float64)\n",
      "tensor(167101.0193, dtype=torch.float64)\n",
      "tensor(166421.8154, dtype=torch.float64)\n",
      "tensor(146771.9458, dtype=torch.float64)\n",
      "tensor(75280.4094, dtype=torch.float64)\n",
      "tensor(15629.6864, dtype=torch.float64)\n",
      "tensor(4262.5242, dtype=torch.float64)\n",
      "tensor(2301.5486, dtype=torch.float64)\n",
      "tensor(1161.8528, dtype=torch.float64)\n"
     ]
    }
   ],
   "source": [
    "y = x0.detach().clone()\n",
    "\n",
    "for i in range(1000):\n",
    "    tntt.grad.watch(y)\n",
    "    fval = func(y)\n",
    "    deriv = tntt.grad.grad(fval,y)    \n",
    "    alpha = 0.00001 # for stability\n",
    "    y = tntt.TT([y.cores[i].detach()-alpha*deriv[i] for i in range(len(deriv))])\n",
    "    if (i+1)%100 == 0: print(func(y))\n",
    "    "
   ]
  },
  {
   "cell_type": "markdown",
   "metadata": {},
   "source": [
    "### Manifold tensor completion\n",
    "\n",
    "One other task where the manifold learning can be applied is tensor completion.\n",
    "The goal for this problem is to reconstruct a tensor in the TT format given only a few entries (possible noisy)."
   ]
  },
  {
   "cell_type": "code",
   "execution_count": 7,
   "metadata": {},
   "outputs": [
    {
     "name": "stdout",
     "output_type": "stream",
     "text": [
      "[1, 3, 3, 2, 1]\n",
      "Riemannian gradient descent\n",
      "\n",
      "Iteration  100 loss value 3.665990e+02 error 7.645483e-02 tensor norm 6.364616e+06\n",
      "Iteration  200 loss value 1.839140e+02 error 5.950258e-02 tensor norm 6.554736e+06\n",
      "Iteration  300 loss value 1.731703e+02 error 5.765866e-02 tensor norm 6.567661e+06\n",
      "Iteration  400 loss value 1.106916e+02 error 5.210376e-02 tensor norm 6.572372e+06\n",
      "Iteration  500 loss value 3.185584e+01 error 4.498703e-02 tensor norm 6.578676e+06\n",
      "Iteration  600 loss value 1.956111e+01 error 4.345280e-02 tensor norm 6.578665e+06\n",
      "Iteration  700 loss value 1.091974e+01 error 4.213523e-02 tensor norm 6.578725e+06\n",
      "Iteration  800 loss value 7.423510e+00 error 4.119987e-02 tensor norm 6.578767e+06\n",
      "Iteration  900 loss value 5.847073e+00 error 4.049400e-02 tensor norm 6.578576e+06\n",
      "Iteration 1000 loss value 4.242343e+00 error 3.987350e-02 tensor norm 6.578378e+06\n",
      "Iteration 1100 loss value 2.142366e+00 error 3.934743e-02 tensor norm 6.578530e+06\n",
      "Iteration 1200 loss value 1.057562e+00 error 3.902722e-02 tensor norm 6.578943e+06\n",
      "Iteration 1300 loss value 7.788009e-01 error 3.883377e-02 tensor norm 6.579234e+06\n",
      "Iteration 1400 loss value 6.620994e-01 error 3.869593e-02 tensor norm 6.579444e+06\n",
      "Iteration 1500 loss value 5.907520e-01 error 3.859007e-02 tensor norm 6.579607e+06\n",
      "Iteration 1600 loss value 5.412276e-01 error 3.850459e-02 tensor norm 6.579739e+06\n",
      "Iteration 1700 loss value 5.047410e-01 error 3.843263e-02 tensor norm 6.579848e+06\n",
      "Iteration 1800 loss value 4.767078e-01 error 3.836999e-02 tensor norm 6.579942e+06\n",
      "Iteration 1900 loss value 4.544305e-01 error 3.831407e-02 tensor norm 6.580024e+06\n",
      "Iteration 2000 loss value 4.362334e-01 error 3.826318e-02 tensor norm 6.580097e+06\n",
      "Iteration 2100 loss value 4.210335e-01 error 3.821623e-02 tensor norm 6.580164e+06\n",
      "Iteration 2200 loss value 4.081047e-01 error 3.817245e-02 tensor norm 6.580226e+06\n",
      "Iteration 2300 loss value 3.969431e-01 error 3.813131e-02 tensor norm 6.580284e+06\n",
      "Iteration 2400 loss value 3.871877e-01 error 3.809241e-02 tensor norm 6.580338e+06\n",
      "Iteration 2500 loss value 3.785727e-01 error 3.805546e-02 tensor norm 6.580388e+06\n",
      "Iteration 2600 loss value 3.708977e-01 error 3.802020e-02 tensor norm 6.580436e+06\n",
      "Iteration 2700 loss value 3.640087e-01 error 3.798646e-02 tensor norm 6.580481e+06\n",
      "Iteration 2800 loss value 3.577848e-01 error 3.795407e-02 tensor norm 6.580524e+06\n",
      "Iteration 2900 loss value 3.521303e-01 error 3.792290e-02 tensor norm 6.580564e+06\n",
      "Iteration 3000 loss value 3.469677e-01 error 3.789283e-02 tensor norm 6.580603e+06\n",
      "Iteration 3100 loss value 3.422341e-01 error 3.786375e-02 tensor norm 6.580639e+06\n",
      "Iteration 3200 loss value 3.378771e-01 error 3.783559e-02 tensor norm 6.580674e+06\n",
      "Iteration 3300 loss value 3.338533e-01 error 3.780825e-02 tensor norm 6.580706e+06\n",
      "Iteration 3400 loss value 3.301259e-01 error 3.778168e-02 tensor norm 6.580738e+06\n",
      "Iteration 3500 loss value 3.266634e-01 error 3.775580e-02 tensor norm 6.580767e+06\n",
      "Iteration 3600 loss value 3.234389e-01 error 3.773055e-02 tensor norm 6.580796e+06\n",
      "Iteration 3700 loss value 3.204290e-01 error 3.770588e-02 tensor norm 6.580822e+06\n",
      "Iteration 3800 loss value 3.176132e-01 error 3.768174e-02 tensor norm 6.580848e+06\n",
      "Iteration 3900 loss value 3.149737e-01 error 3.765808e-02 tensor norm 6.580873e+06\n",
      "Iteration 4000 loss value 3.124946e-01 error 3.763486e-02 tensor norm 6.580896e+06\n",
      "Iteration 4100 loss value 3.101619e-01 error 3.761205e-02 tensor norm 6.580918e+06\n",
      "Iteration 4200 loss value 3.079628e-01 error 3.758959e-02 tensor norm 6.580939e+06\n",
      "Iteration 4300 loss value 3.058864e-01 error 3.756747e-02 tensor norm 6.580960e+06\n",
      "Iteration 4400 loss value 3.039223e-01 error 3.754564e-02 tensor norm 6.580979e+06\n",
      "Iteration 4500 loss value 3.020615e-01 error 3.752408e-02 tensor norm 6.580997e+06\n",
      "Iteration 4600 loss value 3.002957e-01 error 3.750276e-02 tensor norm 6.581015e+06\n",
      "Iteration 4700 loss value 2.986174e-01 error 3.748165e-02 tensor norm 6.581032e+06\n",
      "Iteration 4800 loss value 2.970199e-01 error 3.746073e-02 tensor norm 6.581048e+06\n",
      "Iteration 4900 loss value 2.954969e-01 error 3.743997e-02 tensor norm 6.581064e+06\n",
      "Iteration 5000 loss value 2.940427e-01 error 3.741936e-02 tensor norm 6.581079e+06\n",
      "Iteration 5100 loss value 2.926520e-01 error 3.739886e-02 tensor norm 6.581093e+06\n",
      "Iteration 5200 loss value 2.913202e-01 error 3.737847e-02 tensor norm 6.581107e+06\n",
      "Iteration 5300 loss value 2.900428e-01 error 3.735816e-02 tensor norm 6.581120e+06\n",
      "Iteration 5400 loss value 2.888157e-01 error 3.733791e-02 tensor norm 6.581132e+06\n",
      "Iteration 5500 loss value 2.876353e-01 error 3.731771e-02 tensor norm 6.581144e+06\n",
      "Iteration 5600 loss value 2.864979e-01 error 3.729754e-02 tensor norm 6.581156e+06\n",
      "Iteration 5700 loss value 2.854004e-01 error 3.727739e-02 tensor norm 6.581167e+06\n",
      "Iteration 5800 loss value 2.843398e-01 error 3.725724e-02 tensor norm 6.581177e+06\n",
      "Iteration 5900 loss value 2.833133e-01 error 3.723707e-02 tensor norm 6.581187e+06\n",
      "Iteration 6000 loss value 2.823182e-01 error 3.721688e-02 tensor norm 6.581197e+06\n",
      "Iteration 6100 loss value 2.813521e-01 error 3.719664e-02 tensor norm 6.581207e+06\n",
      "Iteration 6200 loss value 2.804127e-01 error 3.717635e-02 tensor norm 6.581215e+06\n",
      "Iteration 6300 loss value 2.794977e-01 error 3.715599e-02 tensor norm 6.581224e+06\n",
      "Iteration 6400 loss value 2.786052e-01 error 3.713555e-02 tensor norm 6.581232e+06\n",
      "Iteration 6500 loss value 2.777332e-01 error 3.711501e-02 tensor norm 6.581240e+06\n",
      "Iteration 6600 loss value 2.768797e-01 error 3.709437e-02 tensor norm 6.581248e+06\n",
      "Iteration 6700 loss value 2.760431e-01 error 3.707361e-02 tensor norm 6.581255e+06\n",
      "Iteration 6800 loss value 2.752214e-01 error 3.705272e-02 tensor norm 6.581262e+06\n",
      "Iteration 6900 loss value 2.744132e-01 error 3.703168e-02 tensor norm 6.581268e+06\n",
      "Iteration 7000 loss value 2.736167e-01 error 3.701049e-02 tensor norm 6.581275e+06\n",
      "Iteration 7100 loss value 2.728303e-01 error 3.698912e-02 tensor norm 6.581281e+06\n",
      "Iteration 7200 loss value 2.720525e-01 error 3.696758e-02 tensor norm 6.581286e+06\n",
      "Iteration 7300 loss value 2.712816e-01 error 3.694584e-02 tensor norm 6.581292e+06\n",
      "Iteration 7400 loss value 2.705161e-01 error 3.692389e-02 tensor norm 6.581297e+06\n",
      "Iteration 7500 loss value 2.697544e-01 error 3.690171e-02 tensor norm 6.581302e+06\n",
      "Iteration 7600 loss value 2.689948e-01 error 3.687930e-02 tensor norm 6.581307e+06\n",
      "Iteration 7700 loss value 2.682357e-01 error 3.685663e-02 tensor norm 6.581311e+06\n",
      "Iteration 7800 loss value 2.674753e-01 error 3.683369e-02 tensor norm 6.581315e+06\n",
      "Iteration 7900 loss value 2.667118e-01 error 3.681046e-02 tensor norm 6.581319e+06\n",
      "Iteration 8000 loss value 2.659432e-01 error 3.678694e-02 tensor norm 6.581323e+06\n",
      "Iteration 8100 loss value 2.651676e-01 error 3.676308e-02 tensor norm 6.581326e+06\n",
      "Iteration 8200 loss value 2.643827e-01 error 3.673889e-02 tensor norm 6.581330e+06\n",
      "Iteration 8300 loss value 2.635861e-01 error 3.671433e-02 tensor norm 6.581333e+06\n",
      "Iteration 8400 loss value 2.627752e-01 error 3.668938e-02 tensor norm 6.581336e+06\n",
      "Iteration 8500 loss value 2.619470e-01 error 3.666402e-02 tensor norm 6.581338e+06\n",
      "Iteration 8600 loss value 2.610984e-01 error 3.663822e-02 tensor norm 6.581341e+06\n",
      "Iteration 8700 loss value 2.602257e-01 error 3.661196e-02 tensor norm 6.581343e+06\n",
      "Iteration 8800 loss value 2.593247e-01 error 3.658520e-02 tensor norm 6.581345e+06\n",
      "Iteration 8900 loss value 2.583909e-01 error 3.655791e-02 tensor norm 6.581347e+06\n",
      "Iteration 9000 loss value 2.574187e-01 error 3.653005e-02 tensor norm 6.581348e+06\n",
      "Iteration 9100 loss value 2.564020e-01 error 3.650158e-02 tensor norm 6.581350e+06\n",
      "Iteration 9200 loss value 2.553333e-01 error 3.647245e-02 tensor norm 6.581351e+06\n",
      "Iteration 9300 loss value 2.542040e-01 error 3.644263e-02 tensor norm 6.581352e+06\n",
      "Iteration 9400 loss value 2.530038e-01 error 3.641204e-02 tensor norm 6.581353e+06\n",
      "Iteration 9500 loss value 2.517202e-01 error 3.638064e-02 tensor norm 6.581353e+06\n",
      "Iteration 9600 loss value 2.503382e-01 error 3.634835e-02 tensor norm 6.581354e+06\n",
      "Iteration 9700 loss value 2.488393e-01 error 3.631509e-02 tensor norm 6.581354e+06\n",
      "Iteration 9800 loss value 2.472007e-01 error 3.628077e-02 tensor norm 6.581354e+06\n",
      "Iteration 9900 loss value 2.453936e-01 error 3.624531e-02 tensor norm 6.581354e+06\n"
     ]
    },
    {
     "name": "stdout",
     "output_type": "stream",
     "text": [
      "Iteration 10000 loss value 2.433817e-01 error 3.620857e-02 tensor norm 6.581354e+06\n",
      "\n",
      "Time elapsed 0:02:46.016980\n",
      "Number of observations 15000, tensor shape [25, 25, 25, 25], percentage of entries observed 3.8400\n",
      "Number of unknowns 1000, number of observations 15000, DoF/observations 0.066667\n",
      "Rank after rounding TT with sizes and ranks:\n",
      "N = [25, 25, 25, 25]\n",
      "R = [1, 4, 4, 4, 1]\n",
      "\n",
      "Device: cpu, dtype: torch.float64\n",
      "#entries 1000 compression 0.00256\n",
      "\n"
     ]
    }
   ],
   "source": [
    "N = 25\n",
    "target = tntt.randn([N]*4,[1,2,3,3,1])\n",
    "Xs = tntt.meshgrid([tn.linspace(0,1,N, dtype = tn.float64)]*4)\n",
    "target = Xs[0]+1+Xs[1]+Xs[2]+Xs[3]+Xs[0]*Xs[1]+Xs[1]*Xs[2]+tntt.TT(tn.sin(Xs[0].full()))\n",
    "target = target.round(1e-10)\n",
    "print(target.R)\n",
    "\n",
    "M = 15000 # number of observations \n",
    "indices = tn.randint(0,N,(M,4))\n",
    "\n",
    "# observations are considered to be noisy\n",
    "sigma_noise = 0.00001\n",
    "obs = tn.normal(target.apply_mask(indices), sigma_noise)\n",
    "\n",
    "# define the loss function\n",
    "loss = lambda x: (x.apply_mask(indices)-obs).norm()**2\n",
    "\n",
    "#%% Manifold learning\n",
    "print('Riemannian gradient descent\\n')\n",
    "# starting point\n",
    "x = tntt.randn([N]*4,[1,4,4,4,1])\n",
    "\n",
    "tme = datetime.datetime.now()\n",
    "# iterations\n",
    "for i in range(10000):\n",
    "    # manifold gradient \n",
    "    gr = tntt.manifold.riemannian_gradient(x,loss)\n",
    "\n",
    "    step_size = 1.0\n",
    "    R = x.R\n",
    "    # step update\n",
    "    x = (x - step_size * gr).round(0,R)\n",
    "\n",
    "    # compute loss value\n",
    "    if (i+1)%100 == 0:\n",
    "        loss_value = loss(x)\n",
    "        print('Iteration %4d loss value %e error %e tensor norm %e'%(i+1,loss_value.numpy(),(x-target).norm()/target.norm(), x.norm()**2))\n",
    "\n",
    "tme = datetime.datetime.now() - tme\n",
    "print('')\n",
    "print('Time elapsed',tme)\n",
    "print('Number of observations %d, tensor shape %s, percentage of entries observed %6.4f'%(M,str(x.N),100*M/np.prod(x.N)))\n",
    "print('Number of unknowns %d, number of observations %d, DoF/observations %.6f'%(tntt.numel(x),M,tntt.numel(x)/M))\n",
    "\n",
    "print('Rank after rounding',x.round(1e-6))"
   ]
  },
  {
   "cell_type": "code",
   "execution_count": null,
   "metadata": {},
   "outputs": [],
   "source": []
  }
 ],
 "metadata": {
  "interpreter": {
   "hash": "df6fc3a9b7a9c6f4b0308ab6eb361a4cabbf6b5db181383d07014ff4304e5cb3"
  },
  "kernelspec": {
   "display_name": "torch_mkl",
   "language": "python",
   "name": "torch_mkl"
  },
  "language_info": {
   "codemirror_mode": {
    "name": "ipython",
    "version": 3
   },
   "file_extension": ".py",
   "mimetype": "text/x-python",
   "name": "python",
   "nbconvert_exporter": "python",
   "pygments_lexer": "ipython3",
   "version": "3.10.14"
  }
 },
 "nbformat": 4,
 "nbformat_minor": 2
}
