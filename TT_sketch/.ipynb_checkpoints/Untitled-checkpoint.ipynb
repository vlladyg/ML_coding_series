{
 "cells": [
  {
   "cell_type": "code",
   "execution_count": 1,
   "id": "7d7f2784",
   "metadata": {},
   "outputs": [],
   "source": [
    "import numpy as np"
   ]
  },
  {
   "cell_type": "code",
   "execution_count": null,
   "id": "282e4996",
   "metadata": {},
   "outputs": [],
   "source": [
    "np.random.seed(2)\n",
    "N = 20 # number of variables\n",
    "NT = 1000 # size of training set\n",
    "beta = 2\n",
    "\n",
    "mindim = 3\n",
    "maxdim = 1000\n",
    "cutoff = 1e-16\n",
    "\n",
    "Js = np.random.randn(N-1)\n",
    "\n",
    "p = generate_ising_mps(N, beta, Js)\n",
    "\n",
    "\n",
    "def generate_ising_mps(N, beta, Js):\n",
    "    pass\n",
    "\n",
    "L, R = make_markov_sketches(s):\n",
    "    \n",
    "    "
   ]
  },
  {
   "cell_type": "code",
   "execution_count": null,
   "id": "79b21a2f",
   "metadata": {},
   "outputs": [],
   "source": [
    "def TTRS(p, r, T, s):\n",
    "    \"\"\"Input:\n",
    "    \n",
    "    p n1 x n2 x ... nd input array \n",
    "    r [r1, ..., rd-1] targe ranks\n",
    "    T [T2, ..., Td] right sketch; Tk [nk x ... x nd x lk-1] lk-1 > rk-1, \n",
    "    s [s2, .., sd-1] left sketch; s1 [m1 x n1], sk [mk x nk x mk-1]\n",
    "       \n",
    "       Return:\n",
    "       G [G1, ..., Gd]\n",
    "    \n",
    "    \"\"\"\n",
    "    \n",
    "    \n",
    "    Phi = sketching(p, T, s) # Phi [Phi1 ... Phid]\n",
    "    B = trimming(Phi, r) # B [B1, ..., Bd]\n",
    "    A = SystemForming(B, s) # A [A1 .. Ad-1]\n",
    "    \n",
    "    G = [np.zeros((p.shape[0], r[0]))] + [np.zeros((r[i], p.shape[i+1], r[i+1])) for i in range(p.shape - 2)] + [np.zeros((r[-1], p.shape[-1]))] \n",
    "    \n",
    "    G[0] = B[0]\n",
    "    \n",
    "    for k in range(1, len(p.shape)-1):\n",
    "        \n",
    "        B[k] = B[k].reshape((B[k].shape[0],B[k].shape[1]*B[k].shape[2]))\n",
    "        G[k] = np.linalg.lstsq(A[k-1], B[k])[0].reshape((r[k - 1], p.shape[k], r[k]))\n",
    "    \n",
    "    G[-1] = np.linalg.lstsq(A, B)\n",
    "    \n",
    "    return G"
   ]
  },
  {
   "cell_type": "code",
   "execution_count": 28,
   "id": "6441ee25",
   "metadata": {},
   "outputs": [
    {
     "name": "stderr",
     "output_type": "stream",
     "text": [
      "/var/folders/p2/mwhbpbfx4dx636dcf50t7_rr0000gn/T/ipykernel_43815/727089986.py:11: FutureWarning: `rcond` parameter will change to the default of machine precision times ``max(M, N)`` where M and N are the input matrix dimensions.\n",
      "To use the future default and silence this warning we advise to pass `rcond=None`, to keep using the old, explicitly pass `rcond=-1`.\n",
      "  G = np.linalg.lstsq(A, B)[0]\n"
     ]
    }
   ],
   "source": [
    "np.random.seed(32)\n",
    "\n",
    "\n",
    "A = np.random.randn(10, 20)\n",
    "G = np.random.randn(20, 40)\n",
    "B = np.random.randn(10, 40)\n",
    "\n",
    "#for i in range(G.shape[1]):\n",
    "#    G[:, i] = np.linalg.lstsq(A, B[:, i])[0]\n",
    "\n",
    "G = np.linalg.lstsq(A, B)[0]"
   ]
  },
  {
   "cell_type": "code",
   "execution_count": 29,
   "id": "1101a740",
   "metadata": {},
   "outputs": [
    {
     "data": {
      "text/plain": [
       "array([ 0.1803114 ,  0.10558941,  0.02575507, -0.19024725, -0.1703298 ,\n",
       "        0.0348796 , -0.20486975,  0.00536969,  0.04113201, -0.04688872,\n",
       "       -0.06603174, -0.01906886, -0.26251076,  0.00386427, -0.09875011,\n",
       "        0.1421969 ,  0.29536028, -0.16368285, -0.23743499,  0.1584506 ])"
      ]
     },
     "execution_count": 29,
     "metadata": {},
     "output_type": "execute_result"
    }
   ],
   "source": [
    "G[:, i].reshape()"
   ]
  },
  {
   "cell_type": "code",
   "execution_count": 30,
   "id": "efef41a5",
   "metadata": {},
   "outputs": [],
   "source": [
    "G = np.random.randn(20, 40, 20)"
   ]
  },
  {
   "cell_type": "code",
   "execution_count": 32,
   "id": "2265dc13",
   "metadata": {},
   "outputs": [
    {
     "data": {
      "text/plain": [
       "array([-0.61840384, -1.64239239,  1.18361379, ..., -0.53100125,\n",
       "       -0.17573051,  0.72733835])"
      ]
     },
     "execution_count": 32,
     "metadata": {},
     "output_type": "execute_result"
    }
   ],
   "source": [
    "G.flatten()"
   ]
  },
  {
   "cell_type": "code",
   "execution_count": null,
   "id": "c36e18d5",
   "metadata": {},
   "outputs": [],
   "source": []
  }
 ],
 "metadata": {
  "kernelspec": {
   "display_name": "torch_mkl",
   "language": "python",
   "name": "torch_mkl"
  },
  "language_info": {
   "codemirror_mode": {
    "name": "ipython",
    "version": 3
   },
   "file_extension": ".py",
   "mimetype": "text/x-python",
   "name": "python",
   "nbconvert_exporter": "python",
   "pygments_lexer": "ipython3",
   "version": "3.10.14"
  }
 },
 "nbformat": 4,
 "nbformat_minor": 5
}
