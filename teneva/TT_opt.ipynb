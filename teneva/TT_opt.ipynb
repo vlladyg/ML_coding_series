{
 "cells": [
  {
   "cell_type": "code",
   "execution_count": null,
   "id": "eb87338c",
   "metadata": {},
   "outputs": [],
   "source": [
    "import numpy as np\n",
    "import teneva\n",
    "from time import perf_counter as tpc\n",
    "np.random.seed(42)"
   ]
  },
  {
   "cell_type": "code",
   "execution_count": null,
   "id": "5c357184",
   "metadata": {},
   "outputs": [],
   "source": [
    "np.random.seed(42)\n",
    "# Target function:\n",
    "f = lambda x: 10. - np.sum(x**2)\n",
    "f_batch = lambda X: np.array([f(x) for x in X])\n",
    "\n",
    "d = 5                              # Dimension\n",
    "a = [-2.]*d                        # Grid lower bounds\n",
    "b = [+2.]*d                        # Grid upper bounds\n",
    "n = [201]*d                        # Grid size"
   ]
  },
  {
   "cell_type": "code",
   "execution_count": null,
   "id": "973023ad",
   "metadata": {},
   "outputs": [],
   "source": [
    "a, b"
   ]
  },
  {
   "cell_type": "code",
   "execution_count": null,
   "id": "14f9504b",
   "metadata": {},
   "outputs": [],
   "source": [
    "# We build very accurate approximation of the function:\n",
    "Y0 = teneva.rand(n, r=2, seed=42)  # Initial approximation for TT-cross\n",
    "Y = teneva.cross(lambda I: f_batch(teneva.ind_to_poi(I, a, b, n, 'cheb')),\n",
    "    Y0, m=5.E+5, e=None, log=True)\n",
    "Y = teneva.truncate(Y, 1.E-16)\n",
    "\n",
    "# We compute the TT-tensor for Chebyshev interpolation coefficients:\n",
    "A = teneva.func_int(Y)"
   ]
  },
  {
   "cell_type": "code",
   "execution_count": null,
   "id": "f1b35ee2",
   "metadata": {},
   "outputs": [],
   "source": [
    "# We find the maximum modulo point:\n",
    "x_opt = teneva.optima_func_tt_beam(A, k=10)     \n",
    "y_opt = teneva.func_get(x_opt, A, a, b)\n",
    "\n",
    "print(f'x opt appr :', x_opt)\n",
    "print(f'y opt appr :', y_opt)"
   ]
  },
  {
   "cell_type": "code",
   "execution_count": null,
   "id": "75adb2f5",
   "metadata": {},
   "outputs": [],
   "source": [
    "?teneva.optima_func_tt_beam"
   ]
  },
  {
   "cell_type": "code",
   "execution_count": null,
   "id": "bc89406c",
   "metadata": {},
   "outputs": [],
   "source": [
    "?teneva.ind_to_poi"
   ]
  },
  {
   "cell_type": "code",
   "execution_count": null,
   "id": "4ddbce6d",
   "metadata": {},
   "outputs": [],
   "source": [
    "\"\"\"The demo of using ttopt for maximization. Example with QTT.\n",
    "\n",
    "We'll find the maximum for the 10-dimensional Alpine function with vectorized\n",
    "input. The target function for maximization has the form f(X), where input X is\n",
    "the [samples, dimension] numpy array.\n",
    "\n",
    "Run it from the root of the project as \"python demo/qtt_max.py\".\n",
    "\n",
    "As a result of the script work we expect the output in console like this:\n",
    "\"\n",
    "...\n",
    "Alpine-10d | evals=1.00e+05 | t_cur=1.65e-01 | y= 8.715206e+01\n",
    "----------------------------------------------------------------------\n",
    "Alpine-10d | evals=1.00e+05 | t_all=2.22e+00 | y= 8.715206e+01 \n",
    "\"\n",
    "\n",
    "\"\"\"\n",
    "import numpy as np\n",
    "\n",
    "\n",
    "from ttopt import TTOpt\n",
    "from ttopt import ttopt_init\n",
    "\n",
    "\n",
    "np.random.seed(42)\n",
    "\n",
    "\n",
    "d = 10                     # Number of function dimensions:\n",
    "rank = 4                    # Maximum TT-rank while cross-like iterations\n",
    "#def f(X):                   # Target function\n",
    "#    return np.sum(np.abs(X * np.sin(X) + 0.1 * X), axis=1)\n",
    "\n",
    "f = lambda X: (10. - np.sum(X**2, axis = 1))\n",
    "\n",
    "# We initialize the TTOpt class instance with the correct parameters:\n",
    "tto = TTOpt(\n",
    "    f=f,                    # Function for maximization. X is [samples, dim]\n",
    "    d=d,                    # Number of function dimensions\n",
    "    a=-10.,                 # Grid lower bound (number or list of len d)\n",
    "    b=+10.,                 # Grid upper bound (number or list of len d)\n",
    "    p=2,                    # The grid size factor (there will n=p^q points)\n",
    "    q=20,                   # The grid size factor (there will n=p^q points)\n",
    "    evals=5.E+6,            # Number of function evaluations\n",
    "    name='Alpine',          # Function name for log (this is optional)\n",
    "    with_log=True)\n",
    "\n",
    "\n",
    "# And now we launching the maximizer:\n",
    "tto.optimize(rank, is_max=True)\n",
    "\n",
    "\n",
    "# We can extract the results of the computation:\n",
    "x = tto.x_opt          # The found value of the maximum of the function (x)\n",
    "y = tto.y_opt          # The found value of the maximum of the function (y=f(x))\n",
    "k_c = tto.k_cache      # Total number of cache usage (should be 0 in this demo)\n",
    "k_e = tto.k_evals      # Total number of requests to func (is always = evals)\n",
    "k_t = tto.k_total      # Total number of requests (k_cache + k_evals)\n",
    "t_f = tto.t_evals_mean # Average time spent to real function call for 1 point\n",
    "                       # ... (see \"ttopt.py\" and docs for more details)\n",
    "\n",
    "\n",
    "# We log the final state:\n",
    "print('-' * 70 + '\\n' + tto.info() +'\\n\\n')"
   ]
  },
  {
   "cell_type": "code",
   "execution_count": null,
   "id": "847542ac",
   "metadata": {},
   "outputs": [],
   "source": [
    "tto.x_opt"
   ]
  },
  {
   "cell_type": "code",
   "execution_count": 51,
   "id": "f7fb4eb4",
   "metadata": {},
   "outputs": [],
   "source": [
    "?TTOpt"
   ]
  },
  {
   "cell_type": "code",
   "execution_count": null,
   "id": "f56e62b7",
   "metadata": {},
   "outputs": [],
   "source": []
  }
 ],
 "metadata": {
  "kernelspec": {
   "display_name": "GPPhad",
   "language": "python",
   "name": "gpphad"
  },
  "language_info": {
   "codemirror_mode": {
    "name": "ipython",
    "version": 3
   },
   "file_extension": ".py",
   "mimetype": "text/x-python",
   "name": "python",
   "nbconvert_exporter": "python",
   "pygments_lexer": "ipython3",
   "version": "3.9.15"
  }
 },
 "nbformat": 4,
 "nbformat_minor": 5
}
