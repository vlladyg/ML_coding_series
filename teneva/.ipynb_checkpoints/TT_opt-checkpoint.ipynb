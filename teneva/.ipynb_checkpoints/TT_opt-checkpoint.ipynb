{
 "cells": [
  {
   "cell_type": "code",
   "execution_count": 1,
   "id": "a714477e",
   "metadata": {},
   "outputs": [],
   "source": [
    "import numpy as np\n",
    "import teneva\n",
    "from time import perf_counter as tpc\n",
    "np.random.seed(42)"
   ]
  },
  {
   "cell_type": "code",
   "execution_count": 2,
   "id": "b8b14982",
   "metadata": {},
   "outputs": [],
   "source": [
    "np.random.seed(42)\n",
    "# Target function:\n",
    "f = lambda x: 10. - np.sum(x**2)\n",
    "f_batch = lambda X: np.array([f(x) for x in X])\n",
    "\n",
    "d = 5                              # Dimension\n",
    "a = [-0.1]*d                        # Grid lower bounds\n",
    "b = [+0.1]*d                        # Grid upper bounds\n",
    "n = [201]*d                        # Grid size"
   ]
  },
  {
   "cell_type": "code",
   "execution_count": 3,
   "id": "6e9ac931",
   "metadata": {},
   "outputs": [
    {
     "data": {
      "text/plain": [
       "([-0.1, -0.1, -0.1, -0.1, -0.1], [0.1, 0.1, 0.1, 0.1, 0.1])"
      ]
     },
     "execution_count": 3,
     "metadata": {},
     "output_type": "execute_result"
    }
   ],
   "source": [
    "a, b"
   ]
  },
  {
   "cell_type": "code",
   "execution_count": 4,
   "id": "112c9986",
   "metadata": {},
   "outputs": [
    {
     "name": "stdout",
     "output_type": "stream",
     "text": [
      "# pre | time:      0.009 | evals: 0.00e+00 | rank:   2.0 | \n",
      "#   1 | time:      0.107 | evals: 1.33e+04 | rank:   4.0 | e: 3.7e+01 | \n",
      "#   2 | time:      0.360 | evals: 4.74e+04 | rank:   6.0 | e: 0.0e+00 | \n",
      "#   3 | time:      0.999 | evals: 1.12e+05 | rank:   8.0 | e: 0.0e+00 | \n",
      "#   4 | time:      2.245 | evals: 2.17e+05 | rank:  10.0 | e: 2.2e-08 | \n",
      "#   5 | time:      4.267 | evals: 3.72e+05 | rank:  12.0 | e: 1.8e-08 | \n",
      "#   5 | time:      6.448 | evals: 4.74e+05 | rank:  13.2 | e: 0.0e+00 | stop: m | \n"
     ]
    }
   ],
   "source": [
    "# We build very accurate approximation of the function:\n",
    "Y0 = teneva.rand(n, r=2, seed=42)  # Initial approximation for TT-cross\n",
    "Y = teneva.cross(lambda I: f_batch(teneva.ind_to_poi(I, a, b, n, 'cheb')),\n",
    "    Y0, m=5.E+5, e=None, log=True)\n",
    "Y = teneva.truncate(Y, 1.E-16)\n",
    "\n",
    "# We compute the TT-tensor for Chebyshev interpolation coefficients:\n",
    "A = teneva.func_int(Y)"
   ]
  },
  {
   "cell_type": "code",
   "execution_count": 5,
   "id": "84430feb",
   "metadata": {},
   "outputs": [
    {
     "name": "stdout",
     "output_type": "stream",
     "text": [
      "x opt appr : [ 0.30028 -1.      -1.       1.       1.     ]\n",
      "y opt appr : 0.0\n"
     ]
    }
   ],
   "source": [
    "# We find the maximum modulo point:\n",
    "x_opt = teneva.optima_func_tt_beam(A, k=10)     \n",
    "y_opt = teneva.func_get(x_opt, A, a, b)\n",
    "\n",
    "print(f'x opt appr :', x_opt)\n",
    "print(f'y opt appr :', y_opt)"
   ]
  },
  {
   "cell_type": "code",
   "execution_count": 6,
   "id": "28a6e30e",
   "metadata": {},
   "outputs": [],
   "source": [
    "?teneva.optima_func_tt_beam"
   ]
  },
  {
   "cell_type": "code",
   "execution_count": 63,
   "id": "a17a28c5",
   "metadata": {},
   "outputs": [],
   "source": [
    "?teneva.ind_to_poi"
   ]
  },
  {
   "cell_type": "code",
   "execution_count": null,
   "id": "a8d7eca4",
   "metadata": {},
   "outputs": [],
   "source": []
  }
 ],
 "metadata": {
  "kernelspec": {
   "display_name": "GPPhad",
   "language": "python",
   "name": "gpphad"
  },
  "language_info": {
   "codemirror_mode": {
    "name": "ipython",
    "version": 3
   },
   "file_extension": ".py",
   "mimetype": "text/x-python",
   "name": "python",
   "nbconvert_exporter": "python",
   "pygments_lexer": "ipython3",
   "version": "3.9.15"
  }
 },
 "nbformat": 4,
 "nbformat_minor": 5
}
