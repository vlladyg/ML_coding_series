{
 "cells": [
  {
   "cell_type": "code",
   "execution_count": 1,
   "id": "7d3703b3-81d4-4756-b035-051441ea09e2",
   "metadata": {},
   "outputs": [
    {
     "name": "stdout",
     "output_type": "stream",
     "text": [
      "Object `tensor_to_vec` not found.\n"
     ]
    }
   ],
   "source": [
    "?tensor_to_vec"
   ]
  },
  {
   "cell_type": "code",
   "execution_count": 1,
   "id": "7341235c-7d6f-4e5d-9cf9-44e632f7ce9c",
   "metadata": {},
   "outputs": [
    {
     "data": {
      "image/png": "[encoded data removed]",
      "text/plain": [
       "<Figure size 640x480 with 18 Axes>"
      ]
     },
     "metadata": {},
     "output_type": "display_data"
    }
   ],
   "source": [
    "import matplotlib.pyplot as plt\n",
    "from tensorly.base import tensor_to_vec, partial_tensor_to_vec\n",
    "from tensorly.datasets.synthetic import gen_image\n",
    "from tensorly.regression.cp_regression import CPRegressor\n",
    "import tensorly as tl\n",
    "\n",
    "# Parameter of the experiment\n",
    "image_height = 25\n",
    "image_width = 25\n",
    "# shape of the images\n",
    "patterns = [\"rectangle\", \"swiss\", \"circle\"]\n",
    "# ranks to test\n",
    "ranks = [1, 2, 3, 4, 5]\n",
    "\n",
    "# Generate random samples\n",
    "rng = tl.check_random_state(1)\n",
    "X = tl.tensor(rng.normal(size=(1000, image_height, image_width), loc=0, scale=1))\n",
    "\n",
    "\n",
    "# Parameters of the plot, deduced from the data\n",
    "n_rows = len(patterns)\n",
    "n_columns = len(ranks) + 1\n",
    "# Plot the three images\n",
    "fig = plt.figure()\n",
    "\n",
    "for i, pattern in enumerate(patterns):\n",
    "\n",
    "    # Generate the original image\n",
    "    weight_img = gen_image(\n",
    "        region=pattern, image_height=image_height, image_width=image_width\n",
    "    )\n",
    "    weight_img = tl.tensor(weight_img)\n",
    "\n",
    "    # Generate the labels\n",
    "    y = tl.dot(partial_tensor_to_vec(X, skip_begin=1), tensor_to_vec(weight_img))\n",
    "\n",
    "    # Plot the original weights\n",
    "    ax = fig.add_subplot(n_rows, n_columns, i * n_columns + 1)\n",
    "    ax.imshow(tl.to_numpy(weight_img), cmap=plt.cm.OrRd, interpolation=\"nearest\")\n",
    "    ax.set_axis_off()\n",
    "    if i == 0:\n",
    "        ax.set_title(\"Original\\nweights\")\n",
    "\n",
    "    for j, rank in enumerate(ranks):\n",
    "\n",
    "        # Create a tensor Regressor estimator\n",
    "        estimator = CPRegressor(\n",
    "            weight_rank=rank, tol=10e-7, n_iter_max=100, reg_W=1, verbose=0\n",
    "        )\n",
    "\n",
    "        # Fit the estimator to the data\n",
    "        estimator.fit(X, y)\n",
    "\n",
    "        ax = fig.add_subplot(n_rows, n_columns, i * n_columns + j + 2)\n",
    "        ax.imshow(\n",
    "            tl.to_numpy(estimator.weight_tensor_),\n",
    "            cmap=plt.cm.OrRd,\n",
    "            interpolation=\"nearest\",\n",
    "        )\n",
    "        ax.set_axis_off()\n",
    "\n",
    "        if i == 0:\n",
    "            ax.set_title(f\"Learned\\nrank = {rank}\")\n",
    "\n",
    "plt.suptitle(\"CP tensor regression\")\n",
    "plt.show()"
   ]
  },
  {
   "cell_type": "code",
   "execution_count": 2,
   "id": "3fee8351-91a2-45f5-9c29-10b7a8f82e60",
   "metadata": {},
   "outputs": [
    {
     "data": {
      "text/plain": [
       "\u001b[0;31mSignature:\u001b[0m \u001b[0mtensor_to_vec\u001b[0m\u001b[0;34m(\u001b[0m\u001b[0mtensor\u001b[0m\u001b[0;34m)\u001b[0m\u001b[0;34m\u001b[0m\u001b[0;34m\u001b[0m\u001b[0m\n",
       "\u001b[0;31mDocstring:\u001b[0m\n",
       "Vectorises a tensor\n",
       "\n",
       "Parameters\n",
       "----------\n",
       "tensor : ndarray\n",
       "         tensor of shape ``(i_1, ..., i_n)``\n",
       "\n",
       "Returns\n",
       "-------\n",
       "1D-array\n",
       "    vectorised tensor of shape ``(i_1 * i_2 * ... * i_n)``\n",
       "\u001b[0;31mFile:\u001b[0m      ~/anaconda3/envs/spingnn/lib/python3.10/site-packages/tensorly/base.py\n",
       "\u001b[0;31mType:\u001b[0m      function"
      ]
     },
     "metadata": {},
     "output_type": "display_data"
    }
   ],
   "source": [
    "?tensor_to_vec"
   ]
  },
  {
   "cell_type": "code",
   "execution_count": 3,
   "id": "e557b2e6-ed8b-4923-a035-d0ee8026fc1f",
   "metadata": {},
   "outputs": [
    {
     "data": {
      "text/plain": [
       "\u001b[0;31mSignature:\u001b[0m \u001b[0mpartial_tensor_to_vec\u001b[0m\u001b[0;34m(\u001b[0m\u001b[0mtensor\u001b[0m\u001b[0;34m,\u001b[0m \u001b[0mskip_begin\u001b[0m\u001b[0;34m=\u001b[0m\u001b[0;36m1\u001b[0m\u001b[0;34m,\u001b[0m \u001b[0mskip_end\u001b[0m\u001b[0;34m=\u001b[0m\u001b[0;36m0\u001b[0m\u001b[0;34m)\u001b[0m\u001b[0;34m\u001b[0m\u001b[0;34m\u001b[0m\u001b[0m\n",
       "\u001b[0;31mDocstring:\u001b[0m\n",
       "Partially vectorises a tensor\n",
       "\n",
       "    Partially vectorises a tensor while ignoring the specified dimension at the beginning and the end\n",
       "\n",
       "Parameters\n",
       "----------\n",
       "tensor : ndarray\n",
       "    tensor to partially vectorise\n",
       "skip_begin : int, optional, default is 1\n",
       "    number of dimensions to leave untouched at the beginning\n",
       "skip_end : int, optional\n",
       "    number of dimensions to leave untouched at the end\n",
       "\n",
       "Returns\n",
       "-------\n",
       "ndarray\n",
       "    partially vectorised tensor with the `skip_begin` first and `skip_end` last dimensions untouched\n",
       "\u001b[0;31mFile:\u001b[0m      ~/anaconda3/envs/spingnn/lib/python3.10/site-packages/tensorly/base.py\n",
       "\u001b[0;31mType:\u001b[0m      function"
      ]
     },
     "metadata": {},
     "output_type": "display_data"
    }
   ],
   "source": [
    "?partial_tensor_to_vec"
   ]
  },
  {
   "cell_type": "code",
   "execution_count": 4,
   "id": "9cb91da9-f858-43e6-8f0a-52a4e3a93799",
   "metadata": {},
   "outputs": [
    {
     "data": {
      "text/plain": [
       "(25, 25)"
      ]
     },
     "execution_count": 4,
     "metadata": {},
     "output_type": "execute_result"
    }
   ],
   "source": [
    "weight_img.shape"
   ]
  },
  {
   "cell_type": "code",
   "execution_count": 5,
   "id": "1ec61d5f-a7fe-47c9-981d-3fd1c7d42105",
   "metadata": {},
   "outputs": [
    {
     "name": "stdout",
     "output_type": "stream",
     "text": [
      "fitting pattern n.0\n",
      "fitting for rank = 1\n",
      "fitting for rank = 2\n",
      "fitting for rank = 3\n",
      "fitting for rank = 4\n",
      "fitting for rank = 5\n",
      "fitting pattern n.1\n",
      "fitting for rank = 1\n",
      "fitting for rank = 2\n",
      "fitting for rank = 3\n",
      "fitting for rank = 4\n",
      "fitting for rank = 5\n",
      "fitting pattern n.2\n",
      "fitting for rank = 1\n",
      "fitting for rank = 2\n",
      "fitting for rank = 3\n",
      "fitting for rank = 4\n",
      "fitting for rank = 5\n"
     ]
    },
    {
     "data": {
      "image/png": "[encoded data removed]",
      "text/plain": [
       "<Figure size 640x480 with 18 Axes>"
      ]
     },
     "metadata": {},
     "output_type": "display_data"
    }
   ],
   "source": [
    "import matplotlib.pyplot as plt\n",
    "from tensorly.base import tensor_to_vec, partial_tensor_to_vec\n",
    "from tensorly.datasets.synthetic import gen_image\n",
    "from tensorly.regression.tucker_regression import TuckerRegressor\n",
    "import tensorly as tl\n",
    "\n",
    "# Parameter of the experiment\n",
    "image_height = 25\n",
    "image_width = 25\n",
    "# shape of the images\n",
    "patterns = [\"rectangle\", \"swiss\", \"circle\"]\n",
    "# ranks to test\n",
    "ranks = [1, 2, 3, 4, 5]\n",
    "\n",
    "# Generate random samples\n",
    "rng = tl.check_random_state(1)\n",
    "X = tl.tensor(rng.normal(size=(1000, image_height, image_width), loc=0, scale=1))\n",
    "\n",
    "# Parameters of the plot, deduced from the data\n",
    "n_rows = len(patterns)\n",
    "n_columns = len(ranks) + 1\n",
    "# Plot the three images\n",
    "fig = plt.figure()\n",
    "\n",
    "for i, pattern in enumerate(patterns):\n",
    "\n",
    "    print(f\"fitting pattern n.{i}\")\n",
    "\n",
    "    # Generate the original image\n",
    "    weight_img = gen_image(\n",
    "        region=pattern, image_height=image_height, image_width=image_width\n",
    "    )\n",
    "    weight_img = tl.tensor(weight_img)\n",
    "\n",
    "    # Generate the labels\n",
    "    y = tl.dot(partial_tensor_to_vec(X, skip_begin=1), tensor_to_vec(weight_img))\n",
    "\n",
    "    # Plot the original weights\n",
    "    ax = fig.add_subplot(n_rows, n_columns, i * n_columns + 1)\n",
    "    ax.imshow(tl.to_numpy(weight_img), cmap=plt.cm.OrRd, interpolation=\"nearest\")\n",
    "    ax.set_axis_off()\n",
    "    if i == 0:\n",
    "        ax.set_title(\"Original\\nweights\")\n",
    "\n",
    "    for j, rank in enumerate(ranks):\n",
    "        print(f\"fitting for rank = {rank}\")\n",
    "\n",
    "        # Create a tensor Regressor estimator\n",
    "        estimator = TuckerRegressor(\n",
    "            weight_ranks=[rank, rank], tol=10e-7, n_iter_max=100, reg_W=1, verbose=0\n",
    "        )\n",
    "\n",
    "        # Fit the estimator to the data\n",
    "        estimator.fit(X, y)\n",
    "\n",
    "        ax = fig.add_subplot(n_rows, n_columns, i * n_columns + j + 2)\n",
    "        ax.imshow(\n",
    "            tl.to_numpy(estimator.weight_tensor_),\n",
    "            cmap=plt.cm.OrRd,\n",
    "            interpolation=\"nearest\",\n",
    "        )\n",
    "        ax.set_axis_off()\n",
    "\n",
    "        if i == 0:\n",
    "            ax.set_title(f\"Learned\\nrank = {rank}\")\n",
    "\n",
    "plt.suptitle(\"Tucker tensor regression\")\n",
    "plt.show()\n"
   ]
  },
  {
   "cell_type": "code",
   "execution_count": null,
   "id": "7f4eb764-6776-4f5f-b8e5-dcd2adbee9ad",
   "metadata": {},
   "outputs": [],
   "source": []
  }
 ],
 "metadata": {
  "kernelspec": {
   "display_name": "spingnn",
   "language": "python",
   "name": "spingnn"
  },
  "language_info": {
   "codemirror_mode": {
    "name": "ipython",
    "version": 3
   },
   "file_extension": ".py",
   "mimetype": "text/x-python",
   "name": "python",
   "nbconvert_exporter": "python",
   "pygments_lexer": "ipython3",
   "version": "3.10.15"
  }
 },
 "nbformat": 4,
 "nbformat_minor": 5
}
