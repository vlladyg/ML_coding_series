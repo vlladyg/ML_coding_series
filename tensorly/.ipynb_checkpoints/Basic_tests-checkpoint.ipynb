{
 "cells": [
  {
   "cell_type": "code",
   "execution_count": 12,
   "id": "69915db2",
   "metadata": {},
   "outputs": [
    {
     "data": {
      "text/plain": [
       "TuckerTensor(shape=(20, 10), rank=(4, 2))"
      ]
     },
     "execution_count": 12,
     "metadata": {},
     "output_type": "execute_result"
    }
   ],
   "source": [
    "from tltorch import FactorizedTensor\n",
    "\n",
    "shape = (20, 10)\n",
    "\n",
    "#factorized_tensor = FactorizedTensor.new(shape, rank, factorization)\n",
    "\n",
    "tucker_tensor = FactorizedTensor.new(shape, rank=0.5, factorization='tucker')\n",
    "\n",
    "tucker_tensor"
   ]
  },
  {
   "cell_type": "code",
   "execution_count": 19,
   "id": "fd519d83",
   "metadata": {},
   "outputs": [],
   "source": [
    "?FactorizedTensor"
   ]
  },
  {
   "cell_type": "code",
   "execution_count": 21,
   "id": "04a8a240",
   "metadata": {},
   "outputs": [
    {
     "ename": "NameError",
     "evalue": "name 'cp_tensor' is not defined",
     "output_type": "error",
     "traceback": [
      "\u001b[0;31m---------------------------------------------------------------------------\u001b[0m",
      "\u001b[0;31mNameError\u001b[0m                                 Traceback (most recent call last)",
      "Cell \u001b[0;32mIn[21], line 5\u001b[0m\n\u001b[1;32m      1\u001b[0m \u001b[38;5;28;01mimport\u001b[39;00m \u001b[38;5;21;01mtorch\u001b[39;00m\n\u001b[1;32m      3\u001b[0m dense_tensor \u001b[38;5;241m=\u001b[39m torch\u001b[38;5;241m.\u001b[39mrandn(\u001b[38;5;241m20\u001b[39m, \u001b[38;5;241m10\u001b[39m)\n\u001b[0;32m----> 5\u001b[0m FactorizedTensor\u001b[38;5;241m.\u001b[39mnew(dense_tensor, rank\u001b[38;5;241m=\u001b[39m\u001b[38;5;241m0.1\u001b[39m, factorization\u001b[38;5;241m=\u001b[39m\u001b[38;5;124m'\u001b[39m\u001b[38;5;124mCP\u001b[39m\u001b[38;5;124m'\u001b[39m, out \u001b[38;5;241m=\u001b[39m \u001b[43mcp_tensor\u001b[49m)\n\u001b[1;32m      7\u001b[0m \u001b[38;5;28mprint\u001b[39m(cp_tensor)\n",
      "\u001b[0;31mNameError\u001b[0m: name 'cp_tensor' is not defined"
     ]
    }
   ],
   "source": [
    "import torch\n",
    "\n",
    "dense_tensor = torch.randn(20, 10)\n",
    "\n",
    "FactorizedTensor.new(dense_tensor, rank=0.1, factorization='CP', out = cp_tensor)\n",
    "\n",
    "print(cp_tensor)"
   ]
  },
  {
   "cell_type": "code",
   "execution_count": 27,
   "id": "f35e0aef",
   "metadata": {},
   "outputs": [
    {
     "name": "stderr",
     "output_type": "stream",
     "text": [
      "/var/folders/p2/mwhbpbfx4dx636dcf50t7_rr0000gn/T/ipykernel_54681/3695535824.py:13: UserWarning: nn.init.kaiming_normal is now deprecated in favor of nn.init.kaiming_normal_.\n",
      "  init.kaiming_normal(cp_tensor)\n"
     ]
    },
    {
     "data": {
      "text/plain": [
       "(CPTensor(shape=(2, 2), rank=3), tensor(0.1238, grad_fn=<SumBackward1>))"
      ]
     },
     "execution_count": 27,
     "metadata": {},
     "output_type": "execute_result"
    }
   ],
   "source": [
    "from tltorch import FactorizedTensor\n",
    "\n",
    "shape = (20, 10)\n",
    "\n",
    "#factorized_tensor = FactorizedTensor.new(shape, rank, factorization)\n",
    "\n",
    "cp_tensor = FactorizedTensor.new(shape, rank=0.5, factorization='CP')\n",
    "\n",
    "cp_tensor.normal_(mean=0, std=0.02)\n",
    "\n",
    "from torch.nn import init\n",
    "\n",
    "init.kaiming_normal(cp_tensor)\n",
    "\n",
    "cp_tensor[:2, :2], cp_tensor[2, 3, 1]"
   ]
  },
  {
   "cell_type": "code",
   "execution_count": 47,
   "id": "5ccf0528",
   "metadata": {},
   "outputs": [
    {
     "data": {
      "text/plain": [
       "CPTensorized(shape=[16, 21], tensorized_shape=((4, 4), (3, 7)), rank=2)"
      ]
     },
     "execution_count": 47,
     "metadata": {},
     "output_type": "execute_result"
    }
   ],
   "source": [
    "from tltorch import TensorizedTensor\n",
    "\n",
    "matrix = torch.ones(16, 21)\n",
    "\n",
    "out_tensor = TensorizedTensor.from_matrix(matrix, (4, 4), (3, 7), rank = 2)\n",
    "\n",
    "out_tensor"
   ]
  },
  {
   "cell_type": "code",
   "execution_count": 51,
   "id": "17b763d4",
   "metadata": {},
   "outputs": [],
   "source": [
    "tensor = torch.randn(5, 10, 16, 21)\n",
    "\n",
    "tensorized_tensor = TensorizedTensor.from_tensor(tensor, (5, (4, 4), (3, 7)), rank=0.7, factorization='BlockTT')\n",
    "\n"
   ]
  },
  {
   "cell_type": "code",
   "execution_count": 52,
   "id": "dc30e58c",
   "metadata": {},
   "outputs": [
    {
     "name": "stderr",
     "output_type": "stream",
     "text": [
      "/var/folders/p2/mwhbpbfx4dx636dcf50t7_rr0000gn/T/ipykernel_54681/1738940403.py:5: UserWarning: nn.init.kaiming_normal is now deprecated in favor of nn.init.kaiming_normal_.\n",
      "  init.kaiming_normal(ftt)\n"
     ]
    },
    {
     "data": {
      "text/plain": [
       "tensor([[ 0.0062, -0.0062],\n",
       "        [ 0.0062, -0.0002]], grad_fn=<SqueezeBackward0>)"
      ]
     },
     "execution_count": 52,
     "metadata": {},
     "output_type": "execute_result"
    }
   ],
   "source": [
    "import tltorch\n",
    "\n",
    "ftt = tltorch.TensorizedTensor.new((5, (2, 2, 2), (3, 3, 3)), rank=0.5, factorization='BlockTT')\n",
    "\n",
    "init.kaiming_normal(ftt)\n",
    "\n",
    "ftt[2]\n",
    "\n",
    "ftt[0, :2, :2]"
   ]
  }
 ],
 "metadata": {
  "kernelspec": {
   "display_name": "torch_mkl",
   "language": "python",
   "name": "torch_mkl"
  },
  "language_info": {
   "codemirror_mode": {
    "name": "ipython",
    "version": 3
   },
   "file_extension": ".py",
   "mimetype": "text/x-python",
   "name": "python",
   "nbconvert_exporter": "python",
   "pygments_lexer": "ipython3",
   "version": "3.10.14"
  }
 },
 "nbformat": 4,
 "nbformat_minor": 5
}
