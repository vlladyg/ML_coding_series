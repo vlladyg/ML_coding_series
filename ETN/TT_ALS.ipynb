{
 "cells": [
  {
   "cell_type": "markdown",
   "id": "2cf85619",
   "metadata": {},
   "source": [
    "### Initialize the tensor train cores"
   ]
  },
  {
   "cell_type": "code",
   "execution_count": 83,
   "id": "b940fceb",
   "metadata": {},
   "outputs": [],
   "source": [
    "import numpy as np\n",
    "\n",
    "np.random.seed(32)\n",
    "\n",
    "d = 5\n",
    "\n",
    "ranks = [1, 4, 4, 4, 4, 1]\n",
    "Nc = [10, 10, 10, 10, 10]\n",
    "\n",
    "TT_cores = [np.random.randn(ranks[i], Nc[i], ranks[i+1]) for i in range(d)]"
   ]
  },
  {
   "cell_type": "code",
   "execution_count": 84,
   "id": "f691f3a1",
   "metadata": {},
   "outputs": [],
   "source": [
    "cores0 = TT_cores[0].reshape((ranks[0]*Nc[0], ranks[1]))\n",
    "Q, R  = np.linalg.qr(cores0)"
   ]
  },
  {
   "cell_type": "code",
   "execution_count": 85,
   "id": "ba240d5a",
   "metadata": {},
   "outputs": [
    {
     "data": {
      "text/plain": [
       "((10, 4), (4, 4))"
      ]
     },
     "execution_count": 85,
     "metadata": {},
     "output_type": "execute_result"
    }
   ],
   "source": [
    "Q.shape, R.shape"
   ]
  },
  {
   "cell_type": "code",
   "execution_count": 86,
   "id": "9486e14d",
   "metadata": {},
   "outputs": [
    {
     "name": "stdout",
     "output_type": "stream",
     "text": [
      "(10, 4) (4, 4)\n",
      "(40, 4) (4, 4)\n",
      "(40, 4) (4, 4)\n",
      "(40, 4) (4, 4)\n",
      "(40, 1) (1, 1)\n",
      "(10, 4) (4, 4)\n",
      "(40, 4) (4, 4)\n",
      "(40, 4) (4, 4)\n",
      "(40, 4) (4, 4)\n",
      "(40, 1) (1, 1)\n"
     ]
    }
   ],
   "source": [
    "import copy\n",
    "\n",
    "# orthogonalization\n",
    "left = copy.deepcopy(TT_cores)\n",
    "right = copy.deepcopy(TT_cores)\n",
    "\n",
    "for i in range(len(left)):\n",
    "    core = left[i].reshape((ranks[i]*Nc[i], ranks[i+1]))\n",
    "    Q, R  = np.linalg.qr(core)\n",
    "    \n",
    "    print(Q.shape, R.shape)\n",
    "    left[i] = Q.reshape((ranks[i], Nc[i], ranks[i+1]))\n",
    "    \n",
    "    if i < len(left) - 1:\n",
    "        left[i+1] = np.einsum('ab,bic->aic', R, left[i+1])\n",
    "\n",
    "        \n",
    "for i in range(len(right) - 1, -1, -1):\n",
    "    core = right[i].reshape((ranks[i], Nc[i]*ranks[i+1]))\n",
    "    Q, R  = np.linalg.qr(core.T)\n",
    "    \n",
    "    print(Q.shape, R.shape)\n",
    "    right[i] = Q.reshape((ranks[i], Nc[i], ranks[i+1]))\n",
    "    \n",
    "    if i > 0:\n",
    "        right[i - 1] = np.einsum('aib, bc ->aic', right[i - 1], R)\n",
    "        "
   ]
  },
  {
   "cell_type": "code",
   "execution_count": 87,
   "id": "59f66e91",
   "metadata": {},
   "outputs": [
    {
     "name": "stdout",
     "output_type": "stream",
     "text": [
      "Core i is left orthogonal\n",
      "Core i is left orthogonal\n",
      "Core i is left orthogonal\n",
      "Core i is left orthogonal\n",
      "Core i is left orthogonal\n",
      "[[1.]]\n",
      "[[ 1.00353156 -0.25523121 -0.07039797  0.01045898]\n",
      " [-0.25523121  0.91730163  0.13731065  0.03299841]\n",
      " [-0.07039797  0.13731065  1.18016707 -0.03853188]\n",
      " [ 0.01045898  0.03299841 -0.03853188  0.89899974]]\n",
      "[[ 0.90378627  0.08911938 -0.02333987  0.13062166]\n",
      " [ 0.08911938  1.02171845 -0.14391855  0.20259527]\n",
      " [-0.02333987 -0.14391855  0.97712963  0.1654789 ]\n",
      " [ 0.13062166  0.20259527  0.1654789   1.09736565]]\n",
      "[[ 1.27963043 -0.0626705   0.0148422  -0.09742441]\n",
      " [-0.0626705   0.63115522 -0.02501967  0.1629379 ]\n",
      " [ 0.0148422  -0.02501967  0.76472507  0.0741632 ]\n",
      " [-0.09742441  0.1629379   0.0741632   1.32448928]]\n",
      "[[ 0.68474995 -0.01773649 -0.23606134  0.07932537]\n",
      " [-0.01773649  1.13380579 -0.43168276 -0.04947189]\n",
      " [-0.23606134 -0.43168276  1.11581594  0.48299579]\n",
      " [ 0.07932537 -0.04947189  0.48299579  1.06562832]]\n"
     ]
    }
   ],
   "source": [
    "for i in range(len(left)):\n",
    "    core = left[i].reshape((ranks[i]*Nc[i], ranks[i+1]))\n",
    "    if np.allclose(np.eye(ranks[i+1], ranks[i+1]), core.T @ core):\n",
    "        print(\"Core i is left orthogonal\")\n",
    "\n",
    "for i in range(len(right)):\n",
    "    core = right[i].reshape((ranks[i], Nc[i]*ranks[i+1]))\n",
    "    print(core @ core.T)\n",
    "    \n",
    "    #if np.allclose(np.eye(ranks[i], ranks[i]), core @ core):\n",
    "    #    print(\"Core i is orthogonal\")\n",
    "        \n",
    "    "
   ]
  },
  {
   "cell_type": "code",
   "execution_count": null,
   "id": "ba9c9ee9",
   "metadata": {},
   "outputs": [],
   "source": []
  }
 ],
 "metadata": {
  "kernelspec": {
   "display_name": "Python 3 (ipykernel)",
   "language": "python",
   "name": "python3"
  },
  "language_info": {
   "codemirror_mode": {
    "name": "ipython",
    "version": 3
   },
   "file_extension": ".py",
   "mimetype": "text/x-python",
   "name": "python",
   "nbconvert_exporter": "python",
   "pygments_lexer": "ipython3",
   "version": "3.9.7"
  }
 },
 "nbformat": 4,
 "nbformat_minor": 5
}
