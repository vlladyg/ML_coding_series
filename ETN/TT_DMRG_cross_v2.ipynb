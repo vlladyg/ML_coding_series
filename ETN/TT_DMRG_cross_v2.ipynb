{
 "cells": [
  {
   "cell_type": "code",
   "execution_count": 71,
   "id": "f7b21b16-d652-455c-9821-56b2ad356103",
   "metadata": {},
   "outputs": [],
   "source": [
    "import torch as tn\n",
    "\n",
    "def _LU(M):\n",
    "    \"\"\"\n",
    "    Perform an LU decomposition and returns L, U and a permutation vector P. \n",
    "\n",
    "    Args:\n",
    "        M (torch.tensor): [description]\n",
    "\n",
    "    Returns:\n",
    "        tuple[torch.tensor,torch.tensor,torch.tensor]: L, U, P\n",
    "    \"\"\"\n",
    "    LU, P = tn.linalg.lu_factor(M)\n",
    "\n",
    "    # LU decomposition Permutation, Lower, Upper\n",
    "    P, L, U = tn.lu_unpack(LU, P)  # P transpose or not transpose?\n",
    "    P = P@tn.reshape(tn.arange(P.shape[1],\n",
    "                     dtype=P.dtype, device=P.device), [-1, 1])\n",
    "\n",
    "    return L, U, tn.squeeze(P).to(tn.int64)"
   ]
  },
  {
   "cell_type": "code",
   "execution_count": 72,
   "id": "46792acd-40b6-44c5-9c92-003fb4bfafe3",
   "metadata": {},
   "outputs": [],
   "source": [
    "M = tn.rand(10, 5)\n",
    "\n",
    "L, U, P = _LU(M)"
   ]
  },
  {
   "cell_type": "code",
   "execution_count": 73,
   "id": "393ab653-1baa-40db-890f-bd2186f7b656",
   "metadata": {},
   "outputs": [
    {
     "ename": "IndexError",
     "evalue": "tuple index out of range",
     "output_type": "error",
     "traceback": [
      "\u001b[0;31m---------------------------------------------------------------------------\u001b[0m",
      "\u001b[0;31mIndexError\u001b[0m                                Traceback (most recent call last)",
      "Cell \u001b[0;32mIn[73], line 1\u001b[0m\n\u001b[0;32m----> 1\u001b[0m P_new \u001b[38;5;241m=\u001b[39m P \u001b[38;5;241m@\u001b[39m tn\u001b[38;5;241m.\u001b[39mreshape(tn\u001b[38;5;241m.\u001b[39marange(\u001b[43mP\u001b[49m\u001b[38;5;241;43m.\u001b[39;49m\u001b[43mshape\u001b[49m\u001b[43m[\u001b[49m\u001b[38;5;241;43m1\u001b[39;49m\u001b[43m]\u001b[49m,\n\u001b[1;32m      2\u001b[0m                     dtype\u001b[38;5;241m=\u001b[39mP\u001b[38;5;241m.\u001b[39mdtype, device\u001b[38;5;241m=\u001b[39mP\u001b[38;5;241m.\u001b[39mdevice), [\u001b[38;5;241m-\u001b[39m\u001b[38;5;241m1\u001b[39m, \u001b[38;5;241m1\u001b[39m])\n",
      "\u001b[0;31mIndexError\u001b[0m: tuple index out of range"
     ]
    }
   ],
   "source": [
    "P_new = P @ tn.reshape(tn.arange(P.shape[1],\n",
    "                    dtype=P.dtype, device=P.device), [-1, 1])"
   ]
  },
  {
   "cell_type": "code",
   "execution_count": 74,
   "id": "18cb7aa8-c632-4974-beb0-2f1ab7259bc6",
   "metadata": {},
   "outputs": [
    {
     "data": {
      "text/plain": [
       "tensor([5, 3, 7, 1, 2, 0, 6, 4, 8, 9])"
      ]
     },
     "execution_count": 74,
     "metadata": {},
     "output_type": "execute_result"
    }
   ],
   "source": [
    "P"
   ]
  },
  {
   "cell_type": "code",
   "execution_count": 75,
   "id": "1f8a423b-a041-4e30-af90-f16a6981010a",
   "metadata": {},
   "outputs": [
    {
     "data": {
      "text/plain": [
       "tensor([[9],\n",
       "        [6],\n",
       "        [1],\n",
       "        [4],\n",
       "        [7],\n",
       "        [5],\n",
       "        [2],\n",
       "        [3],\n",
       "        [8],\n",
       "        [0]])"
      ]
     },
     "execution_count": 75,
     "metadata": {},
     "output_type": "execute_result"
    }
   ],
   "source": [
    "P_new"
   ]
  },
  {
   "cell_type": "code",
   "execution_count": 76,
   "id": "0a555329-3d0f-4d94-b205-d0e1cb7584ee",
   "metadata": {},
   "outputs": [
    {
     "ename": "RuntimeError",
     "evalue": "expected m1 and m2 to have the same dtype, but got: long int != float",
     "output_type": "error",
     "traceback": [
      "\u001b[0;31m---------------------------------------------------------------------------\u001b[0m",
      "\u001b[0;31mRuntimeError\u001b[0m                              Traceback (most recent call last)",
      "Cell \u001b[0;32mIn[76], line 1\u001b[0m\n\u001b[0;32m----> 1\u001b[0m tn\u001b[38;5;241m.\u001b[39mallclose((\u001b[43mP\u001b[49m\u001b[43m \u001b[49m\u001b[38;5;241;43m@\u001b[39;49m\u001b[43m \u001b[49m\u001b[43mL\u001b[49m \u001b[38;5;241m@\u001b[39m U), M)\n",
      "\u001b[0;31mRuntimeError\u001b[0m: expected m1 and m2 to have the same dtype, but got: long int != float"
     ]
    }
   ],
   "source": [
    "tn.allclose((P @ L @ U), M)"
   ]
  },
  {
   "cell_type": "code",
   "execution_count": 77,
   "id": "c646aff2-bc3e-4dbe-b3cb-e6a7d335987a",
   "metadata": {},
   "outputs": [
    {
     "ename": "RuntimeError",
     "evalue": "expected m1 and m2 to have the same dtype, but got: long int != float",
     "output_type": "error",
     "traceback": [
      "\u001b[0;31m---------------------------------------------------------------------------\u001b[0m",
      "\u001b[0;31mRuntimeError\u001b[0m                              Traceback (most recent call last)",
      "Cell \u001b[0;32mIn[77], line 1\u001b[0m\n\u001b[0;32m----> 1\u001b[0m (\u001b[43mP\u001b[49m\u001b[43m \u001b[49m\u001b[38;5;241;43m@\u001b[39;49m\u001b[43m \u001b[49m\u001b[43mL\u001b[49m \u001b[38;5;241m@\u001b[39m U), M\n",
      "\u001b[0;31mRuntimeError\u001b[0m: expected m1 and m2 to have the same dtype, but got: long int != float"
     ]
    }
   ],
   "source": [
    "(P @ L @ U), M"
   ]
  },
  {
   "cell_type": "code",
   "execution_count": 78,
   "id": "6dcb3bc5-92d9-46ff-a4c4-7f9d1ed78fb9",
   "metadata": {},
   "outputs": [],
   "source": [
    "def _max_matrix(M):\n",
    "\n",
    "    # Maximum element along dimention k\n",
    "    values, indices = M.flatten().topk(1)\n",
    "    try:\n",
    "        # Return the actual index\n",
    "        indices = [tn.unravel_index(i, M.shape) for i in indices]\n",
    "    except:\n",
    "        indices = [np.unravel_index(i, M.shape) for i in indices]\n",
    "\n",
    "    return values, indices"
   ]
  },
  {
   "cell_type": "code",
   "execution_count": 79,
   "id": "3c37e044-d216-4b4b-8b60-6d96bb1a77b4",
   "metadata": {},
   "outputs": [
    {
     "data": {
      "text/plain": [
       "(tensor([0.9047]), [(tensor(1), tensor(3))])"
      ]
     },
     "execution_count": 79,
     "metadata": {},
     "output_type": "execute_result"
    }
   ],
   "source": [
    "M = tn.rand(10, 5)\n",
    "\n",
    "values, indices = M.flatten().topk(1)\n",
    "indices = [tn.unravel_index(i, M.shape) for i in indices]\n",
    "\n",
    "values, indices"
   ]
  },
  {
   "cell_type": "code",
   "execution_count": 99,
   "id": "34b9f337-b03e-454a-ace7-0a7f85ce8ec4",
   "metadata": {},
   "outputs": [],
   "source": [
    "def _LU(M):\n",
    "    \"\"\"\n",
    "    Perform an LU decomposition and returns L, U and a permutation vector P. \n",
    "\n",
    "    Args:\n",
    "        M (torch.tensor): [description]\n",
    "\n",
    "    Returns:\n",
    "        tuple[torch.tensor,torch.tensor,torch.tensor]: L, U, P\n",
    "    \"\"\"\n",
    "    LU, P = tn.linalg.lu_factor(M)\n",
    "    P, L, U = tn.lu_unpack(LU, P)  # P transpose or not transpose?\n",
    "    P = P@tn.reshape(tn.arange(P.shape[1],\n",
    "                     dtype=P.dtype, device=P.device), [-1, 1])\n",
    "    # P = tn.reshape(tn.arange(P.shape[1],dtype=P.dtype,device=P.device),[1,-1]) @ P\n",
    "\n",
    "    return L, U, tn.squeeze(P).to(tn.int64)\n",
    "\n",
    "\n",
    "def _max_matrix(M):\n",
    "\n",
    "    values, indices = M.flatten().topk(1)\n",
    "    try:\n",
    "        indices = [tn.unravel_index(i, M.shape) for i in indices]\n",
    "    except:\n",
    "        indices = [np.unravel_index(i, M.shape) for i in indices]\n",
    "\n",
    "    return values, indices\n",
    "\n",
    "\n",
    "# Max volume submatrix\n",
    "def _maxvol(M):\n",
    "    \"\"\"\n",
    "    Maxvol\n",
    "\n",
    "    Args:\n",
    "        M (torch.tensor): input matrix.\n",
    "\n",
    "    Returns:\n",
    "        torch.tensor: indices of tha maxvol submatrix.\n",
    "    \"\"\"\n",
    "\n",
    "    if M.shape[1] >= M.shape[0]:\n",
    "        # more cols than row -> return all the row indices\n",
    "        idx = tn.tensor(range(M.shape[0]), dtype=tn.int64)\n",
    "        return idx\n",
    "    else:\n",
    "        L, U, P = _LU(M)\n",
    "        idx = P[:M.shape[1]]\n",
    "\n",
    "    Msub = M[idx, :]\n",
    "\n",
    "    Mat = tn.linalg.solve(Msub.T, M.T).t()\n",
    "    print(Mat.shape, Msub.shape, M.shape)\n",
    "    \n",
    "    for i in range(100):\n",
    "        val_max, idx_max = _max_matrix(tn.abs(Mat))\n",
    "        print(idx)\n",
    "        idx_max = idx_max[0]\n",
    "        if val_max <= 1+5e-2:\n",
    "            print(\"sort\")\n",
    "            print(idx)\n",
    "            idx = tn.sort(idx)[0]\n",
    "            return idx\n",
    "        Mat += tn.outer(Mat[:, idx_max[1]], Mat[idx[idx_max[1]]] -\n",
    "                        Mat[idx_max[0], :])/Mat[idx_max[0], idx_max[1]]\n",
    "        idx[idx_max[1]] = idx_max[0]\n",
    "    return idx"
   ]
  },
  {
   "cell_type": "code",
   "execution_count": 100,
   "id": "50d183d2-723d-4266-8dd8-fc9b01d2d028",
   "metadata": {},
   "outputs": [
    {
     "name": "stdout",
     "output_type": "stream",
     "text": [
      "torch.Size([10, 5]) torch.Size([5, 5]) torch.Size([10, 5])\n",
      "tensor([6, 0, 1, 2, 8])\n",
      "tensor([6, 3, 1, 2, 8])\n",
      "tensor([6, 3, 9, 2, 8])\n",
      "tensor([7, 3, 9, 2, 8])\n",
      "sort\n",
      "tensor([7, 3, 9, 2, 8])\n"
     ]
    },
    {
     "data": {
      "text/plain": [
       "tensor([2, 3, 7, 8, 9])"
      ]
     },
     "execution_count": 100,
     "metadata": {},
     "output_type": "execute_result"
    }
   ],
   "source": [
    "M = tn.rand(10, 5)\n",
    "\n",
    "_maxvol(M)"
   ]
  },
  {
   "cell_type": "code",
   "execution_count": null,
   "id": "460fec56-2cda-4d64-a715-c9c30f535f00",
   "metadata": {},
   "outputs": [],
   "source": []
  }
 ],
 "metadata": {
  "kernelspec": {
   "display_name": "spingnn",
   "language": "python",
   "name": "spingnn"
  },
  "language_info": {
   "codemirror_mode": {
    "name": "ipython",
    "version": 3
   },
   "file_extension": ".py",
   "mimetype": "text/x-python",
   "name": "python",
   "nbconvert_exporter": "python",
   "pygments_lexer": "ipython3",
   "version": "3.10.15"
  }
 },
 "nbformat": 4,
 "nbformat_minor": 5
}
