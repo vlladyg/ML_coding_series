{
 "cells": [
  {
   "cell_type": "code",
   "execution_count": 1,
   "id": "f36d0aa9",
   "metadata": {},
   "outputs": [
    {
     "data": {
      "text/plain": [
       "array([8.8817842e-16])"
      ]
     },
     "execution_count": 1,
     "metadata": {},
     "output_type": "execute_result"
    }
   ],
   "source": [
    "from ttml.tt_cross import estimator_to_tt_cross\n",
    "import numpy as np\n",
    "\n",
    "def f(x):\n",
    "    return np.sin(np.sum(x, axis=1))\n",
    "\n",
    "# Same thresholds for every feature: [0,0.2,0.4,0.6,0.8]\n",
    "thresholds = [np.linspace(0, 1, 11)] * 5\n",
    "\n",
    "tt = estimator_to_tt_cross(f, thresholds)\n",
    "tt.gather(np.array([[2, 2, 2, 2, 2]])) - np.sin(1)"
   ]
  },
  {
   "cell_type": "code",
   "execution_count": 3,
   "id": "b4894656",
   "metadata": {},
   "outputs": [
    {
     "data": {
      "text/plain": [
       "[array([2.62706082e+02, 1.10057236e+02, 2.86676345e-14, 2.41656203e-14,\n",
       "        1.97694406e-14]),\n",
       " array([2.50489642e+02, 1.35580309e+02, 3.79018148e-14, 2.62751171e-14,\n",
       "        1.44061788e-14]),\n",
       " array([2.50489642e+02, 1.35580309e+02, 8.86371342e-14, 5.93783970e-14,\n",
       "        2.95181315e-14]),\n",
       " array([2.62706082e+02, 1.10057236e+02, 5.49963548e-14, 3.80107010e-14,\n",
       "        2.08506835e-14])]"
      ]
     },
     "execution_count": 3,
     "metadata": {},
     "output_type": "execute_result"
    }
   ],
   "source": [
    "tt.sing_vals()"
   ]
  },
  {
   "cell_type": "code",
   "execution_count": 5,
   "id": "7dc880b3",
   "metadata": {},
   "outputs": [
    {
     "data": {
      "text/plain": [
       "<TensorTrain of order 5 with outer dimensions (11, 11, 11, 11, 11), TT-rank (2, 2, 2, 2), and orthogonalized at mode 4>"
      ]
     },
     "execution_count": 5,
     "metadata": {},
     "output_type": "execute_result"
    }
   ],
   "source": [
    "tt2 = estimator_to_tt_cross(f, thresholds, max_rank=2)\n",
    "\n",
    "tt2"
   ]
  },
  {
   "cell_type": "code",
   "execution_count": 6,
   "id": "4b6ea261",
   "metadata": {},
   "outputs": [
    {
     "data": {
      "text/plain": [
       "4.924250918078487e-13"
      ]
     },
     "execution_count": 6,
     "metadata": {},
     "output_type": "execute_result"
    }
   ],
   "source": [
    "(tt - tt2).norm()"
   ]
  },
  {
   "cell_type": "code",
   "execution_count": 7,
   "id": "c5fe8d87",
   "metadata": {},
   "outputs": [
    {
     "data": {
      "text/plain": [
       "<TensorTrain of order 5 with outer dimensions (11, 11, 11, 11, 11), TT-rank (2, 2, 2, 2), and orthogonalized at mode 4>"
      ]
     },
     "execution_count": 7,
     "metadata": {},
     "output_type": "execute_result"
    }
   ],
   "source": [
    "from sklearn.ensemble import RandomForestRegressor\n",
    "\n",
    "X = np.random.normal(size=(1000, 5))\n",
    "y = np.exp(np.sum(X, axis=1))\n",
    "\n",
    "forest = RandomForestRegressor()\n",
    "forest.fit(X, y)\n",
    "\n",
    "thresholds = [np.linspace(0, 1, 11)] * 5\n",
    "\n",
    "tt = estimator_to_tt_cross(forest.predict, thresholds, max_rank=2)\n",
    "tt"
   ]
  },
  {
   "cell_type": "code",
   "execution_count": 8,
   "id": "897683ee",
   "metadata": {},
   "outputs": [],
   "source": [
    "tt = estimator_to_tt_cross(forest.predict, thresholds, method='dmrg')"
   ]
  },
  {
   "cell_type": "code",
   "execution_count": null,
   "id": "bea86fbb",
   "metadata": {},
   "outputs": [],
   "source": []
  }
 ],
 "metadata": {
  "kernelspec": {
   "display_name": "torch_mkl",
   "language": "python",
   "name": "torch_mkl"
  },
  "language_info": {
   "codemirror_mode": {
    "name": "ipython",
    "version": 3
   },
   "file_extension": ".py",
   "mimetype": "text/x-python",
   "name": "python",
   "nbconvert_exporter": "python",
   "pygments_lexer": "ipython3",
   "version": "3.10.14"
  }
 },
 "nbformat": 4,
 "nbformat_minor": 5
}
