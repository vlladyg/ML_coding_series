{
 "cells": [
  {
   "cell_type": "code",
   "execution_count": 1,
   "id": "04c760c6-3e5f-4686-b42e-d923b72a047c",
   "metadata": {},
   "outputs": [
    {
     "name": "stderr",
     "output_type": "stream",
     "text": [
      "/Users/temporary/anaconda3/envs/torch_mkl/lib/python3.10/site-packages/nequip/__init__.py:20: UserWarning: !! PyTorch version 2.0.0 found. Upstream issues in PyTorch versions 1.13.* and 2.* have been seen to cause unusual performance degredations on some CUDA systems that become worse over time; see https://github.com/mir-group/nequip/discussions/311. The best tested PyTorch version to use with CUDA devices is 1.11; while using other versions if you observe this problem, an unexpected lack of this problem, or other strange behavior, please post in the linked GitHub issue.\n",
      "  warnings.warn(\n"
     ]
    }
   ],
   "source": [
    "# reference example\n",
    "from nequip.data import dataset_from_config\n",
    "from nequip.utils import Config\n",
    "from nequip.utils.misc import get_default_device_name\n",
    "from nequip.utils.config import _GLOBAL_ALL_ASKED_FOR_KEYS\n",
    "\n",
    "from nequip.model import model_from_config\n",
    "\n",
    "\n",
    "default_config = dict(\n",
    "    root=\"./\",\n",
    "    tensorboard=False,\n",
    "    wandb=False,\n",
    "    model_builders=[\n",
    "        \"SimpleIrrepsConfig\",\n",
    "        \"EnergyModel\",\n",
    "        \"PerSpeciesRescale\",\n",
    "        \"StressForceOutput\",\n",
    "        \"RescaleEnergyEtc\",\n",
    "    ],\n",
    "    dataset_statistics_stride=1,\n",
    "    device=get_default_device_name(),\n",
    "    default_dtype=\"float64\",\n",
    "    model_dtype=\"float32\",\n",
    "    allow_tf32=True,\n",
    "    verbose=\"INFO\",\n",
    "    model_debug_mode=False,\n",
    "    equivariance_test=False,\n",
    "    grad_anomaly_mode=False,\n",
    "    gpu_oom_offload=False,\n",
    "    append=False,\n",
    "    warn_unused=False,\n",
    "    _jit_bailout_depth=2,  # avoid 20 iters of pain, see https://github.com/pytorch/pytorch/issues/52286\n",
    "    # Quote from eelison in PyTorch slack:\n",
    "    # https://pytorch.slack.com/archives/CDZD1FANA/p1644259272007529?thread_ts=1644064449.039479&cid=CDZD1FANA\n",
    "    # > Right now the default behavior is to specialize twice on static shapes and then on dynamic shapes.\n",
    "    # > To reduce warmup time you can do something like setFusionStrartegy({{FusionBehavior::DYNAMIC, 3}})\n",
    "    # > ... Although we would wouldn't really expect to recompile a dynamic shape fusion in a model,\n",
    "    # > provided broadcasting patterns remain fixed\n",
    "    # We default to DYNAMIC alone because the number of edges is always dynamic,\n",
    "    # even if the number of atoms is fixed:\n",
    "    _jit_fusion_strategy=[(\"DYNAMIC\", 3)],\n",
    "    # Due to what appear to be ongoing bugs with nvFuser, we default to NNC (fuser1) for now:\n",
    "    # TODO: still default to NNC on CPU regardless even if change this for GPU\n",
    "    # TODO: default for ROCm?\n",
    "    _jit_fuser=\"fuser1\",\n",
    ")\n",
    "\n",
    "# All default_config keys are valid / requested\n",
    "_GLOBAL_ALL_ASKED_FOR_KEYS.update(default_config.keys())"
   ]
  },
  {
   "cell_type": "code",
   "execution_count": 2,
   "id": "b3a95cb6-65c4-46f2-974e-434c8a75fa5d",
   "metadata": {},
   "outputs": [
    {
     "data": {
      "text/plain": [
       "AtomicData(atom_types=[15, 1], cell=[3, 3], edge_cell_shift=[152, 3], edge_index=[2, 152], forces=[15, 3], pbc=[3], pos=[15, 3], total_energy=[1])"
      ]
     },
     "execution_count": 2,
     "metadata": {},
     "output_type": "execute_result"
    }
   ],
   "source": [
    "config = Config.from_file('./configs/example.yaml', defaults=default_config)\n",
    "    \n",
    "\n",
    "dataset = dataset_from_config(config, prefix=\"dataset\")\n",
    "\n",
    "validation_dataset = None\n",
    "\n",
    "dataset[0]"
   ]
  },
  {
   "cell_type": "code",
   "execution_count": 3,
   "id": "5c83cac4-15db-4ebb-9540-919c2062749e",
   "metadata": {},
   "outputs": [
    {
     "name": "stderr",
     "output_type": "stream",
     "text": [
      "Torch device: cpu\n",
      "/Users/temporary/Documents/GitHub/pytorch-intel-mps/torch/jit/_check.py:172: UserWarning: The TorchScript type system doesn't support instance-level annotations on empty non-base types in `__init__`. Instead, either 1) use a type annotation in the class body, or 2) wrap the type in `torch.jit.Attribute`.\n",
      "  warnings.warn(\"The TorchScript type system doesn't support \"\n",
      "Replace string dataset_per_atom_total_energy_mean to -11319.556640625\n",
      "Atomic outputs are scaled by: [H, C: None], shifted by [H, C: -11319.556641].\n",
      "Replace string dataset_forces_rms to 30.621034622192383\n",
      "Initially outputs are globally scaled by: 30.621034622192383, total_energy are globally shifted by None.\n"
     ]
    }
   ],
   "source": [
    "# Trainer\n",
    "from nequip.train.trainer import Trainer\n",
    "\n",
    "trainer = Trainer(model=None, **Config.as_dict(config))\n",
    "\n",
    "# what is this\n",
    "# to update wandb data?\n",
    "config.update(trainer.params)\n",
    "\n",
    "# = Train/test split =\n",
    "trainer.set_dataset(dataset, validation_dataset)\n",
    "\n",
    "# = Build model =\n",
    "final_model = model_from_config(\n",
    "    config=config, initialize=True, dataset=trainer.dataset_train\n",
    ")"
   ]
  },
  {
   "cell_type": "code",
   "execution_count": 4,
   "id": "c9bad231-aafd-4963-a29d-32b5d9daf7ec",
   "metadata": {},
   "outputs": [
    {
     "data": {
      "text/plain": [
       "5120.0"
      ]
     },
     "execution_count": 4,
     "metadata": {},
     "output_type": "execute_result"
    }
   ],
   "source": [
    "(96 + 64)*64/2"
   ]
  },
  {
   "cell_type": "code",
   "execution_count": 5,
   "id": "ced3e0ae-66f3-407d-91d9-0b71fe1c866c",
   "metadata": {},
   "outputs": [
    {
     "data": {
      "text/plain": [
       "GraphModel(\n",
       "  (model): RescaleOutput(\n",
       "    (model): StressOutput(\n",
       "      (func): SequentialGraphNetwork(\n",
       "        (one_hot): OneHotAtomEncoding()\n",
       "        (spharm_edges): SphericalHarmonicEdgeAttrs(\n",
       "          (sh): SphericalHarmonics()\n",
       "        )\n",
       "        (radial_basis): RadialBasisEdgeEncoding(\n",
       "          (basis): BesselBasis()\n",
       "          (cutoff): PolynomialCutoff()\n",
       "        )\n",
       "        (chemical_embedding): AtomwiseLinear(\n",
       "          (linear): Linear(2x0e -> 32x0e | 64 weights)\n",
       "        )\n",
       "        (layer0_convnet): ConvNetLayer(\n",
       "          (equivariant_nonlin): Gate (96x0e+32x1o+32x2e -> 32x0e+32x2e+32x1o)\n",
       "          (conv): InteractionBlock(\n",
       "            (linear_1): Linear(32x0e -> 32x0e | 1024 weights)\n",
       "            (fc): FullyConnectedNet[8, 64, 64, 96]\n",
       "            (tp): TensorProduct(32x0e x 1x0e+1x1o+1x2e -> 32x0e+32x1o+32x2e | 96 paths | 96 weights)\n",
       "            (linear_2): Linear(32x0e+32x1o+32x2e -> 96x0e+32x1o+32x2e | 5120 weights)\n",
       "            (sc): FullyConnectedTensorProduct(32x0e x 2x0e -> 96x0e+32x1o+32x2e | 6144 paths | 6144 weights)\n",
       "          )\n",
       "        )\n",
       "        (layer1_convnet): ConvNetLayer(\n",
       "          (equivariant_nonlin): Gate (160x0e+32x1o+32x1e+32x2o+32x2e -> 32x0e+32x1e+32x2e+32x1o+32x2o)\n",
       "          (conv): InteractionBlock(\n",
       "            (linear_1): Linear(32x0e+32x2e+32x1o -> 32x0e+32x2e+32x1o | 3072 weights)\n",
       "            (fc): FullyConnectedNet[8, 64, 64, 480]\n",
       "            (tp): TensorProduct(32x0e+32x2e+32x1o x 1x0e+1x1o+1x2e -> 96x0e+128x1o+64x1e+64x2o+128x2e | 480 paths | 480 weights)\n",
       "            (linear_2): Linear(96x0e+128x1o+64x1e+64x2o+128x2e -> 160x0e+32x1o+32x1e+32x2o+32x2e | 27648 weights)\n",
       "            (sc): FullyConnectedTensorProduct(32x0e+32x2e+32x1o x 2x0e -> 160x0e+32x1o+32x1e+32x2o+32x2e | 14336 paths | 14336 weights)\n",
       "          )\n",
       "        )\n",
       "        (layer2_convnet): ConvNetLayer(\n",
       "          (equivariant_nonlin): Gate (32x0o+160x0e+32x1o+32x1e+32x2o+32x2e -> 32x0e+32x0o+32x1e+32x2e+32x1o+32x2o)\n",
       "          (conv): InteractionBlock(\n",
       "            (linear_1): Linear(32x0e+32x1e+32x2e+32x1o+32x2o -> 32x0e+32x1e+32x2e+32x1o+32x2o | 5120 weights)\n",
       "            (fc): FullyConnectedNet[8, 64, 64, 864]\n",
       "            (tp): TensorProduct(32x0e+32x1e+32x2e+32x1o+32x2o x 1x0e+1x1o+1x2e -> 64x0o+96x0e+192x1o+160x1e+160x2o+192x2e | 864 paths | 864 weights)\n",
       "            (linear_2): Linear(64x0o+96x0e+192x1o+160x1e+160x2o+192x2e -> 32x0o+160x0e+32x1o+32x1e+32x2o+32x2e | 39936 weights)\n",
       "            (sc): FullyConnectedTensorProduct(32x0e+32x1e+32x2e+32x1o+32x2o x 2x0e -> 32x0o+160x0e+32x1o+32x1e+32x2o+32x2e | 18432 paths | 18432 weights)\n",
       "          )\n",
       "        )\n",
       "        (layer3_convnet): ConvNetLayer(\n",
       "          (equivariant_nonlin): Gate (32x0o+160x0e+32x1o+32x1e+32x2o+32x2e -> 32x0e+32x0o+32x1e+32x2e+32x1o+32x2o)\n",
       "          (conv): InteractionBlock(\n",
       "            (linear_1): Linear(32x0e+32x0o+32x1e+32x2e+32x1o+32x2o -> 32x0e+32x0o+32x1e+32x2e+32x1o+32x2o | 6144 weights)\n",
       "            (fc): FullyConnectedNet[8, 64, 64, 960]\n",
       "            (tp): TensorProduct(32x0e+32x0o+32x1e+32x2e+32x1o+32x2o x 1x0e+1x1o+1x2e -> 96x0o+96x0e+192x1o+192x1e+192x2o+192x2e | 960 paths | 960 weights)\n",
       "            (linear_2): Linear(96x0o+96x0e+192x1o+192x1e+192x2o+192x2e -> 32x0o+160x0e+32x1o+32x1e+32x2o+32x2e | 43008 weights)\n",
       "            (sc): FullyConnectedTensorProduct(32x0e+32x0o+32x1e+32x2e+32x1o+32x2o x 2x0e -> 32x0o+160x0e+32x1o+32x1e+32x2o+32x2e | 20480 paths | 20480 weights)\n",
       "          )\n",
       "        )\n",
       "        (conv_to_output_hidden): AtomwiseLinear(\n",
       "          (linear): Linear(32x0e+32x0o+32x1e+32x2e+32x1o+32x2o -> 16x0e | 512 weights)\n",
       "        )\n",
       "        (output_hidden_to_scalar): AtomwiseLinear(\n",
       "          (linear): Linear(16x0e -> 1x0e | 16 weights)\n",
       "        )\n",
       "        (per_species_rescale): PerSpeciesScaleShift()\n",
       "        (total_energy_sum): AtomwiseReduce()\n",
       "      )\n",
       "    )\n",
       "  )\n",
       ")"
      ]
     },
     "execution_count": 5,
     "metadata": {},
     "output_type": "execute_result"
    }
   ],
   "source": [
    "final_model"
   ]
  },
  {
   "cell_type": "code",
   "execution_count": 6,
   "id": "5bebd23d-298e-4af7-b1b6-111413ec050d",
   "metadata": {},
   "outputs": [
    {
     "data": {
      "text/plain": [
       "dict"
      ]
     },
     "execution_count": 6,
     "metadata": {},
     "output_type": "execute_result"
    }
   ],
   "source": [
    "\n",
    "from nequip.data import AtomicData\n",
    "\n",
    "out = final_model(AtomicData.to_AtomicDataDict(dataset[0]))\n",
    "\n",
    "# Dets AtomicDataDict as input and returns AtomicDataDict as output\n",
    "type(out)"
   ]
  },
  {
   "cell_type": "markdown",
   "id": "c1024646-ad08-4d60-ab43-c590b71e7084",
   "metadata": {},
   "source": [
    "## OneHotEncoding"
   ]
  },
  {
   "cell_type": "code",
   "execution_count": 197,
   "id": "3defaad2-f327-4be7-b137-2d70591d5357",
   "metadata": {},
   "outputs": [],
   "source": [
    "from vladimir import GraphModuleMixin\n",
    "from vladimir import OneHotAtomEncoding"
   ]
  },
  {
   "cell_type": "code",
   "execution_count": 198,
   "id": "1d2b0786",
   "metadata": {},
   "outputs": [],
   "source": [
    "def get_diff_dicts(dict1, dict2):\n",
    "    set1 = set(dict1.items())\n",
    "    set2 = set(dict2.items())\n",
    "    diff = set1 ^ set2\n",
    "    \n",
    "    #out = sum([diff[key].sum() for key in diff])\n",
    "    return diff\n",
    "\n",
    "def get_diff_out(dict1, dict2):\n",
    "    \n",
    "    print()\n",
    "    out = sum([((dict1[key] - dict2[key])**2).sum() for key in dict1 if dict1[key].dtype == torch.float32])\n",
    "    return out\n",
    "\n",
    "def print_diff(ir_1, ir_2):\n",
    "\n",
    "    print('Irreps in')\n",
    "    print(ir_1)\n",
    "    print('Irreps out')\n",
    "    print(ir_2)\n",
    "    print('Irreps diff')\n",
    "    print(get_diff_dicts(ir_1, ir_2))"
   ]
  },
  {
   "cell_type": "code",
   "execution_count": 199,
   "id": "2f70c482-b589-42ea-bc34-1272750c4a14",
   "metadata": {},
   "outputs": [
    {
     "name": "stdout",
     "output_type": "stream",
     "text": [
      "Irreps in\n",
      "{'pos': 1x1o, 'edge_index': None}\n",
      "Irreps out\n",
      "{'pos': 1x1o, 'edge_index': None, 'node_attrs': 2x0e, 'node_features': 2x0e}\n",
      "Irreps diff\n",
      "{('node_attrs', 2x0e), ('node_features', 2x0e)}\n"
     ]
    }
   ],
   "source": [
    "# One hot encoding of the types\n",
    "data = AtomicData.to_AtomicDataDict(dataset[0])\n",
    "\n",
    "\n",
    "\n",
    "one_hot = OneHotAtomEncoding(2)\n",
    "\n",
    "data1 = one_hot(data)\n",
    "\n",
    "\n",
    "print_diff(one_hot.irreps_in, one_hot.irreps_out)"
   ]
  },
  {
   "cell_type": "code",
   "execution_count": 200,
   "id": "b1dcc817",
   "metadata": {},
   "outputs": [
    {
     "name": "stdout",
     "output_type": "stream",
     "text": [
      "atom_types\n",
      "Irreps in\n",
      "{'pos': 1x1o, 'edge_index': None}\n",
      "Irreps out\n",
      "{'pos': 1x1o, 'edge_index': None, 'node_attrs': 2x0e, 'node_features': 2x0e}\n",
      "Irreps diff\n",
      "{('node_attrs', 2x0e), ('node_features', 2x0e)}\n"
     ]
    }
   ],
   "source": [
    "from nequip.data import AtomicDataDict\n",
    "import torch\n",
    "import numpy as np\n",
    "from e3nn.o3 import Irreps\n",
    "from copy import deepcopy\n",
    "\n",
    "print(AtomicDataDict.ATOM_TYPE_KEY)\n",
    "\n",
    "data_my = AtomicData.to_AtomicDataDict(dataset[0])\n",
    "\n",
    "\n",
    "\n",
    "irreps_in_my = {'pos': Irreps('1x1o'), 'edge_index': None}\n",
    "irreps_out_my = deepcopy(irreps_in_my)\n",
    "\n",
    "types = data['atom_types'].squeeze(-1)\n",
    "num_types = len(np.unique(types))\n",
    "\n",
    "encoded_types = torch.nn.functional.one_hot(types, \n",
    "                                            num_classes = num_types).to(dtype = torch.float32)\n",
    "\n",
    "from copy import deepcopy\n",
    "\n",
    "data1_my = deepcopy(data_my)\n",
    "\n",
    "data1_my['node_attrs'] = encoded_types\n",
    "data1_my['node_features'] = encoded_types\n",
    "\n",
    "irreps_out_my['node_attrs'] = Irreps([(num_types, (0, 1))])\n",
    "irreps_out_my['node_features'] = irreps_out_my['node_attrs']\n",
    "\n",
    "\n",
    "print_diff(irreps_in_my, irreps_out_my)"
   ]
  },
  {
   "cell_type": "code",
   "execution_count": 201,
   "id": "e6b7478b",
   "metadata": {},
   "outputs": [
    {
     "name": "stdout",
     "output_type": "stream",
     "text": [
      "Irreps in\n",
      "set()\n",
      "Irreps out\n",
      "set()\n",
      "Numerical difference after embedding\n",
      "\n"
     ]
    },
    {
     "data": {
      "text/plain": [
       "tensor(0.)"
      ]
     },
     "execution_count": 201,
     "metadata": {},
     "output_type": "execute_result"
    }
   ],
   "source": [
    "print(\"Irreps in\")\n",
    "print(get_diff_dicts(one_hot.irreps_in, irreps_in_my))\n",
    "\n",
    "print(\"Irreps out\")\n",
    "print(get_diff_dicts(one_hot.irreps_out, irreps_out_my))\n",
    "\n",
    "print('Numerical difference after embedding')\n",
    "get_diff_out(data1_my, data1)"
   ]
  },
  {
   "cell_type": "markdown",
   "id": "cdd72b82-d99f-49c4-9018-a6bcdcfad41f",
   "metadata": {},
   "source": [
    "## AtomwiseLinear"
   ]
  },
  {
   "cell_type": "code",
   "execution_count": 202,
   "id": "6aba1568-ff83-4df4-979d-88d7afe148a8",
   "metadata": {},
   "outputs": [
    {
     "data": {
      "text/plain": [
       "2x0e"
      ]
     },
     "execution_count": 202,
     "metadata": {},
     "output_type": "execute_result"
    }
   ],
   "source": [
    "one_hot.irreps_out['node_features']"
   ]
  },
  {
   "cell_type": "code",
   "execution_count": 203,
   "id": "da008891-fe8e-44ba-964b-eb60061b2fbe",
   "metadata": {},
   "outputs": [
    {
     "name": "stdout",
     "output_type": "stream",
     "text": [
      "Irreps in\n",
      "{'pos': 1x1o, 'edge_index': None, 'node_attrs': 2x0e, 'node_features': 2x0e}\n",
      "Irreps out\n",
      "{'pos': 1x1o, 'edge_index': None, 'node_attrs': 2x0e, 'node_features': 32x0e}\n",
      "Irreps diff\n",
      "{('node_features', 2x0e), ('node_features', 32x0e)}\n"
     ]
    }
   ],
   "source": [
    "from vladimir import AtomwiseLinear\n",
    "from e3nn import o3\n",
    "\n",
    "torch.manual_seed(32)\n",
    "\n",
    "al = AtomwiseLinear(irreps_in=one_hot.irreps_out, irreps_out=o3.Irreps([(32, (0, 1))]))\n",
    "\n",
    "data2 = al(data1)\n",
    "\n",
    "print_diff(al.irreps_in, al.irreps_out)"
   ]
  },
  {
   "cell_type": "code",
   "execution_count": 204,
   "id": "d116a18e-f48b-4485-8980-8c1df82493c1",
   "metadata": {},
   "outputs": [
    {
     "name": "stdout",
     "output_type": "stream",
     "text": [
      "Irreps in\n",
      "{'pos': 1x1o, 'edge_index': None, 'node_attrs': 2x0e, 'node_features': 2x0e}\n",
      "Irreps out\n",
      "{'pos': 1x1o, 'edge_index': None, 'node_attrs': 2x0e, 'node_features': 32x0e}\n",
      "Irreps diff\n",
      "{('node_features', 2x0e), ('node_features', 32x0e)}\n"
     ]
    }
   ],
   "source": [
    "torch.manual_seed(32)\n",
    "\n",
    "from e3nn import o3\n",
    "from e3nn.o3 import Linear\n",
    "\n",
    "irreps2_in_my = irreps_out_my\n",
    "irreps2_out_my = deepcopy(irreps_out_my)\n",
    "\n",
    "\n",
    "from copy import deepcopy\n",
    "\n",
    "field = 'node_features'\n",
    "\n",
    "irreps_in_L = irreps2_in_my[field]\n",
    "irreps_out_L = o3.Irreps([(32, (0, 1))])\n",
    "\n",
    "data2_my = deepcopy(data1_my)\n",
    "\n",
    "data2_my[field] = Linear(irreps_in = irreps_in_L, irreps_out = irreps_out_L)(data1_my[field])\n",
    "\n",
    "irreps2_out_my[field] = irreps_out_L\n",
    "\n",
    "\n",
    "print_diff(irreps2_in_my, irreps2_out_my)"
   ]
  },
  {
   "cell_type": "code",
   "execution_count": 205,
   "id": "5f74f076-e8e5-4830-83b0-747d28fa2e36",
   "metadata": {},
   "outputs": [
    {
     "name": "stdout",
     "output_type": "stream",
     "text": [
      "Irreps in\n",
      "set()\n",
      "Irreps out\n",
      "set()\n",
      "Numerical difference after embedding\n",
      "\n",
      "tensor([ 0.5214, -0.4426,  0.2691,  0.5466,  1.2538,  0.1392,  0.4557,  1.0140,\n",
      "         1.3806, -0.3958, -1.2060,  0.6447,  0.3683, -0.7450,  0.0168,  1.0373,\n",
      "         0.8198,  0.4745, -1.2909, -0.5983,  0.9319, -0.4998,  0.8673,  0.0576,\n",
      "         0.7676,  0.4229, -0.5004,  0.3736, -0.0136, -0.0590, -0.4015,  0.1887],\n",
      "       grad_fn=<SelectBackward0>)\n",
      "tensor([ 0.5214, -0.4426,  0.2691,  0.5466,  1.2538,  0.1392,  0.4557,  1.0140,\n",
      "         1.3806, -0.3958, -1.2060,  0.6447,  0.3683, -0.7450,  0.0168,  1.0373,\n",
      "         0.8198,  0.4745, -1.2909, -0.5983,  0.9319, -0.4998,  0.8673,  0.0576,\n",
      "         0.7676,  0.4229, -0.5004,  0.3736, -0.0136, -0.0590, -0.4015,  0.1887],\n",
      "       grad_fn=<SelectBackward0>)\n"
     ]
    }
   ],
   "source": [
    "print(\"Irreps in\")\n",
    "print(get_diff_dicts(al.irreps_in, irreps2_in_my))\n",
    "\n",
    "print(\"Irreps out\")\n",
    "print(get_diff_dicts(al.irreps_out, irreps2_out_my))\n",
    "\n",
    "print('Numerical difference after embedding')\n",
    "get_diff_out(data2_my, data2)\n",
    "print(data2_my['node_features'][0])\n",
    "print(data2['node_features'][0])"
   ]
  },
  {
   "cell_type": "markdown",
   "id": "cc4dcc80",
   "metadata": {},
   "source": [
    "### Radial Basis Encoding"
   ]
  },
  {
   "cell_type": "code",
   "execution_count": 206,
   "id": "8770f8f8",
   "metadata": {},
   "outputs": [
    {
     "name": "stdout",
     "output_type": "stream",
     "text": [
      "Irreps in\n",
      "{'pos': 1x1o, 'edge_index': None, 'node_attrs': 2x0e, 'node_features': 32x0e}\n",
      "Irreps out\n",
      "{'pos': 1x1o, 'edge_index': None, 'node_attrs': 2x0e, 'node_features': 32x0e, 'edge_embedding': 8x0e, 'edge_cutoff': 1x0e}\n",
      "Irreps diff\n",
      "{('edge_cutoff', 1x0e), ('edge_embedding', 8x0e)}\n"
     ]
    }
   ],
   "source": [
    "from vladimir import RadialBasisEdgeEncoding\n",
    "from e3nn import o3\n",
    "\n",
    "torch.manual_seed(32)\n",
    "\n",
    "rbe = RadialBasisEdgeEncoding(basis_kwargs={'r_max': 5}, cutoff_kwargs={'r_max': 5}, irreps_in=al.irreps_out)\n",
    "\n",
    "data3 = rbe(data2)\n",
    "\n",
    "print_diff(rbe.irreps_in, rbe.irreps_out)"
   ]
  },
  {
   "cell_type": "code",
   "execution_count": 207,
   "id": "8849205d",
   "metadata": {},
   "outputs": [
    {
     "name": "stdout",
     "output_type": "stream",
     "text": [
      "Irreps in\n",
      "{'pos': 1x1o, 'edge_index': None}\n",
      "Irreps out\n",
      "{'pos': 1x1o, 'edge_index': None, 'node_attrs': 2x0e, 'node_features': 2x0e}\n",
      "Irreps diff\n",
      "{('node_attrs', 2x0e), ('node_features', 2x0e)}\n"
     ]
    }
   ],
   "source": [
    "from torch import nn\n",
    "import math\n",
    "\n",
    "\n",
    "torch.manual_seed(32)\n",
    "\n",
    "\n",
    "num_basis = 8\n",
    "r_max = 5\n",
    "\n",
    "\n",
    "data3_my = {key: torch.clone(data2_my[key]) for key in data2_my}\n",
    "data3_my = AtomicDataDict.with_edge_vectors(data3_my, with_lengths=True)\n",
    "\n",
    "edge_length = data3_my[AtomicDataDict.EDGE_LENGTH_KEY]\n",
    "\n",
    "# edge length embedding\n",
    "bessel_weights = (torch.linspace(start=1.0, end=num_basis, steps=num_basis) * math.pi)\n",
    "bessel_weights = nn.Parameter(bessel_weights)\n",
    "\n",
    "edge_length_embedding = 2/r_max*torch.sin(bessel_weights * edge_length.unsqueeze(-1) / r_max)/edge_length.unsqueeze(-1)\n",
    "\n",
    "# cutoff\n",
    "factor = 1/r_max\n",
    "p = 6\n",
    "    \n",
    "x = edge_length * factor\n",
    "\n",
    "cutoff = 1.0\n",
    "cutoff = cutoff - (((p + 1.0) * (p + 2.0) / 2.0) * torch.pow(x, p))\n",
    "cutoff = cutoff + (p * (p + 2.0) * torch.pow(x, p + 1.0))\n",
    "cutoff = cutoff - ((p * (p + 1.0) / 2) * torch.pow(x, p + 2.0))\n",
    "cutoff *= (x < 1.0)\n",
    "\n",
    "cutoff = cutoff.unsqueeze(-1)\n",
    "\n",
    "data3_my['edge_embedding'] = edge_length_embedding * cutoff\n",
    "data3_my['edge_cutoff'] = cutoff\n",
    "\n",
    "irreps3_in_my = deepcopy(irreps2_out_my)\n",
    "irreps3_out_my = deepcopy(irreps2_out_my)\n",
    "\n",
    "irreps3_out_my['edge_embedding'] = o3.Irreps([(num_basis, (0, 1))])\n",
    "irreps3_out_my['edge_cutoff'] = o3.Irreps(\"1x0e\")\n",
    "\n",
    "print_diff(irreps_in_my, irreps_out_my)"
   ]
  },
  {
   "cell_type": "code",
   "execution_count": 208,
   "id": "1bf574e5",
   "metadata": {
    "scrolled": true
   },
   "outputs": [
    {
     "name": "stdout",
     "output_type": "stream",
     "text": [
      "Irreps in\n",
      "set()\n",
      "Irreps out\n",
      "set()\n",
      "Numerical difference after embedding\n",
      "\n",
      "tensor(5.7674e-14, grad_fn=<AddBackward0>)\n",
      "tensor(113.1742)\n",
      "tensor(113.1742)\n",
      "tensor([ 0.0880, -0.0531, -0.0560,  0.0869,  0.0035, -0.0890,  0.0502,  0.0587],\n",
      "       grad_fn=<SelectBackward0>)\n",
      "tensor([ 0.0880, -0.0531, -0.0560,  0.0869,  0.0035, -0.0890,  0.0502,  0.0587],\n",
      "       grad_fn=<SelectBackward0>)\n"
     ]
    }
   ],
   "source": [
    "print(\"Irreps in\")\n",
    "print(get_diff_dicts(rbe.irreps_in, irreps3_in_my))\n",
    "\n",
    "print(\"Irreps out\")\n",
    "print(get_diff_dicts(rbe.irreps_out, irreps3_out_my))\n",
    "\n",
    "print('Numerical difference after embedding')\n",
    "print(get_diff_out(data3_my, data3))\n",
    "print(data3_my['edge_cutoff'].sum())\n",
    "print(data3['edge_cutoff'].sum())\n",
    "\n",
    "print(data3_my['edge_embedding'][0])\n",
    "print(data3['edge_embedding'][0])"
   ]
  },
  {
   "cell_type": "markdown",
   "id": "7aaa0473",
   "metadata": {},
   "source": [
    "### Spherical harmonics"
   ]
  },
  {
   "cell_type": "code",
   "execution_count": 209,
   "id": "1e03cca6",
   "metadata": {},
   "outputs": [
    {
     "name": "stdout",
     "output_type": "stream",
     "text": [
      "Irreps in\n",
      "{'pos': 1x1o, 'edge_index': None, 'node_attrs': 2x0e, 'node_features': 32x0e, 'edge_embedding': 8x0e, 'edge_cutoff': 1x0e}\n",
      "Irreps out\n",
      "{'pos': 1x1o, 'edge_index': None, 'node_attrs': 2x0e, 'node_features': 32x0e, 'edge_embedding': 8x0e, 'edge_cutoff': 1x0e, 'edge_attrs': 1x0e+1x1o+1x2e}\n",
      "Irreps diff\n",
      "{('edge_attrs', 1x0e+1x1o+1x2e)}\n"
     ]
    }
   ],
   "source": [
    "torch.manual_seed(32)\n",
    "\n",
    "from vladimir import SphericalHarmonicEdgeAttrs\n",
    "\n",
    "sh = SphericalHarmonicEdgeAttrs(2, irreps_in=rbe.irreps_out)\n",
    "\n",
    "\n",
    "data4 = sh(data3)\n",
    "\n",
    "print_diff(sh.irreps_in, sh.irreps_out)"
   ]
  },
  {
   "cell_type": "code",
   "execution_count": 210,
   "id": "f9cbd81d",
   "metadata": {},
   "outputs": [
    {
     "name": "stdout",
     "output_type": "stream",
     "text": [
      "edge_vectors\n",
      "edge_attrs\n"
     ]
    }
   ],
   "source": [
    "print(AtomicDataDict.EDGE_VECTORS_KEY)\n",
    "print(AtomicDataDict.EDGE_ATTRS_KEY)"
   ]
  },
  {
   "cell_type": "code",
   "execution_count": 211,
   "id": "fb32cb9c-4be4-4598-80a4-b88d4094e590",
   "metadata": {
    "scrolled": true
   },
   "outputs": [
    {
     "name": "stdout",
     "output_type": "stream",
     "text": [
      "Irreps in\n",
      "{'pos': 1x1o, 'edge_index': None, 'node_attrs': 2x0e, 'node_features': 32x0e, 'edge_embedding': 8x0e, 'edge_cutoff': 1x0e}\n",
      "Irreps out\n",
      "{'pos': 1x1o, 'edge_index': None, 'node_attrs': 2x0e, 'node_features': 32x0e, 'edge_embedding': 8x0e, 'edge_cutoff': 1x0e, 'edge_attrs': 1x0e+1x1o+1x2e}\n",
      "Irreps diff\n",
      "{('edge_attrs', 1x0e+1x1o+1x2e)}\n"
     ]
    }
   ],
   "source": [
    "from torch import nn\n",
    "import math\n",
    "\n",
    "\n",
    "torch.manual_seed(32)\n",
    "\n",
    "\n",
    "l_max = 2\n",
    "irreps_edge_sh = o3.Irreps.spherical_harmonics(2)\n",
    "\n",
    "data4_my = {key: torch.clone(data3_my[key]) for key in data3_my}\n",
    "data4_my = AtomicDataDict.with_edge_vectors(data3_my, with_lengths=False)\n",
    "\n",
    "\n",
    "harm_gen = o3.SphericalHarmonics(irreps_edge_sh, True, 'component')\n",
    "\n",
    "edge_vec = data4_my['edge_vectors']\n",
    "\n",
    "data4_my['edge_attrs'] = harm_gen(edge_vec)\n",
    "\n",
    "\n",
    "irreps4_in_my = deepcopy(irreps3_out_my)\n",
    "irreps4_out_my = deepcopy(irreps3_out_my)\n",
    "\n",
    "irreps4_out_my['edge_attrs'] = irreps_edge_sh\n",
    "\n",
    "\n",
    "print_diff(irreps4_in_my, irreps4_out_my)"
   ]
  },
  {
   "cell_type": "code",
   "execution_count": 212,
   "id": "0973e1f3",
   "metadata": {},
   "outputs": [
    {
     "name": "stdout",
     "output_type": "stream",
     "text": [
      "Irreps in\n",
      "set()\n",
      "Irreps out\n",
      "set()\n",
      "Numerical difference after embedding\n",
      "\n",
      "tensor(5.7674e-14, grad_fn=<AddBackward0>)\n"
     ]
    }
   ],
   "source": [
    "print(\"Irreps in\")\n",
    "print(get_diff_dicts(sh.irreps_in, irreps4_in_my))\n",
    "\n",
    "print(\"Irreps out\")\n",
    "print(get_diff_dicts(sh.irreps_out, irreps4_out_my))\n",
    "\n",
    "print('Numerical difference after embedding')\n",
    "print(get_diff_out(data4_my, data4))"
   ]
  },
  {
   "cell_type": "markdown",
   "id": "78e1b333",
   "metadata": {},
   "source": [
    "### Interaction Block"
   ]
  },
  {
   "cell_type": "code",
   "execution_count": 213,
   "id": "5cc6ad6e",
   "metadata": {
    "scrolled": true
   },
   "outputs": [
    {
     "name": "stdout",
     "output_type": "stream",
     "text": [
      "Irreps in\n",
      "{'pos': 1x1o, 'edge_index': None, 'node_attrs': 2x0e, 'node_features': 32x0e, 'edge_embedding': 8x0e, 'edge_cutoff': 1x0e, 'edge_attrs': 1x0e+1x1o+1x2e}\n",
      "Irreps out\n",
      "{'pos': 1x1o, 'edge_index': None, 'node_attrs': 2x0e, 'node_features': 96x0e+32x1o+32x2e, 'edge_embedding': 8x0e, 'edge_cutoff': 1x0e, 'edge_attrs': 1x0e+1x1o+1x2e}\n",
      "Irreps diff\n",
      "{('node_features', 32x0e), ('node_features', 96x0e+32x1o+32x2e)}\n"
     ]
    }
   ],
   "source": [
    "from vladimir import InteractionBlock\n",
    "from e3nn import o3\n",
    "\n",
    "torch.manual_seed(32)\n",
    "\n",
    "ib = InteractionBlock(irreps_in = sh.irreps_out, \n",
    "                      irreps_out = '96x0e + 32x1o + 32x2e',\n",
    "                      invariant_layers = 2,\n",
    "                      invariant_neurons = 64)\n",
    "\n",
    "\n",
    "data5 = ib(data4)\n",
    "\n",
    "print_diff(ib.irreps_in, ib.irreps_out)"
   ]
  },
  {
   "cell_type": "code",
   "execution_count": 214,
   "id": "9d824e1a",
   "metadata": {},
   "outputs": [
    {
     "name": "stdout",
     "output_type": "stream",
     "text": [
      "Linear(32x0e -> 32x0e | 1024 weights)\n",
      "TensorProduct(32x0e x 1x0e+1x1o+1x2e -> 32x0e+32x1o+32x2e | 96 paths | 96 weights)\n",
      "Linear(32x0e+32x1o+32x2e -> 96x0e+32x1o+32x2e | 5120 weights)\n",
      "Irreps in\n",
      "{'pos': 1x1o, 'edge_index': None, 'node_attrs': 2x0e, 'node_features': 32x0e, 'edge_embedding': 8x0e, 'edge_cutoff': 1x0e, 'edge_attrs': 1x0e+1x1o+1x2e}\n",
      "Irreps out\n",
      "{'pos': 1x1o, 'edge_index': None, 'node_attrs': 2x0e, 'node_features': 96x0e+32x1o+32x2e, 'edge_embedding': 8x0e, 'edge_cutoff': 1x0e, 'edge_attrs': 1x0e+1x1o+1x2e}\n",
      "Irreps diff\n",
      "{('node_features', 32x0e), ('node_features', 96x0e+32x1o+32x2e)}\n"
     ]
    }
   ],
   "source": [
    "from torch import nn\n",
    "import math\n",
    "from e3nn.nn import FullyConnectedNet\n",
    "from e3nn.o3 import TensorProduct, Linear, FullyConnectedTensorProduct\n",
    "from torch_runstats.scatter import scatter\n",
    "\n",
    "torch.manual_seed(32)\n",
    "\n",
    "\n",
    "data5_my = {key: torch.clone(data4_my[key]) for key in data4_my}\n",
    "\n",
    "\n",
    "# Figuring out the irreps\n",
    "irreps5_in_my = deepcopy(irreps4_out_my)\n",
    "irreps5_out_my = deepcopy(irreps4_out_my)\n",
    "\n",
    "irreps5_out_my['node_features'] = o3.Irreps('96x0e + 32x1o + 32x2e')\n",
    "\n",
    "feature_irreps_in = irreps5_in_my['node_features']\n",
    "feature_irreps_out = irreps5_out_my['node_features']\n",
    "irreps_edge_attr = irreps5_in_my['edge_attrs']\n",
    "\n",
    "irreps_mid = []\n",
    "instructions = []\n",
    "\n",
    "# instructions means stuff for multiplicities\n",
    "for i, (mul, ir_in) in enumerate(feature_irreps_in):\n",
    "    for j, (_, ir_edge) in enumerate(irreps_edge_attr):\n",
    "        for ir_out in ir_in * ir_edge:\n",
    "            if ir_out in feature_irreps_out:\n",
    "                k = len(irreps_mid)\n",
    "                irreps_mid.append((mul, ir_out))\n",
    "                instructions.append((i, j, k, \"uvu\", True))\n",
    "\n",
    "\n",
    "# We sort the output irreps of the tensor product so that we can simplify them\n",
    "# when they are provided to the second o3.Linear\n",
    "irreps_mid = o3.Irreps(irreps_mid)\n",
    "irreps_mid, p, _ = irreps_mid.sort()\n",
    "\n",
    "# Permute the output indexes of the instructions to match the sorted irreps:\n",
    "instructions = [\n",
    "    (i_in1, i_in2, p[i_out], mode, train)\n",
    "    for i_in1, i_in2, i_out, mode, train in instructions\n",
    "]\n",
    "   \n",
    "# Layers\n",
    "# internal_weights are to use paramters for tensor product or now\n",
    "# shared_weights are false means that zi = wi xi x yi opposed to zi = w xi x yi\n",
    "\n",
    "linear_1 = Linear(\n",
    "            irreps_in=feature_irreps_in,\n",
    "            irreps_out=feature_irreps_in,\n",
    "            internal_weights=True,\n",
    "            shared_weights=True,\n",
    ")\n",
    "\n",
    "x = data5_my['node_features']\n",
    "edge_src = data5_my['edge_index'][1]\n",
    "edge_dst = data5_my['edge_index'][0]\n",
    "   \n",
    "\n",
    "tp = TensorProduct(\n",
    "            feature_irreps_in,\n",
    "            irreps_edge_attr,\n",
    "            irreps_mid,\n",
    "            instructions,\n",
    "            shared_weights=False,\n",
    "            internal_weights=False,\n",
    "        )    \n",
    "\n",
    "invariant_layers = 2\n",
    "invariant_neurons = 64\n",
    "\n",
    "# Sligtly negative nonlinear variant of relu\n",
    "fc = FullyConnectedNet(\n",
    "    [irreps5_in_my['edge_embedding'].num_irreps]\n",
    "    + invariant_layers * [invariant_neurons]\n",
    "    + [tp.weight_numel],\n",
    "    torch.nn.functional.silu)\n",
    "\n",
    "\n",
    "linear_2 = Linear(\n",
    "            # irreps_mid has uncoallesed irreps because of the uvu instructions,\n",
    "            # but there's no reason to treat them seperately for the Linear\n",
    "            # Note that normalization of o3.Linear changes if irreps are coallesed\n",
    "            # (likely for the better)\n",
    "            irreps_in=irreps_mid.simplify(),\n",
    "            irreps_out=feature_irreps_out,\n",
    "            internal_weights=True,\n",
    "            shared_weights=True,\n",
    "        )\n",
    "\n",
    "sc = FullyConnectedTensorProduct(\n",
    "                feature_irreps_in,\n",
    "                irreps5_in_my['node_attrs'],\n",
    "                feature_irreps_out,\n",
    "            )\n",
    "\n",
    "\n",
    "weight = fc(data5_my['edge_embedding'])\n",
    "\n",
    "sc_out = sc(x, data5_my['node_attrs'])\n",
    "    \n",
    "x = linear_1(x)\n",
    "    \n",
    "\n",
    "edge_features = tp(\n",
    "            x[edge_src], data5_my['edge_attrs'], weight\n",
    "        )\n",
    "\n",
    "#print(tp)\n",
    "\n",
    "# message passing from src to dst\n",
    "# takes all edge features in the format (num_edges, num_features) \n",
    "# and sums over this features to the dst array\n",
    "x = scatter(edge_features, edge_dst, dim=0, dim_size=len(x))\n",
    "\n",
    "\n",
    "print(linear_1)\n",
    "print(tp)\n",
    "print(linear_2)\n",
    "\n",
    "x = linear_2(x)\n",
    "\n",
    "x = x + sc_out\n",
    "\n",
    "data5_my['node_features'] = x\n",
    "\n",
    "print_diff(irreps5_in_my, irreps5_out_my)"
   ]
  },
  {
   "cell_type": "code",
   "execution_count": 215,
   "id": "3e14cafd",
   "metadata": {},
   "outputs": [
    {
     "name": "stdout",
     "output_type": "stream",
     "text": [
      "Irreps in\n",
      "set()\n",
      "Irreps out\n",
      "set()\n",
      "Numerical difference after embedding\n",
      "\n",
      "tensor(9.6702e-12, grad_fn=<AddBackward0>)\n"
     ]
    }
   ],
   "source": [
    "print(\"Irreps in\")\n",
    "print(get_diff_dicts(ib.irreps_in, irreps5_in_my))\n",
    "\n",
    "print(\"Irreps out\")\n",
    "print(get_diff_dicts(ib.irreps_out, irreps5_out_my))\n",
    "\n",
    "print('Numerical difference after embedding')\n",
    "print(get_diff_out(data5_my, data5))"
   ]
  },
  {
   "cell_type": "markdown",
   "id": "90214560",
   "metadata": {},
   "source": [
    "### Conv"
   ]
  },
  {
   "cell_type": "code",
   "execution_count": 216,
   "id": "f890e83f",
   "metadata": {},
   "outputs": [
    {
     "name": "stdout",
     "output_type": "stream",
     "text": [
      "Irreps in\n",
      "{'pos': 1x1o, 'edge_index': None, 'node_attrs': 2x0e, 'node_features': 32x0e, 'edge_embedding': 8x0e, 'edge_cutoff': 1x0e, 'edge_attrs': 1x0e+1x1o+1x2e}\n",
      "Irreps out\n",
      "{'pos': 1x1o, 'edge_index': None, 'node_attrs': 2x0e, 'node_features': 32x0e+32x1o+32x2e, 'edge_embedding': 8x0e, 'edge_cutoff': 1x0e, 'edge_attrs': 1x0e+1x1o+1x2e}\n",
      "Irreps diff\n",
      "{('node_features', 32x0e), ('node_features', 32x0e+32x1o+32x2e)}\n"
     ]
    }
   ],
   "source": [
    "from vladimir import conv\n",
    "from vladimir import InteractionBlock, ConvNetLayer\n",
    "from e3nn import o3\n",
    "\n",
    "torch.manual_seed(32)\n",
    "\n",
    "conv = ConvNetLayer(irreps_in = sh.irreps_out, \n",
    "                    feature_irreps_hidden = '32x0e + 32x1o + 32x2e',\n",
    "                    convolution = InteractionBlock,\n",
    "                    convolution_kwargs={'invariant_layers': 2, \n",
    "                                        'invariant_neurons': 64}\n",
    "                   )\n",
    "\n",
    "\n",
    "data4 = {key: torch.clone(data4_my[key]) for key in data4_my}\n",
    "\n",
    "data6 = conv(data4)\n",
    "\n",
    "print_diff(conv.irreps_in, conv.irreps_out)\n"
   ]
  },
  {
   "cell_type": "code",
   "execution_count": 217,
   "id": "e93a67be",
   "metadata": {},
   "outputs": [
    {
     "name": "stdout",
     "output_type": "stream",
     "text": [
      "Irreps in\n",
      "{'pos': 1x1o, 'edge_index': None, 'node_attrs': 2x0e, 'node_features': 32x0e, 'edge_embedding': 8x0e, 'edge_cutoff': 1x0e, 'edge_attrs': 1x0e+1x1o+1x2e}\n",
      "Irreps out\n",
      "{'pos': 1x1o, 'edge_index': None, 'node_attrs': 2x0e, 'node_features': 32x0e+32x1o+32x2e, 'edge_embedding': 8x0e, 'edge_cutoff': 1x0e, 'edge_attrs': 1x0e+1x1o+1x2e}\n",
      "Irreps diff\n",
      "{('node_features', 32x0e), ('node_features', 32x0e+32x1o+32x2e)}\n"
     ]
    }
   ],
   "source": [
    "from torch import nn\n",
    "import math\n",
    "from e3nn.nn import FullyConnectedNet\n",
    "from e3nn.o3 import TensorProduct, Linear, FullyConnectedTensorProduct\n",
    "from torch_runstats.scatter import scatter\n",
    "from vladimir import InteractionBlock\n",
    "# just simple check if ir_out in ir_1 * ir_2\n",
    "from nequip.utils.tp_utils import tp_path_exists\n",
    "from e3nn.nn import Gate\n",
    "\n",
    "\n",
    "acts = {\n",
    "    \"abs\": torch.abs,\n",
    "    \"tanh\": torch.tanh,\n",
    "    \"silu\": torch.nn.functional.silu,\n",
    "}\n",
    "\n",
    "torch.manual_seed(32)\n",
    "\n",
    "\n",
    "data6_my = {key: torch.clone(data4_my[key]) for key in data4_my}\n",
    "\n",
    "\n",
    "# Figuring out the irreps\n",
    "irreps6_in_my = deepcopy(irreps4_out_my)\n",
    "irreps6_out_my = deepcopy(irreps4_out_my)\n",
    "\n",
    "feature_irreps_hidden = '32x0e + 32x1o + 32x2e'\n",
    "\n",
    "# make the nonlin dicts from parity ints instead of convinience strs\n",
    "nonlinearity_scalars = {\"e\": \"silu\", \"o\": \"tanh\"}\n",
    "nonlinearity_gates = {\"e\": \"silu\", \"o\": \"tanh\"}\n",
    "\n",
    "nonlinearity_scalars = {\n",
    "    1: nonlinearity_scalars[\"e\"],\n",
    "    -1: nonlinearity_scalars[\"o\"],\n",
    "}\n",
    "nonlinearity_gates = {\n",
    "    1: nonlinearity_gates[\"e\"],\n",
    "    -1: nonlinearity_gates[\"o\"],\n",
    "}\n",
    "\n",
    "feature_irreps_hidden = o3.Irreps(feature_irreps_hidden)\n",
    "\n",
    "\n",
    "edge_attr_irreps = irreps6_in_my['edge_attrs']\n",
    "irreps_layer_out_prev = irreps6_in_my['node_features']\n",
    "\n",
    "irreps_scalars = o3.Irreps(\n",
    "    [\n",
    "        (mul, ir)\n",
    "        for mul, ir in feature_irreps_hidden\n",
    "        if ir.l == 0\n",
    "        and tp_path_exists(irreps_layer_out_prev, edge_attr_irreps, ir)\n",
    "    ]\n",
    ")\n",
    "\n",
    "irreps_gated = o3.Irreps(\n",
    "    [\n",
    "        (mul, ir)\n",
    "        for mul, ir in feature_irreps_hidden\n",
    "        if ir.l > 0\n",
    "        and tp_path_exists(irreps_layer_out_prev, edge_attr_irreps, ir)\n",
    "    ]\n",
    ")\n",
    "\n",
    "irreps_layer_out = (irreps_scalars + irreps_gated).simplify()\n",
    "\n",
    "ir = (\n",
    "    \"0e\"\n",
    "    if tp_path_exists(irreps_layer_out_prev, edge_attr_irreps, \"0e\")\n",
    "    else \"0o\"\n",
    ")\n",
    "irreps_gates = o3.Irreps([(mul, ir) for mul, _ in irreps_gated])\n",
    "\n",
    "# TO DO, it's not that safe to directly use the\n",
    "# dictionary\n",
    "# Just applies different functions for scalars and nonscalar features\n",
    "# (+)_i ( phi_i (xi) ) + (+) ( phi_j (g_j) y_j)\n",
    "equivariant_nonlin = Gate(\n",
    "    irreps_scalars=irreps_scalars,\n",
    "    act_scalars=[\n",
    "        acts[nonlinearity_scalars[ir.p]] for _, ir in irreps_scalars\n",
    "    ],\n",
    "    irreps_gates=irreps_gates,\n",
    "    act_gates=[acts[nonlinearity_gates[ir.p]] for _, ir in irreps_gates],\n",
    "    irreps_gated=irreps_gated,\n",
    ")\n",
    "\n",
    "conv_irreps_out = equivariant_nonlin.irreps_in.simplify()\n",
    "\n",
    "invariant_layers = 2\n",
    "invariant_neurons = 64\n",
    "ib = InteractionBlock(\n",
    "            irreps_in=irreps6_in_my,\n",
    "            irreps_out=conv_irreps_out,\n",
    "            invariant_layers=invariant_layers,\n",
    "            invariant_neurons=invariant_neurons\n",
    "        )\n",
    "\n",
    "\n",
    "# The output features are whatever we got in\n",
    "# updated with whatever the convolution outputs (which is a full graph module)\n",
    "irreps6_out_my.update(conv.irreps_out)\n",
    "# but with the features updated by the nonlinearity\n",
    "irreps6_out_my['node_features'] = (\n",
    "    equivariant_nonlin.irreps_out\n",
    ")\n",
    "\n",
    "old_x = data6_my['node_features']\n",
    "# run convolution\n",
    "data6_my = ib(data6_my)\n",
    "# do nonlinearity\n",
    "data6_my['node_features'] = equivariant_nonlin(\n",
    "    data6_my['node_features']\n",
    ")\n",
    "\n",
    "\n",
    "print_diff(irreps6_in_my, irreps6_out_my)"
   ]
  },
  {
   "cell_type": "code",
   "execution_count": 218,
   "id": "87431f2e",
   "metadata": {},
   "outputs": [
    {
     "name": "stdout",
     "output_type": "stream",
     "text": [
      "Irreps in\n",
      "set()\n",
      "Irreps out\n",
      "set()\n",
      "Numerical difference after embedding\n",
      "\n",
      "tensor(0., grad_fn=<AddBackward0>)\n"
     ]
    }
   ],
   "source": [
    "print(\"Irreps in\")\n",
    "print(get_diff_dicts(conv.irreps_in, irreps6_in_my))\n",
    "\n",
    "print(\"Irreps out\")\n",
    "print(get_diff_dicts(conv.irreps_out, irreps6_out_my))\n",
    "\n",
    "print('Numerical difference after embedding')\n",
    "print(get_diff_out(data6_my, data6))"
   ]
  },
  {
   "cell_type": "markdown",
   "id": "79994efa",
   "metadata": {},
   "source": [
    "### Trying to replicate with e3nn"
   ]
  },
  {
   "cell_type": "code",
   "execution_count": 21,
   "id": "5687465c",
   "metadata": {},
   "outputs": [],
   "source": [
    "from e3nn import o3"
   ]
  },
  {
   "cell_type": "code",
   "execution_count": 39,
   "id": "31130147",
   "metadata": {},
   "outputs": [
    {
     "name": "stdout",
     "output_type": "stream",
     "text": [
      "FullyConnectedTensorProduct(32x0e x 2x0e -> 96x0e+32x1o+32x2e | 6144 paths | 6144 weights) needs 6144 weights\n"
     ]
    },
    {
     "data": {
      "image/png": "[encoded data removed]",
      "text/plain": [
       "<Figure size 640x480 with 1 Axes>"
      ]
     },
     "metadata": {},
     "output_type": "display_data"
    }
   ],
   "source": [
    "irreps_input = '32x0e'\n",
    "irreps_sh = '2x0e'\n",
    "irreps_output = '96x0e + 32x1o + 32x2e'\n",
    "\n",
    "tp = o3.FullyConnectedTensorProduct(irreps_input, irreps_sh, irreps_output, shared_weights=True)\n",
    "\n",
    "print(f\"{tp} needs {tp.weight_numel} weights\")\n",
    "\n",
    "\n",
    "# No coupling to other than 0\n",
    "tp.visualize();"
   ]
  },
  {
   "cell_type": "code",
   "execution_count": 42,
   "id": "a4656b31",
   "metadata": {},
   "outputs": [
    {
     "name": "stdout",
     "output_type": "stream",
     "text": [
      "FullyConnectedTensorProduct(32x0e+32x2e+32x1o x 2x0e -> 160x0e+32x1o+32x1e+32x2o+32x2e | 14336 paths | 14336 weights) needs 14336 weights\n"
     ]
    },
    {
     "name": "stderr",
     "output_type": "stream",
     "text": [
      "/Users/temporary/Documents/GitHub/pytorch-intel-mps/torch/jit/_check.py:172: UserWarning: The TorchScript type system doesn't support instance-level annotations on empty non-base types in `__init__`. Instead, either 1) use a type annotation in the class body, or 2) wrap the type in `torch.jit.Attribute`.\n",
      "  warnings.warn(\"The TorchScript type system doesn't support \"\n"
     ]
    },
    {
     "data": {
      "image/png": "[encoded data removed]",
      "text/plain": [
       "<Figure size 640x480 with 1 Axes>"
      ]
     },
     "metadata": {},
     "output_type": "display_data"
    }
   ],
   "source": [
    "irreps_input = \"32x0e+32x2e+32x1o\"\n",
    "irreps_sh = \"2x0e\"\n",
    "irreps_output = \"160x0e+32x1o+32x1e+32x2o+32x2e\"\n",
    "\n",
    "\n",
    "tp = o3.FullyConnectedTensorProduct(irreps_input, irreps_sh, irreps_output, shared_weights=True)\n",
    "\n",
    "print(f\"{tp} needs {tp.weight_numel} weights\")\n",
    "\n",
    "\n",
    "# No coupling to other than 0\n",
    "tp.visualize();"
   ]
  },
  {
   "cell_type": "code",
   "execution_count": 41,
   "id": "56f03be1",
   "metadata": {},
   "outputs": [
    {
     "data": {
      "text/plain": [
       "Parameter containing:\n",
       "tensor([ 0.4269,  0.4144,  0.6796,  ...,  0.4213, -0.1014, -1.6700],\n",
       "       requires_grad=True)"
      ]
     },
     "execution_count": 41,
     "metadata": {},
     "output_type": "execute_result"
    }
   ],
   "source": [
    "tp.weight"
   ]
  },
  {
   "cell_type": "code",
   "execution_count": null,
   "id": "6c55c3ee",
   "metadata": {},
   "outputs": [],
   "source": []
  }
 ],
 "metadata": {
  "kernelspec": {
   "display_name": "torch_mkl",
   "language": "python",
   "name": "torch_mkl"
  },
  "language_info": {
   "codemirror_mode": {
    "name": "ipython",
    "version": 3
   },
   "file_extension": ".py",
   "mimetype": "text/x-python",
   "name": "python",
   "nbconvert_exporter": "python",
   "pygments_lexer": "ipython3",
   "version": "3.10.14"
  }
 },
 "nbformat": 4,
 "nbformat_minor": 5
}
