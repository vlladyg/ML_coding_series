{
 "cells": [
  {
   "cell_type": "code",
   "execution_count": 9,
   "id": "5eb8ee71",
   "metadata": {},
   "outputs": [],
   "source": [
    "import numpy as np\n",
    "from sklearn.utils.extmath import randomized_svd as rsvd\n",
    "from matplotlib import pyplot as plt\n",
    "import time"
   ]
  },
  {
   "cell_type": "markdown",
   "id": "d919aae2",
   "metadata": {},
   "source": [
    "## SVD"
   ]
  },
  {
   "cell_type": "code",
   "execution_count": 10,
   "id": "7e75948b",
   "metadata": {},
   "outputs": [],
   "source": [
    "# Hilbert matrix\n",
    "def A(i, j):\n",
    "    return 1.0/(i + j + 1)"
   ]
  },
  {
   "cell_type": "code",
   "execution_count": 11,
   "id": "2d65949b",
   "metadata": {},
   "outputs": [],
   "source": [
    "M = 1500; N = 1024 # number of rows and columns\n",
    "x = np.linspace(1, N, N) # grid for drawings\n",
    "r = 20 # target rank\n",
    "# fill the matrix Ma\n",
    "Ma = np.fromfunction(A, [M, N])"
   ]
  },
  {
   "cell_type": "code",
   "execution_count": 12,
   "id": "17fe5983",
   "metadata": {},
   "outputs": [
    {
     "name": "stdout",
     "output_type": "stream",
     "text": [
      "Classical  0.2227919101715088  sec\n",
      "Randomized  0.2723665237426758  sec\n"
     ]
    }
   ],
   "source": [
    "# Estimate the time, does not save the data\n",
    "start = time.time()\n",
    "U, s, V = np.linalg.svd(Ma)\n",
    "# Truncation of SVD\n",
    "Ut = U[:, :r] # m \\times r\n",
    "st = s[:r] # r\n",
    "Vt = V[:r, :] # r \\times n\n",
    "np.linalg.norm(Ma - Ut @ np.diag(st) @ Vt)\n",
    "print(\"Classical \", time.time() - start, \" sec\")\n",
    "start = time.time()\n",
    "Ur, sr, Vr = rsvd(Ma, n_components = r, random_state = np.random.randint(1))\n",
    "print(\"Randomized \", time.time() - start, \" sec\")"
   ]
  },
  {
   "cell_type": "code",
   "execution_count": 13,
   "id": "bc5f7270",
   "metadata": {},
   "outputs": [
    {
     "name": "stdout",
     "output_type": "stream",
     "text": [
      "Relative error of sigmas= 7.921972539071859e-16\n",
      "Classical relative approximation error =  3.322653783517555e-11\n",
      "Randomized straight-forward error =  3.3226596858840554e-11\n",
      "Initial storage 1536000  memory cells \n",
      " Compressed storage  50500  memory cells \n"
     ]
    },
    {
     "data": {
      "image/png": "[encoded data removed]",
      "text/plain": [
       "<Figure size 640x480 with 1 Axes>"
      ]
     },
     "metadata": {},
     "output_type": "display_data"
    }
   ],
   "source": [
    "# Check the error for singular values\n",
    "plt.title(\"Comparison of classical and randomized\")\n",
    "plt.plot(x, s / s[0], 'bo', markersize = 10, label = 'classical')\n",
    "plt.plot(x[:r], sr/s[0], 'ro', markersize = 5, label = 'randomized')\n",
    "plt.ylabel('Singular values')\n",
    "plt.xlabel('k')\n",
    "plt.xlim(1, r)\n",
    "plt.legend()\n",
    "plt.yscale('log')\n",
    "print('Relative error of sigmas=', np.linalg.norm(s[:r] - sr) / np.linalg.norm(s[:r]))\n",
    "print('Classical relative approximation error = ', np.linalg.norm(s[r:]) / np.linalg.norm(s))\n",
    "print('Randomized straight-forward error = ', np.linalg.norm(Ma - (Ur @ np.diag(sr) @ Vr)) / np.linalg.norm(s))\n",
    "print(\"Initial storage\", M * N, \" memory cells \")\n",
    "print(\" Compressed storage \", (1 + M + N) * r, \" memory cells \")"
   ]
  },
  {
   "cell_type": "code",
   "execution_count": 14,
   "id": "70d4fc7d",
   "metadata": {},
   "outputs": [
    {
     "data": {
      "text/plain": [
       "'\\nMaybe some time later\\n\\neps = 1e-6\\ndef cross_method(m, n, A):\\n    I = list(range(m))\\n    J = list(range(m))\\n    r = 0\\n    \\n    def norm_update(U, V, u, v):\\n        \\n    \\n    while true:\\n        r += 1\\n        i = \\n        \\n        if abs((A - U @ V)[i, j]) * np.sqrt( (m - r) * (n - r) ) < eps * \\n        \\n        I.pop(i)\\n        J.pop(j)\\n        \\n        \\n    return U, V, r\\n    \\n'"
      ]
     },
     "execution_count": 14,
     "metadata": {},
     "output_type": "execute_result"
    }
   ],
   "source": [
    "\"\"\"\n",
    "Maybe some time later\n",
    "\n",
    "eps = 1e-6\n",
    "def cross_method(m, n, A):\n",
    "    I = list(range(m))\n",
    "    J = list(range(m))\n",
    "    r = 0\n",
    "    \n",
    "    def norm_update(U, V, u, v):\n",
    "        \n",
    "    \n",
    "    while true:\n",
    "        r += 1\n",
    "        i = \n",
    "        \n",
    "        if abs((A - U @ V)[i, j]) * np.sqrt( (m - r) * (n - r) ) < eps * \n",
    "        \n",
    "        I.pop(i)\n",
    "        J.pop(j)\n",
    "        \n",
    "        \n",
    "    return U, V, r\n",
    "    \n",
    "\"\"\""
   ]
  },
  {
   "cell_type": "markdown",
   "id": "e0d66bca",
   "metadata": {},
   "source": [
    "## Tensor decomposition"
   ]
  },
  {
   "cell_type": "markdown",
   "id": "157c6518",
   "metadata": {},
   "source": [
    "### CP format"
   ]
  },
  {
   "cell_type": "code",
   "execution_count": 15,
   "id": "2a410ef8",
   "metadata": {},
   "outputs": [],
   "source": [
    "nsteps = 10\n",
    "\n",
    "def ALS(A, R):\n",
    "    \"\"\"CP decomposition ALS \n",
    "       for Alternative least squares for order three matrix \n",
    "       (requires know absolute rank R)\n",
    "    \"\"\"\n",
    "    \n",
    "    U = np.random.rand(R, A.shape[0])\n",
    "    V = np.random.rand(R, A.shape[1])\n",
    "    W = np.random.rand(R, A.shape[2])\n",
    "    \n",
    "        "
   ]
  },
  {
   "cell_type": "code",
   "execution_count": null,
   "id": "6af8a629-88e5-4f34-8ea2-b6b1d02c7cdd",
   "metadata": {},
   "outputs": [],
   "source": []
  },
  {
   "cell_type": "code",
   "execution_count": 16,
   "id": "abd61f58",
   "metadata": {},
   "outputs": [],
   "source": [
    "U = np.random.rand(10, 5)\n",
    "V = np.random.rand(13, 5)\n",
    "\n"
   ]
  },
  {
   "cell_type": "code",
   "execution_count": 17,
   "id": "8021b7dc-fe28-4956-b010-9da7dd420a1c",
   "metadata": {},
   "outputs": [
    {
     "data": {
      "text/plain": [
       "array([[[0.17898445, 0.35603626, 0.32417347, 0.09498038, 0.35687551],\n",
       "        [0.24653197, 0.03539818, 0.36489622, 0.62497803, 0.60480188],\n",
       "        [0.20509169, 0.34044761, 0.01330532, 0.37426409, 0.37590713],\n",
       "        [0.24683506, 0.27208076, 0.49189271, 0.14727772, 0.30068477],\n",
       "        [0.09706592, 0.36214853, 0.21211056, 0.20395209, 0.58882651],\n",
       "        [0.24009713, 0.39933763, 0.3626903 , 0.47351338, 0.02662388],\n",
       "        [0.10203725, 0.2141975 , 0.44396641, 0.66432832, 0.58759213],\n",
       "        [0.26981719, 0.00551885, 0.31058451, 0.26767848, 0.17689396],\n",
       "        [0.11648662, 0.2728854 , 0.05454563, 0.16822118, 0.49108013],\n",
       "        [0.2056128 , 0.27820305, 0.03191428, 0.63898606, 0.5439507 ],\n",
       "        [0.01014977, 0.40213752, 0.38487641, 0.29896374, 0.12498664],\n",
       "        [0.27494319, 0.43104331, 0.24622508, 0.2552793 , 0.27541689],\n",
       "        [0.16271498, 0.26709861, 0.42255281, 0.1005311 , 0.28647291]],\n",
       "\n",
       "       [[0.41687737, 0.37006757, 0.62606558, 0.00280467, 0.05924722],\n",
       "        [0.57420408, 0.03679321, 0.70471208, 0.01845492, 0.10040708],\n",
       "        [0.47768442, 0.35386457, 0.02569613, 0.01105161, 0.06240678],\n",
       "        [0.57491001, 0.2828034 , 0.94997624, 0.00434895, 0.04991863],\n",
       "        [0.22607879, 0.37642072, 0.40964217, 0.00602248, 0.0977549 ],\n",
       "        [0.55921652, 0.41507544, 0.70045187, 0.01398234, 0.00442   ],\n",
       "        [0.23765762, 0.22263898, 0.85741774, 0.0196169 , 0.09754998],\n",
       "        [0.6284383 , 0.00573635, 0.59982166, 0.00790426, 0.02936731],\n",
       "        [0.27131204, 0.28363975, 0.10534218, 0.00496739, 0.08152739],\n",
       "        [0.47889818, 0.28916697, 0.061635  , 0.01886857, 0.09030478],\n",
       "        [0.02364009, 0.41798567, 0.74329918, 0.00882808, 0.02074984],\n",
       "        [0.64037739, 0.44803063, 0.47552641, 0.00753812, 0.04572374],\n",
       "        [0.37898374, 0.27762491, 0.81606237, 0.00296857, 0.04755922]],\n",
       "\n",
       "       [[0.47730907, 0.24601977, 0.45306507, 0.10313466, 0.37279528],\n",
       "        [0.65744228, 0.02446002, 0.50997921, 0.67863379, 0.63178133],\n",
       "        [0.54693087, 0.23524807, 0.01859553, 0.40639551, 0.39267587],\n",
       "        [0.65825055, 0.18800682, 0.6874696 , 0.15992184, 0.31409794],\n",
       "        [0.25885179, 0.25024333, 0.29644587, 0.22146183, 0.61509332],\n",
       "        [0.64028209, 0.27594086, 0.50689622, 0.51416557, 0.02781154],\n",
       "        [0.27210913, 0.1480097 , 0.62048776, 0.72136239, 0.61380388],\n",
       "        [0.71953845, 0.0038135 , 0.43407313, 0.29065928, 0.18478498],\n",
       "        [0.31064218, 0.18856283, 0.076233  , 0.18266334, 0.5129866 ],\n",
       "        [0.54832057, 0.19223731, 0.04460342, 0.69384444, 0.56821566],\n",
       "        [0.02706702, 0.27787558, 0.53790354, 0.32463045, 0.13056214],\n",
       "        [0.73320826, 0.29784938, 0.34412435, 0.2771956 , 0.28770289],\n",
       "        [0.43392226, 0.18456418, 0.59056011, 0.10916192, 0.29925211]],\n",
       "\n",
       "       [[0.02515471, 0.45362118, 0.15353041, 0.1092244 , 0.4178101 ],\n",
       "        [0.03464792, 0.04510036, 0.17281693, 0.71870473, 0.70806858],\n",
       "        [0.02882385, 0.43375988, 0.00630148, 0.43039173, 0.44009127],\n",
       "        [0.03469052, 0.34665456, 0.2329632 , 0.16936466, 0.35202509],\n",
       "        [0.01364177, 0.46140874, 0.10045677, 0.23453838, 0.6893655 ],\n",
       "        [0.03374356, 0.50879089, 0.1717722 , 0.54452524, 0.03116977],\n",
       "        [0.01434045, 0.27290626, 0.21026502, 0.7639563 , 0.68792035],\n",
       "        [0.03792046, 0.00703149, 0.1470946 , 0.30782169, 0.20709766],\n",
       "        [0.01637118, 0.34767975, 0.02583312, 0.19344897, 0.57492945],\n",
       "        [0.02889709, 0.3544549 , 0.01511478, 0.73481352, 0.63682739],\n",
       "        [0.00142646, 0.5123582 , 0.18227967, 0.34379874, 0.14632744],\n",
       "        [0.03864087, 0.54918669, 0.1166136 , 0.29356303, 0.32244286],\n",
       "        [0.02286818, 0.34030687, 0.20012342, 0.11560755, 0.33538664]],\n",
       "\n",
       "       [[0.18048853, 0.38607404, 0.47377831, 0.11262548, 0.20361274],\n",
       "        [0.24860368, 0.03838463, 0.53329444, 0.74108408, 0.34506534],\n",
       "        [0.20681515, 0.36917022, 0.01944568, 0.44379346, 0.21447109],\n",
       "        [0.24890931, 0.29503545, 0.71889934, 0.17463841, 0.17155352],\n",
       "        [0.09788161, 0.39270199, 0.30999879, 0.24184153, 0.3359507 ],\n",
       "        [0.24211476, 0.43302863, 0.5300705 , 0.5614809 , 0.01519006],\n",
       "        [0.1028947 , 0.23226875, 0.64885522, 0.78774471, 0.33524644],\n",
       "        [0.27208457, 0.00598446, 0.45391809, 0.31740677, 0.10092557],\n",
       "        [0.1174655 , 0.29590798, 0.07971823, 0.19947267, 0.28018222],\n",
       "        [0.20734065, 0.30167426, 0.0466426 , 0.75769446, 0.31034714],\n",
       "        [0.01023506, 0.43606474, 0.56249542, 0.35450409, 0.07131022],\n",
       "        [0.27725364, 0.46740923, 0.35985702, 0.30270412, 0.15713712],\n",
       "        [0.16408234, 0.28963297, 0.61755934, 0.11920739, 0.16344505]],\n",
       "\n",
       "       [[0.23324717, 0.30796358, 0.62230152, 0.00874354, 0.16123359],\n",
       "        [0.32127307, 0.03061865, 0.70047517, 0.05753315, 0.2732448 ],\n",
       "        [0.26726934, 0.29447974, 0.02554164, 0.03445336, 0.16983193],\n",
       "        [0.32166805, 0.23534391, 0.94426474, 0.01355784, 0.13584705],\n",
       "        [0.1264934 , 0.31325056, 0.40717929, 0.01877507, 0.26602725],\n",
       "        [0.31288738, 0.34541832, 0.69624057, 0.04358988, 0.01202846],\n",
       "        [0.13297188, 0.18527616, 0.85226272, 0.0611556 , 0.26546957],\n",
       "        [0.35161768, 0.00477368, 0.59621538, 0.02464149, 0.07991932],\n",
       "        [0.15180187, 0.2360399 , 0.10470883, 0.01548582, 0.2218662 ],\n",
       "        [0.26794844, 0.24063955, 0.06126443, 0.05882268, 0.24575271],\n",
       "        [0.01322687, 0.34784017, 0.73883027, 0.02752149, 0.05646799],\n",
       "        [0.35829772, 0.37284304, 0.47266743, 0.02350006, 0.12443122],\n",
       "        [0.21204529, 0.23103446, 0.81115599, 0.00925452, 0.12942624]],\n",
       "\n",
       "       [[0.06377433, 0.37944317, 0.2111556 , 0.11135287, 0.36290636],\n",
       "        [0.08784233, 0.03772536, 0.23768101, 0.73271019, 0.61502244],\n",
       "        [0.07307665, 0.36282968, 0.00866663, 0.43877881, 0.38225959],\n",
       "        [0.08795032, 0.28996818, 0.32040221, 0.17266508, 0.30576605],\n",
       "        [0.03458576, 0.38595728, 0.13816162, 0.23910884, 0.5987771 ],\n",
       "        [0.08554952, 0.42559131, 0.23624415, 0.55513644, 0.0270738 ],\n",
       "        [0.03635711, 0.2282795 , 0.28918464, 0.77884358, 0.59752186],\n",
       "        [0.09613914, 0.00588167, 0.20230421, 0.31382023, 0.1798833 ],\n",
       "        [0.04150559, 0.29082572, 0.03552917, 0.19721873, 0.49937891],\n",
       "        [0.07326233, 0.29649297, 0.02078788, 0.74913289, 0.55314294],\n",
       "        [0.00361648, 0.42857527, 0.25069543, 0.35049837, 0.12709879],\n",
       "        [0.09796559, 0.45938142, 0.16038266, 0.29928371, 0.28007117],\n",
       "        [0.05797732, 0.28465849, 0.27523656, 0.1178604 , 0.29131402]],\n",
       "\n",
       "       [[0.10769617, 0.69508689, 0.17991454, 0.11802342, 0.37383602],\n",
       "        [0.14833998, 0.0691076 , 0.20251544, 0.77660295, 0.63354509],\n",
       "        [0.12340507, 0.66465329, 0.00738438, 0.46506371, 0.39377211],\n",
       "        [0.14852235, 0.53118121, 0.27299782, 0.18300853, 0.31497482],\n",
       "        [0.05840523, 0.70701984, 0.11772023, 0.25343258, 0.61681049],\n",
       "        [0.14446809, 0.77962384, 0.20129117, 0.58839171, 0.02788918],\n",
       "        [0.06139651, 0.41817616, 0.24639897, 0.82549995, 0.61551744],\n",
       "        [0.16235086, 0.01077441, 0.17237274, 0.33261953, 0.18530085],\n",
       "        [0.0700908 , 0.5327521 , 0.03027253, 0.20903305, 0.51441872],\n",
       "        [0.12371863, 0.54313371, 0.01771225, 0.79400945, 0.56980196],\n",
       "        [0.00610718, 0.78509005, 0.21360434, 0.37149486, 0.13092663],\n",
       "        [0.1654352 , 0.8415226 , 0.1366536 , 0.31721221, 0.28850608],\n",
       "        [0.09790672, 0.5214546 , 0.23451454, 0.12492079, 0.30008754]],\n",
       "\n",
       "       [[0.26437339, 0.4704118 , 0.6267527 , 0.04072327, 0.34390465],\n",
       "        [0.36414613, 0.04676974, 0.70548552, 0.26796217, 0.58281999],\n",
       "        [0.30293573, 0.44981534, 0.02572433, 0.16046743, 0.36224456],\n",
       "        [0.36459381, 0.35948585, 0.95101886, 0.06314599, 0.2897562 ],\n",
       "        [0.14337362, 0.47848762, 0.41009176, 0.08744539, 0.56742525],\n",
       "        [0.35464139, 0.5276236 , 0.70122062, 0.20302102, 0.02565622],\n",
       "        [0.15071663, 0.28300778, 0.85835877, 0.28483379, 0.56623574],\n",
       "        [0.39854014, 0.00729176, 0.60047998, 0.11476837, 0.17046464],\n",
       "        [0.17205943, 0.36054899, 0.10545779, 0.0721256 , 0.47323153],\n",
       "        [0.30370546, 0.36757491, 0.06170264, 0.27396818, 0.52418049],\n",
       "        [0.01499196, 0.53132295, 0.74411496, 0.12818207, 0.12044392],\n",
       "        [0.40611162, 0.56951463, 0.47604831, 0.10945216, 0.2654067 ],\n",
       "        [0.24034218, 0.35290321, 0.81695801, 0.04310317, 0.27606088]],\n",
       "\n",
       "       [[0.45376756, 0.66166638, 0.31707236, 0.06377261, 0.42142535],\n",
       "        [0.62501637, 0.06578483, 0.35690306, 0.41962852, 0.71419539],\n",
       "        [0.51995553, 0.63269606, 0.01301386, 0.25129185, 0.44389931],\n",
       "        [0.62578477, 0.50564145, 0.48111766, 0.09888656, 0.35507112],\n",
       "        [0.24608488, 0.67302557, 0.20746422, 0.1369394 , 0.69533048],\n",
       "        [0.60870254, 0.7421387 , 0.35474546, 0.31793073, 0.03143948],\n",
       "        [0.25868835, 0.39806981, 0.43424119, 0.44604945, 0.69387283],\n",
       "        [0.68404987, 0.01025636, 0.30378107, 0.17972716, 0.20888965],\n",
       "        [0.2953209 , 0.50713682, 0.05335079, 0.11294862, 0.57990423],\n",
       "        [0.52127669, 0.51701926, 0.03121519, 0.42903392, 0.64233777],\n",
       "        [0.02573204, 0.74734209, 0.37644558, 0.200733  , 0.14759359],\n",
       "        [0.69704547, 0.8010613 , 0.24083145, 0.17140199, 0.32523291],\n",
       "        [0.41252065, 0.49638251, 0.41329667, 0.06749952, 0.33828869]]])"
      ]
     },
     "execution_count": 17,
     "metadata": {},
     "output_type": "execute_result"
    }
   ],
   "source": [
    "np.einsum('ja,ka->jka', , V)"
   ]
  },
  {
   "cell_type": "code",
   "execution_count": null,
   "id": "c4695d59-c3cc-432e-868d-b9d550600357",
   "metadata": {},
   "outputs": [],
   "source": []
  }
 ],
 "metadata": {
  "kernelspec": {
   "display_name": "torch_gcnn",
   "language": "python",
   "name": "torch_gcnn"
  },
  "language_info": {
   "codemirror_mode": {
    "name": "ipython",
    "version": 3
   },
   "file_extension": ".py",
   "mimetype": "text/x-python",
   "name": "python",
   "nbconvert_exporter": "python",
   "pygments_lexer": "ipython3",
   "version": "3.9.20"
  }
 },
 "nbformat": 4,
 "nbformat_minor": 5
}
