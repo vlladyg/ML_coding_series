{
 "cells": [
  {
   "cell_type": "code",
   "execution_count": 1,
   "id": "5eb8ee71",
   "metadata": {},
   "outputs": [],
   "source": [
    "import numpy as np\n",
    "from sklearn.utils.extmath import randomized_svd as rsvd\n",
    "from matplotlib import pyplot as plt\n",
    "import time"
   ]
  },
  {
   "cell_type": "markdown",
   "id": "d919aae2",
   "metadata": {},
   "source": [
    "## SVD"
   ]
  },
  {
   "cell_type": "code",
   "execution_count": 2,
   "id": "7e75948b",
   "metadata": {},
   "outputs": [],
   "source": [
    "# Hilbert matrix\n",
    "def A(i, j):\n",
    "    return 1.0/(i + j + 1)"
   ]
  },
  {
   "cell_type": "code",
   "execution_count": 3,
   "id": "2d65949b",
   "metadata": {},
   "outputs": [],
   "source": [
    "M = 1500; N = 1024 # number of rows and columns\n",
    "x = np.linspace(1, N, N) # grid for drawings\n",
    "r = 20 # target rank\n",
    "# fill the matrix Ma\n",
    "Ma = np.fromfunction(A, [M, N])"
   ]
  },
  {
   "cell_type": "code",
   "execution_count": 4,
   "id": "17fe5983",
   "metadata": {},
   "outputs": [
    {
     "name": "stdout",
     "output_type": "stream",
     "text": [
      "Classical  0.2247931957244873  sec\n",
      "Randomized  0.40902066230773926  sec\n"
     ]
    }
   ],
   "source": [
    "# Estimate the time, does not save the data\n",
    "start = time.time()\n",
    "U, s, V = np.linalg.svd(Ma)\n",
    "# Truncation of SVD\n",
    "Ut = U[:, :r] # m \\times r\n",
    "st = s[:r] # r\n",
    "Vt = V[:r, :] # r \\times n\n",
    "np.linalg.norm(Ma - Ut @ np.diag(st) @ Vt)\n",
    "print(\"Classical \", time.time() - start, \" sec\")\n",
    "start = time.time()\n",
    "Ur, sr, Vr = rsvd(Ma, n_components = r, random_state = np.random.randint(1))\n",
    "print(\"Randomized \", time.time() - start, \" sec\")"
   ]
  },
  {
   "cell_type": "code",
   "execution_count": 5,
   "id": "bc5f7270",
   "metadata": {},
   "outputs": [
    {
     "name": "stdout",
     "output_type": "stream",
     "text": [
      "Relative error of sigmas= 7.921972539071859e-16\n",
      "Classical relative approximation error =  3.322653783517555e-11\n",
      "Randomized straight-forward error =  3.3226596858840554e-11\n",
      "Initial storage 1536000  memory cells \n",
      " Compressed storage  50500  memory cells \n"
     ]
    },
    {
     "data": {
      "image/png": "[encoded data removed]",
      "text/plain": [
       "<Figure size 640x480 with 1 Axes>"
      ]
     },
     "metadata": {},
     "output_type": "display_data"
    }
   ],
   "source": [
    "# Check the error for singular values\n",
    "plt.title(\"Comparison of classical and randomized\")\n",
    "plt.plot(x, s / s[0], 'bo', markersize = 10, label = 'classical')\n",
    "plt.plot(x[:r], sr/s[0], 'ro', markersize = 5, label = 'randomized')\n",
    "plt.ylabel('Singular values')\n",
    "plt.xlabel('k')\n",
    "plt.xlim(1, r)\n",
    "plt.legend()\n",
    "plt.yscale('log')\n",
    "print('Relative error of sigmas=', np.linalg.norm(s[:r] - sr) / np.linalg.norm(s[:r]))\n",
    "print('Classical relative approximation error = ', np.linalg.norm(s[r:]) / np.linalg.norm(s))\n",
    "print('Randomized straight-forward error = ', np.linalg.norm(Ma - (Ur @ np.diag(sr) @ Vr)) / np.linalg.norm(s))\n",
    "print(\"Initial storage\", M * N, \" memory cells \")\n",
    "print(\" Compressed storage \", (1 + M + N) * r, \" memory cells \")"
   ]
  },
  {
   "cell_type": "code",
   "execution_count": 6,
   "id": "70d4fc7d",
   "metadata": {},
   "outputs": [
    {
     "data": {
      "text/plain": [
       "'\\nMaybe some time later\\n\\neps = 1e-6\\ndef cross_method(m, n, A):\\n    I = list(range(m))\\n    J = list(range(m))\\n    r = 0\\n    \\n    def norm_update(U, V, u, v):\\n        \\n    \\n    while true:\\n        r += 1\\n        i = \\n        \\n        if abs((A - U @ V)[i, j]) * np.sqrt( (m - r) * (n - r) ) < eps * \\n        \\n        I.pop(i)\\n        J.pop(j)\\n        \\n        \\n    return U, V, r\\n    \\n'"
      ]
     },
     "execution_count": 6,
     "metadata": {},
     "output_type": "execute_result"
    }
   ],
   "source": [
    "\"\"\"\n",
    "Maybe some time later\n",
    "\n",
    "eps = 1e-6\n",
    "def cross_method(m, n, A):\n",
    "    I = list(range(m))\n",
    "    J = list(range(m))\n",
    "    r = 0\n",
    "    \n",
    "    def norm_update(U, V, u, v):\n",
    "        \n",
    "    \n",
    "    while true:\n",
    "        r += 1\n",
    "        i = \n",
    "        \n",
    "        if abs((A - U @ V)[i, j]) * np.sqrt( (m - r) * (n - r) ) < eps * \n",
    "        \n",
    "        I.pop(i)\n",
    "        J.pop(j)\n",
    "        \n",
    "        \n",
    "    return U, V, r\n",
    "    \n",
    "\"\"\""
   ]
  },
  {
   "cell_type": "markdown",
   "id": "e0d66bca",
   "metadata": {},
   "source": [
    "## Tensor decomposition"
   ]
  },
  {
   "cell_type": "markdown",
   "id": "157c6518",
   "metadata": {},
   "source": [
    "### CP format"
   ]
  },
  {
   "cell_type": "code",
   "execution_count": 7,
   "id": "2a410ef8",
   "metadata": {},
   "outputs": [],
   "source": [
    "nsteps = 10\n",
    "\n",
    "def ALS(A, R):\n",
    "    \"\"\"CP decomposition ALS \n",
    "       for Alternative least squares for order three tensor\n",
    "       (requires know absolute rank R)\n",
    "    \"\"\"\n",
    "    \n",
    "    U = np.random.rand(R, A.shape[0])\n",
    "    V = np.random.rand(R, A.shape[1])\n",
    "    W = np.random.rand(R, A.shape[2])\n",
    "    \n",
    "        "
   ]
  },
  {
   "cell_type": "code",
   "execution_count": null,
   "id": "6af8a629-88e5-4f34-8ea2-b6b1d02c7cdd",
   "metadata": {},
   "outputs": [],
   "source": []
  },
  {
   "cell_type": "code",
   "execution_count": 11,
   "id": "abd61f58",
   "metadata": {},
   "outputs": [
    {
     "data": {
      "text/plain": [
       "(10, 13, 5)"
      ]
     },
     "execution_count": 11,
     "metadata": {},
     "output_type": "execute_result"
    }
   ],
   "source": [
    "U = np.random.rand(10, 5)\n",
    "V = np.random.rand(13, 5)\n",
    "\n",
    "np.einsum('ja,ka->jka', U, V).shape"
   ]
  },
  {
   "cell_type": "code",
   "execution_count": 123,
   "id": "11047e93-893d-4812-a932-ef2c66e6b508",
   "metadata": {},
   "outputs": [],
   "source": [
    "import numpy as np\n",
    "\n",
    "\n",
    "def ALS(R, rank, num_iter = 20, lam = 0.01):\n",
    "    \"\"\"CP decomposition ALS \n",
    "       for Alternative least squares for order two tensor (matrix) \n",
    "       (requires know absolute rank rank)\n",
    "    \"\"\"\n",
    "\n",
    "    global lr_curve\n",
    "\n",
    "    lr_curve = []\n",
    "    \n",
    "    n = R.shape[0]\n",
    "    m = R.shape[1]\n",
    "    \n",
    "    U = np.random.rand(rank, n)\n",
    "    V = np.random.rand(rank, m)\n",
    "\n",
    "\n",
    "    for iter in range(num_iter):\n",
    "        for u in range(n):\n",
    "            U[:, u] = np.linalg.solve(V @ V.T + lam*np.eye(rank, rank),\n",
    "                                      V @ R[u, :])\n",
    "    \n",
    "        \n",
    "        for i in range(m):\n",
    "            \n",
    "            \n",
    "            #V[:, i] = np.linalg.solve(sum([U[:, u][:, None] @ U[:, u][None, :] for u in range(n)]) + lam*np.eye(rank, rank), U @ R[:, i])\n",
    "            V[:, i] = np.linalg.solve(U @ U.T + lam*np.eye(rank, rank), U @ R[:, i])\n",
    "\n",
    "        \n",
    "        lr_curve.append(((R - U.T @ V)**2).sum())\n",
    "    \n",
    "    return U, V\n",
    "        "
   ]
  },
  {
   "cell_type": "code",
   "execution_count": 122,
   "id": "091176cd-c0f9-4b47-a6f4-7174a9bbffdf",
   "metadata": {},
   "outputs": [
    {
     "ename": "ValueError",
     "evalue": "operands could not be broadcast together with shapes (5,5) (2,2) ",
     "output_type": "error",
     "traceback": [
      "\u001b[0;31m---------------------------------------------------------------------------\u001b[0m",
      "\u001b[0;31mValueError\u001b[0m                                Traceback (most recent call last)",
      "Cell \u001b[0;32mIn[122], line 13\u001b[0m\n\u001b[1;32m      4\u001b[0m R \u001b[38;5;241m=\u001b[39m np\u001b[38;5;241m.\u001b[39marray([\n\u001b[1;32m      5\u001b[0m     [\u001b[38;5;241m5\u001b[39m, \u001b[38;5;241m3\u001b[39m, \u001b[38;5;241m0\u001b[39m, \u001b[38;5;241m1\u001b[39m],\n\u001b[1;32m      6\u001b[0m     [\u001b[38;5;241m4\u001b[39m, \u001b[38;5;241m0\u001b[39m, \u001b[38;5;241m0\u001b[39m, \u001b[38;5;241m1\u001b[39m],\n\u001b[0;32m   (...)\u001b[0m\n\u001b[1;32m      9\u001b[0m     [\u001b[38;5;241m0\u001b[39m, \u001b[38;5;241m1\u001b[39m, \u001b[38;5;241m5\u001b[39m, \u001b[38;5;241m4\u001b[39m],\n\u001b[1;32m     10\u001b[0m ])\n\u001b[1;32m     12\u001b[0m \u001b[38;5;66;03m# Run ALS\u001b[39;00m\n\u001b[0;32m---> 13\u001b[0m U, V \u001b[38;5;241m=\u001b[39m \u001b[43mALS\u001b[49m\u001b[43m(\u001b[49m\u001b[43mR\u001b[49m\u001b[43m,\u001b[49m\u001b[43m \u001b[49m\u001b[43mrank\u001b[49m\u001b[38;5;241;43m=\u001b[39;49m\u001b[38;5;241;43m2\u001b[39;49m\u001b[43m,\u001b[49m\u001b[43m \u001b[49m\u001b[43mnum_iter\u001b[49m\u001b[38;5;241;43m=\u001b[39;49m\u001b[38;5;241;43m1000\u001b[39;49m\u001b[43m,\u001b[49m\u001b[43m \u001b[49m\u001b[43mlam\u001b[49m\u001b[38;5;241;43m=\u001b[39;49m\u001b[38;5;241;43m0.01\u001b[39;49m\u001b[43m)\u001b[49m\n\u001b[1;32m     14\u001b[0m \u001b[38;5;28mprint\u001b[39m(U\u001b[38;5;241m.\u001b[39mshape, V\u001b[38;5;241m.\u001b[39mshape)\n\u001b[1;32m     15\u001b[0m predicted_R \u001b[38;5;241m=\u001b[39m U\u001b[38;5;241m.\u001b[39mT \u001b[38;5;241m@\u001b[39m V\n",
      "Cell \u001b[0;32mIn[121], line 31\u001b[0m, in \u001b[0;36mALS\u001b[0;34m(R, rank, num_iter, lam)\u001b[0m\n\u001b[1;32m     23\u001b[0m         U[:, u] \u001b[38;5;241m=\u001b[39m np\u001b[38;5;241m.\u001b[39mlinalg\u001b[38;5;241m.\u001b[39msolve(V \u001b[38;5;241m@\u001b[39m V\u001b[38;5;241m.\u001b[39mT \u001b[38;5;241m+\u001b[39m lam\u001b[38;5;241m*\u001b[39mnp\u001b[38;5;241m.\u001b[39meye(rank, rank),\n\u001b[1;32m     24\u001b[0m                                   V \u001b[38;5;241m@\u001b[39m R[u, :])\n\u001b[1;32m     27\u001b[0m     \u001b[38;5;28;01mfor\u001b[39;00m i \u001b[38;5;129;01min\u001b[39;00m \u001b[38;5;28mrange\u001b[39m(m):\n\u001b[1;32m     28\u001b[0m         \n\u001b[1;32m     29\u001b[0m         \n\u001b[1;32m     30\u001b[0m         \u001b[38;5;66;03m#V[:, i] = np.linalg.solve(sum([U[:, u][:, None] @ U[:, u][None, :] for u in range(n)]) + lam*np.eye(rank, rank), U @ R[:, i])\u001b[39;00m\n\u001b[0;32m---> 31\u001b[0m         V[:, i] \u001b[38;5;241m=\u001b[39m np\u001b[38;5;241m.\u001b[39mlinalg\u001b[38;5;241m.\u001b[39msolve(\u001b[43mU\u001b[49m\u001b[38;5;241;43m.\u001b[39;49m\u001b[43mT\u001b[49m\u001b[43m \u001b[49m\u001b[38;5;241;43m@\u001b[39;49m\u001b[43m \u001b[49m\u001b[43mU\u001b[49m\u001b[43m \u001b[49m\u001b[38;5;241;43m+\u001b[39;49m\u001b[43m \u001b[49m\u001b[43mlam\u001b[49m\u001b[38;5;241;43m*\u001b[39;49m\u001b[43mnp\u001b[49m\u001b[38;5;241;43m.\u001b[39;49m\u001b[43meye\u001b[49m\u001b[43m(\u001b[49m\u001b[43mrank\u001b[49m\u001b[43m,\u001b[49m\u001b[43m \u001b[49m\u001b[43mrank\u001b[49m\u001b[43m)\u001b[49m, U \u001b[38;5;241m@\u001b[39m R[:, i])\n\u001b[1;32m     34\u001b[0m     lr_curve\u001b[38;5;241m.\u001b[39mappend(((R \u001b[38;5;241m-\u001b[39m U\u001b[38;5;241m.\u001b[39mT \u001b[38;5;241m@\u001b[39m V)\u001b[38;5;241m*\u001b[39m\u001b[38;5;241m*\u001b[39m\u001b[38;5;241m2\u001b[39m)\u001b[38;5;241m.\u001b[39msum())\n\u001b[1;32m     36\u001b[0m \u001b[38;5;28;01mreturn\u001b[39;00m U, V\n",
      "\u001b[0;31mValueError\u001b[0m: operands could not be broadcast together with shapes (5,5) (2,2) "
     ]
    }
   ],
   "source": [
    "np.random.seed(32)\n",
    "\n",
    "# Sample data\n",
    "R = np.array([\n",
    "    [5, 3, 0, 1],\n",
    "    [4, 0, 0, 1],\n",
    "    [1, 1, 0, 5],\n",
    "    [1, 0, 0, 4],\n",
    "    [0, 1, 5, 4],\n",
    "])\n",
    "\n",
    "# Run ALS\n",
    "U, V = ALS(R, rank=2, num_iter=1000, lam=0.01)\n",
    "print(U.shape, V.shape)\n",
    "predicted_R = U.T @ V\n",
    "print(\"Predicted Ratings Matrix:\")\n",
    "print(((predicted_R - R)**2).sum())"
   ]
  },
  {
   "cell_type": "code",
   "execution_count": 114,
   "id": "182be736-664a-4050-a2e0-a8c1bace3ed3",
   "metadata": {},
   "outputs": [
    {
     "data": {
      "text/plain": [
       "[<matplotlib.lines.Line2D at 0x79254133ae50>]"
      ]
     },
     "execution_count": 114,
     "metadata": {},
     "output_type": "execute_result"
    },
    {
     "data": {
      "image/png": "[encoded data removed]",
      "text/plain": [
       "<Figure size 640x480 with 1 Axes>"
      ]
     },
     "metadata": {},
     "output_type": "display_data"
    }
   ],
   "source": [
    "plt.plot(lr_curve)"
   ]
  },
  {
   "cell_type": "code",
   "execution_count": null,
   "id": "1a7b6d38-2c4a-46aa-8dee-fe0e7c6152cc",
   "metadata": {},
   "outputs": [],
   "source": []
  }
 ],
 "metadata": {
  "kernelspec": {
   "display_name": "torch_gcnn",
   "language": "python",
   "name": "torch_gcnn"
  },
  "language_info": {
   "codemirror_mode": {
    "name": "ipython",
    "version": 3
   },
   "file_extension": ".py",
   "mimetype": "text/x-python",
   "name": "python",
   "nbconvert_exporter": "python",
   "pygments_lexer": "ipython3",
   "version": "3.9.20"
  }
 },
 "nbformat": 4,
 "nbformat_minor": 5
}
