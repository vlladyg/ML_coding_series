{
 "cells": [
  {
   "cell_type": "code",
   "execution_count": 2,
   "id": "5eb8ee71",
   "metadata": {},
   "outputs": [],
   "source": [
    "import numpy as np\n",
    "from sklearn.utils.extmath import randomized_svd as rsvd\n",
    "from matplotlib import pyplot as plt\n",
    "import time"
   ]
  },
  {
   "cell_type": "markdown",
   "id": "d919aae2",
   "metadata": {},
   "source": [
    "## SVD"
   ]
  },
  {
   "cell_type": "code",
   "execution_count": 3,
   "id": "7e75948b",
   "metadata": {},
   "outputs": [],
   "source": [
    "# Hilbert matrix\n",
    "def A(i, j):\n",
    "    return 1.0/(i + j + 1)"
   ]
  },
  {
   "cell_type": "code",
   "execution_count": 4,
   "id": "2d65949b",
   "metadata": {},
   "outputs": [],
   "source": [
    "M = 1500; N = 1024 # number of rows and columns\n",
    "x = np.linspace(1, N, N) # grid for drawings\n",
    "r = 20 # target rank\n",
    "# fill the matrix Ma\n",
    "Ma = np.fromfunction(A, [M, N])"
   ]
  },
  {
   "cell_type": "code",
   "execution_count": 5,
   "id": "17fe5983",
   "metadata": {},
   "outputs": [
    {
     "name": "stdout",
     "output_type": "stream",
     "text": [
      "Classical  0.2365562915802002  sec\n",
      "Randomized  0.24429988861083984  sec\n"
     ]
    }
   ],
   "source": [
    "# Estimate the time, does not save the data\n",
    "start = time.time()\n",
    "U, s, V = np.linalg.svd(Ma)\n",
    "# Truncation of SVD\n",
    "Ut = U[:, :r] # m \\times r\n",
    "st = s[:r] # r\n",
    "Vt = V[:r, :] # r \\times n\n",
    "np.linalg.norm(Ma - Ut @ np.diag(st) @ Vt)\n",
    "print(\"Classical \", time.time() - start, \" sec\")\n",
    "start = time.time()\n",
    "Ur, sr, Vr = rsvd(Ma, n_components = r, random_state = np.random.randint(1))\n",
    "print(\"Randomized \", time.time() - start, \" sec\")"
   ]
  },
  {
   "cell_type": "code",
   "execution_count": 6,
   "id": "bc5f7270",
   "metadata": {},
   "outputs": [
    {
     "name": "stdout",
     "output_type": "stream",
     "text": [
      "Relative error of sigmas= 7.921972539071859e-16\n",
      "Classical relative approximation error =  3.322653783517555e-11\n",
      "Randomized straight-forward error =  3.3226596858840554e-11\n",
      "Initial storage 1536000  memory cells \n",
      " Compressed storage  50500  memory cells \n"
     ]
    },
    {
     "data": {
      "image/png": "[encoded data removed]",
      "text/plain": [
       "<Figure size 640x480 with 1 Axes>"
      ]
     },
     "metadata": {},
     "output_type": "display_data"
    }
   ],
   "source": [
    "# Check the error for singular values\n",
    "plt.title(\"Comparison of classical and randomized\")\n",
    "plt.plot(x, s / s[0], 'bo', markersize = 10, label = 'classical')\n",
    "plt.plot(x[:r], sr/s[0], 'ro', markersize = 5, label = 'randomized')\n",
    "plt.ylabel('Singular values')\n",
    "plt.xlabel('k')\n",
    "plt.xlim(1, r)\n",
    "plt.legend()\n",
    "plt.yscale('log')\n",
    "print('Relative error of sigmas=', np.linalg.norm(s[:r] - sr) / np.linalg.norm(s[:r]))\n",
    "print('Classical relative approximation error = ', np.linalg.norm(s[r:]) / np.linalg.norm(s))\n",
    "print('Randomized straight-forward error = ', np.linalg.norm(Ma - (Ur @ np.diag(sr) @ Vr)) / np.linalg.norm(s))\n",
    "print(\"Initial storage\", M * N, \" memory cells \")\n",
    "print(\" Compressed storage \", (1 + M + N) * r, \" memory cells \")"
   ]
  },
  {
   "cell_type": "code",
   "execution_count": 7,
   "id": "70d4fc7d",
   "metadata": {},
   "outputs": [
    {
     "data": {
      "text/plain": [
       "'\\nMaybe some time later\\n\\neps = 1e-6\\ndef cross_method(m, n, A):\\n    I = list(range(m))\\n    J = list(range(m))\\n    r = 0\\n    \\n    def norm_update(U, V, u, v):\\n        \\n    \\n    while true:\\n        r += 1\\n        i = \\n        \\n        if abs((A - U @ V)[i, j]) * np.sqrt( (m - r) * (n - r) ) < eps * \\n        \\n        I.pop(i)\\n        J.pop(j)\\n        \\n        \\n    return U, V, r\\n    \\n'"
      ]
     },
     "execution_count": 7,
     "metadata": {},
     "output_type": "execute_result"
    }
   ],
   "source": [
    "\"\"\"\n",
    "Maybe some time later\n",
    "\n",
    "eps = 1e-6\n",
    "def cross_method(m, n, A):\n",
    "    I = list(range(m))\n",
    "    J = list(range(m))\n",
    "    r = 0\n",
    "    \n",
    "    def norm_update(U, V, u, v):\n",
    "        \n",
    "    \n",
    "    while true:\n",
    "        r += 1\n",
    "        i = \n",
    "        \n",
    "        if abs((A - U @ V)[i, j]) * np.sqrt( (m - r) * (n - r) ) < eps * \n",
    "        \n",
    "        I.pop(i)\n",
    "        J.pop(j)\n",
    "        \n",
    "        \n",
    "    return U, V, r\n",
    "    \n",
    "\"\"\""
   ]
  },
  {
   "cell_type": "markdown",
   "id": "e0d66bca",
   "metadata": {},
   "source": [
    "## Tensor decomposition"
   ]
  },
  {
   "cell_type": "markdown",
   "id": "157c6518",
   "metadata": {},
   "source": [
    "### CP format"
   ]
  },
  {
   "cell_type": "code",
   "execution_count": 8,
   "id": "2a410ef8",
   "metadata": {},
   "outputs": [],
   "source": [
    "nsteps = 10\n",
    "\n",
    "def ALS(A, R):\n",
    "    \"\"\"CP decomposition ALS \n",
    "       for Alternative least squares for order three tensor\n",
    "       (requires know absolute rank R)\n",
    "    \"\"\"\n",
    "    \n",
    "    U = np.random.rand(R, A.shape[0])\n",
    "    V = np.random.rand(R, A.shape[1])\n",
    "    W = np.random.rand(R, A.shape[2])\n",
    "    \n",
    "        "
   ]
  },
  {
   "cell_type": "code",
   "execution_count": null,
   "id": "6af8a629-88e5-4f34-8ea2-b6b1d02c7cdd",
   "metadata": {},
   "outputs": [],
   "source": []
  },
  {
   "cell_type": "code",
   "execution_count": 9,
   "id": "abd61f58",
   "metadata": {},
   "outputs": [
    {
     "data": {
      "text/plain": [
       "(10, 13, 5)"
      ]
     },
     "execution_count": 9,
     "metadata": {},
     "output_type": "execute_result"
    }
   ],
   "source": [
    "U = np.random.rand(10, 5)\n",
    "V = np.random.rand(13, 5)\n",
    "\n",
    "np.einsum('ja,ka->jka', U, V).shape"
   ]
  },
  {
   "cell_type": "code",
   "execution_count": 10,
   "id": "11047e93-893d-4812-a932-ef2c66e6b508",
   "metadata": {},
   "outputs": [],
   "source": [
    "import numpy as np\n",
    "\n",
    "\n",
    "def ALS_2D(R, rank, num_iter = 20, lam = 0.01):\n",
    "    \"\"\"CP decomposition ALS \n",
    "       for Alternative least squares for order two tensor (matrix) \n",
    "       (requires know absolute rank rank)\n",
    "    \"\"\"\n",
    "\n",
    "    global lr_curve\n",
    "\n",
    "    lr_curve = []\n",
    "    \n",
    "    n = R.shape[0]\n",
    "    m = R.shape[1]\n",
    "    \n",
    "    U = np.random.rand(rank, n)\n",
    "    V = np.random.rand(rank, m)\n",
    "\n",
    "\n",
    "    for iter in range(num_iter):\n",
    "        for u in range(n):\n",
    "            U[:, u] = np.linalg.solve(V @ V.T + lam*np.eye(rank, rank),\n",
    "                                      V @ R[u, :])\n",
    "    \n",
    "        \n",
    "        for i in range(m):\n",
    "            \n",
    "            \n",
    "            #V[:, i] = np.linalg.solve(sum([U[:, u][:, None] @ U[:, u][None, :] for u in range(n)]) + lam*np.eye(rank, rank), U @ R[:, i])\n",
    "            V[:, i] = np.linalg.solve(U @ U.T + lam*np.eye(rank, rank), U @ R[:, i])\n",
    "\n",
    "        \n",
    "        lr_curve.append(np.linalg.norm(R - U.T @ V))\n",
    "    \n",
    "    return U, V\n",
    "        "
   ]
  },
  {
   "cell_type": "code",
   "execution_count": 11,
   "id": "091176cd-c0f9-4b47-a6f4-7174a9bbffdf",
   "metadata": {},
   "outputs": [
    {
     "ename": "TypeError",
     "evalue": "ALS() got an unexpected keyword argument 'rank'",
     "output_type": "error",
     "traceback": [
      "\u001b[0;31m---------------------------------------------------------------------------\u001b[0m",
      "\u001b[0;31mTypeError\u001b[0m                                 Traceback (most recent call last)",
      "Cell \u001b[0;32mIn[11], line 13\u001b[0m\n\u001b[1;32m      4\u001b[0m R \u001b[38;5;241m=\u001b[39m np\u001b[38;5;241m.\u001b[39marray([\n\u001b[1;32m      5\u001b[0m     [\u001b[38;5;241m5\u001b[39m, \u001b[38;5;241m3\u001b[39m, \u001b[38;5;241m0\u001b[39m, \u001b[38;5;241m1\u001b[39m],\n\u001b[1;32m      6\u001b[0m     [\u001b[38;5;241m4\u001b[39m, \u001b[38;5;241m0\u001b[39m, \u001b[38;5;241m0\u001b[39m, \u001b[38;5;241m1\u001b[39m],\n\u001b[0;32m   (...)\u001b[0m\n\u001b[1;32m      9\u001b[0m     [\u001b[38;5;241m0\u001b[39m, \u001b[38;5;241m1\u001b[39m, \u001b[38;5;241m5\u001b[39m, \u001b[38;5;241m4\u001b[39m],\n\u001b[1;32m     10\u001b[0m ])\n\u001b[1;32m     12\u001b[0m \u001b[38;5;66;03m# Run ALS\u001b[39;00m\n\u001b[0;32m---> 13\u001b[0m U, V \u001b[38;5;241m=\u001b[39m \u001b[43mALS\u001b[49m\u001b[43m(\u001b[49m\u001b[43mR\u001b[49m\u001b[43m,\u001b[49m\u001b[43m \u001b[49m\u001b[43mrank\u001b[49m\u001b[38;5;241;43m=\u001b[39;49m\u001b[38;5;241;43m2\u001b[39;49m\u001b[43m,\u001b[49m\u001b[43m \u001b[49m\u001b[43mnum_iter\u001b[49m\u001b[38;5;241;43m=\u001b[39;49m\u001b[38;5;241;43m1000\u001b[39;49m\u001b[43m,\u001b[49m\u001b[43m \u001b[49m\u001b[43mlam\u001b[49m\u001b[38;5;241;43m=\u001b[39;49m\u001b[38;5;241;43m0.01\u001b[39;49m\u001b[43m)\u001b[49m\n\u001b[1;32m     14\u001b[0m \u001b[38;5;28mprint\u001b[39m(U\u001b[38;5;241m.\u001b[39mshape, V\u001b[38;5;241m.\u001b[39mshape)\n\u001b[1;32m     15\u001b[0m predicted_R \u001b[38;5;241m=\u001b[39m U\u001b[38;5;241m.\u001b[39mT \u001b[38;5;241m@\u001b[39m V\n",
      "\u001b[0;31mTypeError\u001b[0m: ALS() got an unexpected keyword argument 'rank'"
     ]
    }
   ],
   "source": [
    "np.random.seed(32)\n",
    "\n",
    "# Sample data\n",
    "R = np.array([\n",
    "    [5, 3, 0, 1],\n",
    "    [4, 0, 0, 1],\n",
    "    [1, 1, 0, 5],\n",
    "    [1, 0, 0, 4],\n",
    "    [0, 1, 5, 4],\n",
    "])\n",
    "\n",
    "# Run ALS\n",
    "U, V = ALS(R, rank=2, num_iter=1000, lam=0.01)\n",
    "print(U.shape, V.shape)\n",
    "predicted_R = U.T @ V\n",
    "print(\"Predicted Ratings Matrix:\")\n",
    "print(np.linalg.norm(predicted_R - R))"
   ]
  },
  {
   "cell_type": "code",
   "execution_count": null,
   "id": "182be736-664a-4050-a2e0-a8c1bace3ed3",
   "metadata": {},
   "outputs": [],
   "source": [
    "plt.plot(lr_curve)"
   ]
  },
  {
   "cell_type": "markdown",
   "id": "feb85ae4",
   "metadata": {},
   "source": [
    "## Order 3 tensor"
   ]
  },
  {
   "cell_type": "code",
   "execution_count": 12,
   "id": "d36ee0b9",
   "metadata": {},
   "outputs": [
    {
     "name": "stdout",
     "output_type": "stream",
     "text": [
      "Reached max iterations with error: 1.240713728420401\n",
      "Factor matrices:\n",
      "A = [[ 0.7646871   0.64131625  2.37675471]\n",
      " [ 1.75792958 -0.98610174  2.5526548 ]\n",
      " [ 0.1233991   1.67979261  1.4697178 ]\n",
      " [ 1.13480331  0.06600683  2.36027758]\n",
      " [ 1.62396606 -1.5064117   2.19286606]]\n",
      "B = [[-0.53987444  0.32834696  0.84091885]\n",
      " [-1.09547697 -0.35788144  1.06194058]\n",
      " [ 0.54178161  0.33638343  0.34130077]\n",
      " [ 0.24937771 -0.38953178  0.36669126]]\n",
      "C = [[ 0.10364411 -0.19748671  0.37147213]\n",
      " [ 0.45551915  0.61257788  0.43801429]\n",
      " [ 0.52632258 -0.13122633  0.44228418]]\n"
     ]
    }
   ],
   "source": [
    "np.random.seed(32)\n",
    "\n",
    "import numpy as np\n",
    "from numpy.linalg import pinv\n",
    "\n",
    "def unfold(tensor, mode):\n",
    "    \"\"\"Unfolds a 3D tensor along the specified mode.\"\"\"\n",
    "    return np.reshape(np.moveaxis(tensor, mode, 0), (tensor.shape[mode], -1))\n",
    "\n",
    "def khatri_rao(A, B):\n",
    "    \"\"\"Computes the Khatri-Rao product of matrices A and B.\"\"\"\n",
    "    assert A.shape[1] == B.shape[1], \"Number of columns must match\"\n",
    "    return np.einsum('ir,jr->ijr', A, B).reshape(-1, A.shape[1])\n",
    "\n",
    "def n_mode_product(tensor, matrix, mode):\n",
    "    \"\"\"Computes the n-mode product of a 3D tensor with a matrix along a specified mode.\"\"\"\n",
    "    return np.moveaxis(np.tensordot(matrix, tensor, axes=[1, mode]), 0, mode)\n",
    "\n",
    "def als(tensor, rank, max_iter=100, tol=1e-6):\n",
    "    I, J, K = tensor.shape\n",
    "    A = np.random.rand(I, rank)\n",
    "    B = np.random.rand(J, rank)\n",
    "    C = np.random.rand(K, rank)\n",
    "    \n",
    "    for iteration in range(max_iter):\n",
    "        # Update A\n",
    "        B_khatri_C = khatri_rao(B, C)\n",
    "        A = unfold(tensor, 0) @ pinv(B_khatri_C).T\n",
    "        \n",
    "        # Update B\n",
    "        A_khatri_C = khatri_rao(A, C)\n",
    "        B = unfold(tensor, 1) @ pinv(A_khatri_C).T\n",
    "\n",
    "        # Update C\n",
    "        A_khatri_B = khatri_rao(A, B)\n",
    "        C = unfold(tensor, 2) @ pinv(A_khatri_B).T\n",
    "\n",
    "        # Compute reconstruction error\n",
    "        tensor_approx = np.einsum('ir,jr,kr->ijk', A, B, C)\n",
    "        error = np.linalg.norm(tensor - tensor_approx) #/ np.linalg.norm(tensor)\n",
    "        \n",
    "        if error < tol:\n",
    "            print(f\"Converged in {iteration+1} iterations with error: {error}\")\n",
    "            break\n",
    "    else:\n",
    "        print(f\"Reached max iterations with error: {error}\")\n",
    "        \n",
    "    return A, B, C\n",
    "\n",
    "# Example usage\n",
    "tensor = np.random.rand(5, 4, 3)  # Sample tensor of dimensions 5x4x3\n",
    "rank = 3\n",
    "A, B, C = als(tensor, rank, max_iter=10000)\n",
    "print(\"Factor matrices:\")\n",
    "print(\"A =\", A)\n",
    "print(\"B =\", B)\n",
    "print(\"C =\", C)"
   ]
  },
  {
   "cell_type": "code",
   "execution_count": 13,
   "id": "17b48a9f",
   "metadata": {},
   "outputs": [
    {
     "name": "stdout",
     "output_type": "stream",
     "text": [
      "Factor matrices:\n",
      "U = [[ 0.35265214  0.85827158  0.04048243  0.54530455  0.79240577]\n",
      " [ 0.2671318  -0.40907745  0.69847155  0.02559148 -0.62670029]\n",
      " [ 0.83531624  0.88121007  0.5225565   0.82358496  0.75481422]]\n",
      "V = [[-0.51064829 -1.08654873  0.58485536  0.28162217]\n",
      " [ 0.49235221 -0.53386119  0.5074538  -0.57784799]\n",
      " [ 0.96784433  1.21347027  0.41694325  0.43795114]]\n",
      "W = [[ 0.17219581  0.86460125  1.00397709]\n",
      " [-0.32013416  0.98714509 -0.20763135]\n",
      " [ 0.90446207  1.04222319  1.04718345]]\n",
      "1.24080886290553\n"
     ]
    }
   ],
   "source": [
    "np.random.seed(32)\n",
    "\n",
    "from numpy.linalg import pinv\n",
    "\n",
    "def ALS_3D(R, rank, num_iter = 20, lam = 0.01):\n",
    "    \"\"\"CP decomposition ALS \n",
    "       for Alternative least squares for order two tensor (matrix) \n",
    "       (requires know absolute rank rank)\n",
    "    \"\"\"\n",
    "\n",
    "    global lr_curve\n",
    "\n",
    "    lr_curve = []\n",
    "    \n",
    "    n = R.shape[0]\n",
    "    m = R.shape[1]\n",
    "    k = R.shape[2]\n",
    "    \n",
    "    U = np.random.rand(rank, n)\n",
    "    V = np.random.rand(rank, m)\n",
    "    W = np.random.rand(rank, k)\n",
    "   \n",
    "    \n",
    "    \n",
    "    for iter in range(num_iter):\n",
    "        \n",
    "        \n",
    "        # Update U\n",
    "        R_fold = np.moveaxis(R, 0, 0).reshape((n, m * k))\n",
    "        \n",
    "        V_W = np.einsum('rj,rk->rjk', V, W).reshape(U.shape[0], V.shape[1] * W.shape[1])\n",
    "        \n",
    "        A = V_W @ V_W.T + lam * np.eye(rank, rank)\n",
    "        for u in range(n):\n",
    "            B = R_fold[u, :] @ V_W.T\n",
    "            U[:, u] = np.linalg.solve(A, B)\n",
    "        \n",
    "        #A = V_W\n",
    "        #B = R_fold\n",
    "        \n",
    "        #print(A.shape, B.shape)\n",
    "        \n",
    "        #U = B @ pinv(A).T\n",
    "        \n",
    "        # Update V\n",
    "        R_fold = np.moveaxis(R, 1, 0).reshape((m, n * k))\n",
    "        \n",
    "        U_W = np.einsum('ri,rk->rik', U, W).reshape(U.shape[0], U.shape[1] * W.shape[1])\n",
    "        \n",
    "        A = U_W @ U_W.T + lam * np.eye(rank, rank)\n",
    "        for v in range(m):\n",
    "            B = R_fold[v, :] @ U_W.T\n",
    "            V[:, v] = np.linalg.solve(A, B)\n",
    "\n",
    "        # Update W\n",
    "        R_fold = np.moveaxis(R, 2, 0).reshape((k, n * m))\n",
    "        \n",
    "        U_V = np.einsum('ri,rj->rij', U, V).reshape(W.shape[0], U.shape[1] * V.shape[1])\n",
    "        \n",
    "        A = U_V @ U_V.T + lam * np.eye(rank, rank)\n",
    "        for w in range(k):\n",
    "            B = R_fold[w, :] @ U_V.T\n",
    "            W[:, w] = np.linalg.solve(A, B)        \n",
    "        \n",
    "        \n",
    "        lr_curve.append(np.linalg.norm(R - np.einsum('ri,rj,rk->ijk', U, V, W)))\n",
    "        \n",
    "        \n",
    "    return U, V, W\n",
    "        \n",
    "# Example usage\n",
    "tensor = np.random.rand(5, 4, 3)  # Sample tensor of dimensions 5x4x3\n",
    "rank = 3\n",
    "U, V, W = ALS_3D(tensor, rank, num_iter=10000, lam = 0.001)\n",
    "print(\"Factor matrices:\")\n",
    "print(\"U =\", U)\n",
    "print(\"V =\", V)\n",
    "print(\"W =\", W)\n",
    "print(lr_curve[-1])"
   ]
  },
  {
   "cell_type": "code",
   "execution_count": 14,
   "id": "2710dc08",
   "metadata": {},
   "outputs": [
    {
     "data": {
      "text/plain": [
       "[<matplotlib.lines.Line2D at 0x7a04d19925b0>]"
      ]
     },
     "execution_count": 14,
     "metadata": {},
     "output_type": "execute_result"
    },
    {
     "data": {
      "image/png": "[encoded data removed]",
      "text/plain": [
       "<Figure size 640x480 with 1 Axes>"
      ]
     },
     "metadata": {},
     "output_type": "display_data"
    }
   ],
   "source": [
    "plt.plot(lr_curve)"
   ]
  },
  {
   "cell_type": "code",
   "execution_count": 15,
   "id": "2a1c1888",
   "metadata": {},
   "outputs": [
    {
     "data": {
      "text/plain": [
       "array([[0.80492251, 0.8796494 , 0.58688924, 0.65584735, 0.29043624,\n",
       "        0.38836719, 0.12730549, 0.21281151, 0.75505369, 0.57887068,\n",
       "        0.63183171, 0.9575624 ],\n",
       "       [0.09425337, 0.12772689, 0.40667553, 0.22271941, 0.53159447,\n",
       "        0.83057898, 0.60421553, 0.18538948, 0.38130853, 0.28346655,\n",
       "        0.70331245, 0.25379794],\n",
       "       [0.76139101, 0.27705392, 0.04512082, 0.94255551, 0.51623923,\n",
       "        0.74118788, 0.59841033, 0.99493805, 0.15958447, 0.41761247,\n",
       "        0.4993524 , 0.68251486],\n",
       "       [0.74356294, 0.04570872, 0.5659992 , 0.95207681, 0.86689532,\n",
       "        0.20598575, 0.61122462, 0.4219096 , 0.45027546, 0.04400528,\n",
       "        0.00684583, 0.50835038],\n",
       "       [0.38884269, 0.57835584, 0.1565324 , 0.8933882 , 0.01109693,\n",
       "        0.76347618, 0.77305726, 0.57279222, 0.98148999, 0.00867733,\n",
       "        0.14020093, 0.21361893]])"
      ]
     },
     "execution_count": 15,
     "metadata": {},
     "output_type": "execute_result"
    }
   ],
   "source": [
    "tensor = np.random.rand(5, 4, 3)\n",
    "\n",
    "tensor.reshape(5, 4*3)"
   ]
  },
  {
   "cell_type": "markdown",
   "id": "ce94da3e-844c-42cf-94ee-58b3d328a7a3",
   "metadata": {},
   "source": [
    "## Tucker decomposition"
   ]
  },
  {
   "cell_type": "code",
   "execution_count": 53,
   "id": "b0bf2eda-a5c1-46da-8bb7-ee66ad0f8aa6",
   "metadata": {},
   "outputs": [],
   "source": [
    "def HOSVD_3d(A, r1, r2, r3):\n",
    "    N1, N2, N3 = A.shape\n",
    "    \n",
    "    A1 = A.reshape(N1, N2*N3)\n",
    "    U1, s, V = np.linalg.svd(A1, full_matrices = False)\n",
    "    U1 = U1[:, :r1]\n",
    "    \n",
    "    A2 = A.transpose([1, 0, 2])\n",
    "    A2 = A2.reshape(N2, N1*N3)\n",
    "    U2, s, V = np.linalg.svd(A2, full_matrices = False)\n",
    "    U2 = U2[:, :r2]\n",
    "    \n",
    "    A3 = A.transpose([2, 0, 1])\n",
    "    A3 = A3.reshape(N3, N1*N2)\n",
    "    U3, s, V = np.linalg.svd(A3, full_matrices = False)\n",
    "    U3 = U3[:, :r3]\n",
    "    \n",
    "    G = np.einsum('ia,ibc->abc', U1, np.einsum('jb,ijc->ibc', U2, np.einsum('kc,ijk->ijc', U3, A)))\n",
    "\n",
    "    return G, U1, U2, U3\n",
    "\n",
    "def stHOSVD_3d(A, r1, r2, r3):\n",
    "    \"\"\"Construct Tucker decomposition of 3D tensor via stHOSVD with ranks [r1, r2, r3]\"\"\"\n",
    "    N1, N2, N3 = A.shape\n",
    "    A1 = A.reshape(N1, N2*N3)\n",
    "    U, s, V = np.linalg.svd(A1, full_matrices = False)\n",
    "\n",
    "    U1 = U[:, :r1] # N1 x r1\n",
    "    \n",
    "    A1 = np.diag(s[:r1]) @ V[:r1, :] # r1 x N2*N3\n",
    "    A1 = A1.reshape(r1, N2, N3)\n",
    "    A1 = A1.transpose(1, 0, 2)\n",
    "    A1 = A1.reshape(N2, r1 * N3) # N2 x r1 * N3\n",
    "    U, s, V = np.linalg.svd(A1, full_matrices = False)\n",
    "    U2 = U[:, :r2] # N2 x r2\n",
    "    \n",
    "    A2 = np.diag(s[:r2]) @ V[:r2, :]# r2 x r1 * N3\n",
    "    A2 = A2.reshape(r2, r1, N3) # r2 x r1 x N3\n",
    "    A2 = A2.transpose([2, 1, 0]) # r1 x r2 x N3\n",
    "    A2 = A2.reshape(N3, r1 * r2) # N3, r1 * r2\n",
    "    U, s, V = np.linalg.svd(A2, full_matrices = False)\n",
    "    U3 = U[:, :r3] # U3(k, r)\n",
    "    G = np.diag(s[:r3]) @ V[:r3, :] # r3, r1 * r2\n",
    "    \n",
    "    G = G.reshape(r3, r1, r2) # main core\n",
    "    G = G.transpose([1, 2, 0]) # main core\n",
    "    \n",
    "    #G = G.reshape(r1, r2, r3) # main core\n",
    "    return G, U1, U2, U3"
   ]
  },
  {
   "cell_type": "code",
   "execution_count": 57,
   "id": "28aebd55-e85d-4aac-a41e-1a369b60a556",
   "metadata": {},
   "outputs": [
    {
     "name": "stdout",
     "output_type": "stream",
     "text": [
      "(2, 2, 2) (5, 2) (4, 2) (3, 2)\n"
     ]
    },
    {
     "data": {
      "text/plain": [
       "1.7680147534532424"
      ]
     },
     "execution_count": 57,
     "metadata": {},
     "output_type": "execute_result"
    }
   ],
   "source": [
    "tensor = np.random.rand(5, 4, 3)  # Sample tensor of dimensions 5x4x3\n",
    "r1, r2, r3 = 2, 2, 2\n",
    "G, U1, U2, U3 = stHOSVD_3d(tensor, r1, r2, r3)\n",
    "\n",
    "\n",
    "print(G.shape, U1.shape, U2.shape, U3.shape)\n",
    "np.linalg.norm(tensor - np.einsum('ia,ajk->ijk', U1, np.einsum('jb,abk->ajk', U2, np.einsum('kc,abc->abk', U3, G))))"
   ]
  },
  {
   "cell_type": "code",
   "execution_count": 58,
   "id": "34eb159a-6e05-4aa3-8638-c6d34bf98897",
   "metadata": {},
   "outputs": [
    {
     "name": "stdout",
     "output_type": "stream",
     "text": [
      "(2, 2, 2) (5, 2) (4, 2) (3, 2)\n"
     ]
    },
    {
     "data": {
      "text/plain": [
       "1.4933024770559322"
      ]
     },
     "execution_count": 58,
     "metadata": {},
     "output_type": "execute_result"
    }
   ],
   "source": [
    "tensor = np.random.rand(5, 4, 3)  # Sample tensor of dimensions 5x4x3\n",
    "r1, r2, r3 = 2, 2, 2\n",
    "G, U1, U2, U3 = HOSVD_3d(tensor, r1, r2, r3)\n",
    "\n",
    "\n",
    "print(G.shape, U1.shape, U2.shape, U3.shape)\n",
    "np.linalg.norm(tensor - np.einsum('ia,ajk->ijk', U1, np.einsum('jb,abk->ajk', U2, np.einsum('kc,abc->abk', U3, G))))"
   ]
  },
  {
   "cell_type": "markdown",
   "id": "f2783122-eec9-4116-bea6-91937d8f4c4d",
   "metadata": {},
   "source": [
    "## TT decomposition"
   ]
  },
  {
   "cell_type": "code",
   "execution_count": 32,
   "id": "f79fe9e3-b451-4d86-a733-fa8f43f86a0b",
   "metadata": {},
   "outputs": [],
   "source": [
    "def TTSVD_3d(A, r1, r2):\n",
    "    N1, N2, N3 = A.shape\n",
    "    A1 = A.reshape(N1, N2 * N3)\n",
    "    U, s, V = np.linalg.svd(A1, full_matrices=False)\n",
    "    \n",
    "    G1 = U[:, :r1] # N1 x r1\n",
    "    V1 = np.diag(s[:r1]) @ V[:r1, :] # r1 x N2 * N3\n",
    "\n",
    "    V1 = V1.reshape(r1 * N2, N3)\n",
    "    U, s, V = np.linalg.svd(V1, full_matrices = False)\n",
    "    G2 = U[:, :r2] # r1*N2 x r2\n",
    "    G2 = G2.reshape(r1, N2, r2) # r1 x N2 x r2\n",
    "    G3 = np.diag(s[:r2]) @ V[:r2, :] # r2 x N3\n",
    "\n",
    "    return G1, G2, G3"
   ]
  },
  {
   "cell_type": "code",
   "execution_count": 43,
   "id": "7bceb10c-70fc-447f-8265-c77a8efb51bb",
   "metadata": {},
   "outputs": [
    {
     "name": "stdout",
     "output_type": "stream",
     "text": [
      "(3, 3, 3) (3, 5) (3, 4) (3, 3)\n"
     ]
    },
    {
     "data": {
      "text/plain": [
       "3.727549004879978e-15"
      ]
     },
     "execution_count": 43,
     "metadata": {},
     "output_type": "execute_result"
    }
   ],
   "source": [
    "tensor = np.random.rand(5, 4, 3)  # Sample tensor of dimensions 5x4x3\n",
    "r1, r2 = 5, 3\n",
    "G1, G2, G3 = TTSVD_3d(tensor, r1, r2)\n",
    "\n",
    "\n",
    "print(G.shape, V1.shape, V2.shape, V3.shape)\n",
    "np.linalg.norm(tensor - np.einsum('ijb,bk->ijk', np.einsum('ia,ajb->ijb', G1, G2), G3))"
   ]
  },
  {
   "cell_type": "code",
   "execution_count": null,
   "id": "ef43a9de-a8ff-4a16-98f5-5c84b94a7448",
   "metadata": {},
   "outputs": [],
   "source": []
  }
 ],
 "metadata": {
  "kernelspec": {
   "display_name": "GPPhad",
   "language": "python",
   "name": "gpphad"
  },
  "language_info": {
   "codemirror_mode": {
    "name": "ipython",
    "version": 3
   },
   "file_extension": ".py",
   "mimetype": "text/x-python",
   "name": "python",
   "nbconvert_exporter": "python",
   "pygments_lexer": "ipython3",
   "version": "3.9.15"
  }
 },
 "nbformat": 4,
 "nbformat_minor": 5
}
